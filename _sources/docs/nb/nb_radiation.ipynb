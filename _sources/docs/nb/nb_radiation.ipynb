{
 "cells": [
  {
   "cell_type": "markdown",
   "id": "e05e39ce-fb35-4188-ad1e-7e2657a76719",
   "metadata": {},
   "source": [
    "(nb_radiation)=\n",
    "# Radiation and ground heat flux\n",
    "\n",
    "While large-scale weather shapes environmental conditions, energy exchange in mountain valleys is controlled by micrometeorological conditions. Given the complex topography with its different surface properties, it is not trivial to close the scale gap between the large-scale conditions and the local properties. The micrometeorological state of the surface layer is directly influenced by the Earth's surface and responds rapidly to changes in the surface energy budget. Radiative and turbulent heat fluxes cool and heat the near-surface air layer and determine the temperature distribution over the topography. Local temperature surpluses and deficits generate upwelling forces that drive thermal wind systems, including valley circulations, slope and glacier winds\n"
   ]
  },
  {
   "cell_type": "markdown",
   "id": "7480f1ba-ac62-4746-a594-a80c6d096e15",
   "metadata": {},
   "source": [
    "<div class=\"alert alert-block alert-success\">\n",
    "<b>Learning objectives:</b><br>\n",
    "<ul>\n",
    " <li>Parametrization of radiation fluxes</li>\n",
    " <li>Ground heat flux</li>\n",
    "</ul>  \n",
    "</div>"
   ]
  },
  {
   "cell_type": "markdown",
   "id": "b40533f9-c55f-4839-8388-85228b8b62b2",
   "metadata": {
    "tags": []
   },
   "source": [
    "<div class=\"alert alert-block alert-info\">\n",
    "<b>Prerequisites</b><br>\n",
    "<ul>\n",
    "<li>Basic knowledge of Python, Jupyter Notebooks, and data analysis</li>\n",
    "<li>Familiarity with MetPy, Pandas, Xarray, and Plotly</li>\n",
    "    <li>The additional package <b>xrspatial</b> must be installed\n",
    "<li>A netcdf file with the shadings and sky-view factors (can be downloaded <a href=\"https://box.hu-berlin.de/f/fad79e62bbfe4403a604/?dl=1\" download>here</a>)\n",
    "<li>Download <a href=\"https://box.hu-berlin.de/f/c410656d0ea844149cfa/?dl=1\" download>here</a> the hu_tools library\n",
    "<li>Download <a href=\"https://box.hu-berlin.de/f/a12a656832104b7487c5/?dl=1\" download>here</a> the digital elevation model of Torres des Paine\n",
    "</ul>  \n",
    "</div>"
   ]
  },
  {
   "cell_type": "code",
   "execution_count": null,
   "id": "4a207715-e72f-4e8a-8209-f3c8be35a612",
   "metadata": {
    "tags": []
   },
   "outputs": [],
   "source": [
    "import numpy as np\n",
    "import pandas as pd\n",
    "import math\n",
    "import xarray as xr\n",
    "\n",
    "# Import the plotly library\n",
    "from plotly.subplots import make_subplots\n",
    "import plotly.subplots as sp\n",
    "import plotly.graph_objs as go"
   ]
  },
  {
   "cell_type": "markdown",
   "id": "9f6ad192-c9e3-4a26-ae9b-04670df5be12",
   "metadata": {},
   "source": [
    "This exercise uses functions from the module HU_learning_material. The module was developed for this course and consists of a collection of functions discussed in the course. The module can be used with"
   ]
  },
  {
   "cell_type": "code",
   "execution_count": null,
   "id": "65b310ff-51ce-45ee-98ec-a95e79ac4e76",
   "metadata": {
    "tags": []
   },
   "outputs": [],
   "source": [
    "# Import the learning module\n",
    "from hu_tools import HU_learning_material"
   ]
  },
  {
   "cell_type": "markdown",
   "id": "85bf3940-f10d-4c57-8a15-53d6a3a2aed4",
   "metadata": {
    "tags": []
   },
   "source": [
    "This is a so-called Python class. The class is called **HU_learning_material** and must be instantiated. This is done with"
   ]
  },
  {
   "cell_type": "code",
   "execution_count": null,
   "id": "6c3a0e0f-f761-4b43-a39a-90de934300ae",
   "metadata": {
    "tags": []
   },
   "outputs": [],
   "source": [
    "#-----------------------------\n",
    "# Load the learning materials\n",
    "#-----------------------------\n",
    "hu = HU_learning_material()"
   ]
  },
  {
   "cell_type": "markdown",
   "id": "143caf59-304f-4273-884e-398fb6fd5d14",
   "metadata": {},
   "source": [
    "The functions can then be accessed with **hu***.function()*, where the placeholder *function* stands for the various functions available. With the following command, all functions/methods within the class can be displayed."
   ]
  },
  {
   "cell_type": "code",
   "execution_count": null,
   "id": "22a02082-6a75-4d97-b389-ffb2bc3559e5",
   "metadata": {
    "tags": []
   },
   "outputs": [],
   "source": [
    "class_methods = [method for method in dir(hu)\n",
    "                 if not method.startswith('__')\n",
    "                 and callable(getattr(hu, method))\n",
    "                 ]\n",
    "print(class_methods) "
   ]
  },
  {
   "cell_type": "markdown",
   "id": "c5eb436a-ac34-446d-b8cf-a004e7e9638b",
   "metadata": {},
   "source": [
    "You can find out more about the function/method and its arguments with"
   ]
  },
  {
   "cell_type": "code",
   "execution_count": null,
   "id": "f354c1ef-f447-40ad-a1b9-8cb09d0a0bb4",
   "metadata": {
    "tags": []
   },
   "outputs": [],
   "source": [
    "# Example: Information about the emissivity() method\n",
    "help(hu.emissivity)"
   ]
  },
  {
   "cell_type": "markdown",
   "id": "e1916a83-6ef2-4f46-8479-78d9be922013",
   "metadata": {},
   "source": [
    "# Solar parameters and transmissivity"
   ]
  },
  {
   "cell_type": "markdown",
   "id": "e3efd893-fa34-4c25-ab30-321b8592a1f5",
   "metadata": {},
   "source": [
    "We start with solar paramters and transmissivity (see slides). To calculate the local elevation angle of the sun, we need the coordinates of the location and the time."
   ]
  },
  {
   "cell_type": "code",
   "execution_count": null,
   "id": "3875bc78-7e63-4911-94e1-75d66411348d",
   "metadata": {
    "tags": []
   },
   "outputs": [],
   "source": [
    "#----------------------\n",
    "# Site\n",
    "#----------------------\n",
    "lat = 45.0  # Latitude of location\n",
    "lon = 10.0  # Longitud of location\n",
    "UTC = 19.5  # UTC at location"
   ]
  },
  {
   "cell_type": "markdown",
   "id": "bf00cb2a-9695-4c07-9951-203ce41a5c78",
   "metadata": {
    "tags": []
   },
   "source": [
    "First, we create a time vector for the period for which we want to calculate the local sun angle."
   ]
  },
  {
   "cell_type": "code",
   "execution_count": null,
   "id": "51de41e9-f394-4a4b-ae6e-1de05e2c7247",
   "metadata": {
    "tags": []
   },
   "outputs": [],
   "source": [
    "# Create a date vector for which the solar parameters and transmisivity are calculated\n",
    "timestamp = pd.date_range(start='01-01-2002', end='31-12-2002', freq='D')"
   ]
  },
  {
   "cell_type": "markdown",
   "id": "e8d6aa07-8683-4995-8639-e9ee47087393",
   "metadata": {},
   "source": [
    "Then we can calculate the angle with the function **local_elevation_angle()**. The function returns the sine of the angle (see slides). To obtain the final angle (radian), the arc sine of this value must be taken. Finally, we convert the radian into degrees with the function **rad2deg()**."
   ]
  },
  {
   "cell_type": "code",
   "execution_count": null,
   "id": "43a03b59-d914-415b-9f32-a54ca88a3211",
   "metadata": {
    "tags": []
   },
   "outputs": [],
   "source": [
    "# Local elevation angle using th HU-Tools\n",
    "angle = np.rad2deg(np.arcsin(hu.local_elevation_angle(lat,lon,UTC,timestamp.dayofyear,173,timestamp.size)))"
   ]
  },
  {
   "cell_type": "markdown",
   "id": "a439c40d-7212-464f-80b5-763a8daf9cb6",
   "metadata": {},
   "source": [
    "For the calculation of the transmissivity, the proportions of the cloud cover in the different cloud levels are required. "
   ]
  },
  {
   "cell_type": "code",
   "execution_count": null,
   "id": "268c3f45-7110-4d16-9b08-afe9418cde56",
   "metadata": {
    "tags": []
   },
   "outputs": [],
   "source": [
    "#----------------------\n",
    "# Parameters\n",
    "#----------------------\n",
    "ch = 0.0    # High cloud fraction\n",
    "cm = 0.0    # Middle cloud fraction\n",
    "cl = 0.0    # Low cloud fraction"
   ]
  },
  {
   "cell_type": "markdown",
   "id": "f4dc0cb4-0e2e-42e8-8b96-cfc657d7e5e9",
   "metadata": {},
   "source": [
    "This allows the transmissivity at a given place and time to be approximated using the function **tau()**."
   ]
  },
  {
   "cell_type": "code",
   "execution_count": null,
   "id": "74499603-20fb-45fe-ab9d-7b7bb3b08ba5",
   "metadata": {
    "tags": []
   },
   "outputs": [],
   "source": [
    "# Calculate transmissivity using th HU-Tools\n",
    "data  = hu.tau(ch, cm, cl, lat, lon, UTC, timestamp.dayofyear, 173, timestamp.size)"
   ]
  },
  {
   "cell_type": "markdown",
   "id": "9d2c4111-abd5-4440-a4f4-bd4687275eb2",
   "metadata": {},
   "source": [
    "To facilitate working with the results, we write the results into a Pandas DataFrame."
   ]
  },
  {
   "cell_type": "code",
   "execution_count": null,
   "id": "01321842-8d52-4ed3-9923-0851cc86a270",
   "metadata": {
    "tags": []
   },
   "outputs": [],
   "source": [
    "# Create a pandas DataFrame from the calculated arrays and the date vector\n",
    "df = pd.DataFrame(data, index=timestamp, columns=['tau'])\n",
    "\n",
    "# Add the local elevation angle to the DataFrame\n",
    "df['angle'] = angle"
   ]
  },
  {
   "cell_type": "markdown",
   "id": "51da873b-45ba-4d8f-83b7-397f0154dbdc",
   "metadata": {},
   "source": [
    "Plotly is a good way to display the data."
   ]
  },
  {
   "cell_type": "code",
   "execution_count": null,
   "id": "31750d5b-789a-4c47-9d59-0ea81f446a1c",
   "metadata": {
    "tags": []
   },
   "outputs": [],
   "source": [
    "#----------------------\n",
    "# Plot the results\n",
    "#----------------------\n",
    "# Creating the plot with two rows and one column. The plots share the same x-axis so that only labels \n",
    "# for the lower plots are shown\n",
    "fig = make_subplots(rows=2, cols=1, shared_xaxes=True)\n",
    "\n",
    "# Adding the transmissivity data as a  line in the top panel\n",
    "fig.add_trace(go.Scatter(x=df.index, y=df.tau, line=dict(color='royalblue', dash='solid'), name='Transmissitivty [-]'),\n",
    "                        row=1, col=1)\n",
    "\n",
    "# Adding the local elevation angle as line in the bottom panel\n",
    "fig.add_trace(go.Scatter(x=df.index, y=df.angle, line=dict(color='green', dash='solid'), name='Local elevation angle [º]'),\n",
    "                         row=2, col=1)\n",
    "\n",
    "# Adjusting the layout\n",
    "fig.update_layout(title='Transmissivity and local elevation angle', plot_bgcolor='white', width=800, height=600,\n",
    "                  yaxis=dict(title='Transmissitivty [-]', showgrid=True, gridcolor='lightgray', gridwidth=1),\n",
    "                  yaxis2=dict(title='Local elevation angle [º]', showgrid=True, gridcolor='lightgray', gridwidth=1),\n",
    "                  xaxis=dict(title='', tickformat='%d.%m.%Y', showgrid=True, gridcolor='lightgray', gridwidth=1),\n",
    "                  xaxis2=dict(title='Date', tickformat='%d.%m.%Y', showgrid=True, gridcolor='lightgray', gridwidth=1))\n",
    "\n",
    "\n",
    "# Adjusting the axes\n",
    "fig.update_xaxes(nticks=10, row=1, col=1)\n",
    "fig.update_yaxes(nticks=5, row=1, col=1)\n",
    "fig.update_xaxes(nticks=10, row=2, col=1)\n",
    "fig.update_yaxes(nticks=5, row=2, col=1)\n",
    "\n",
    "# Showing the plot\n",
    "fig.show()"
   ]
  },
  {
   "cell_type": "markdown",
   "id": "065be03e-516f-46c5-836e-1f9c24f7c46e",
   "metadata": {},
   "source": [
    "<div class=\"alert alert-block alert-warning\">\n",
    "<b>Broaden Knowledge & Comprehension</b></br>\n",
    "In what period of time is the sun still above the horizon at 45º north and 10º east after 7:30pm?\n",
    "How sensitive is the transmissivity to clouds in the low, middle and high atmosphere? Look at the equation for transmissivity and find out why there are differences. What is a weakness of the parameterisation?\n",
    "</div>"
   ]
  },
  {
   "cell_type": "markdown",
   "id": "6882b5ef-03b1-4d5e-8fff-181e41586266",
   "metadata": {},
   "source": [
    "# Shortwave radiation and albedo"
   ]
  },
  {
   "cell_type": "markdown",
   "id": "0aa7212a-1ad5-4fd5-9ffc-9b2acc209bac",
   "metadata": {
    "tags": []
   },
   "source": [
    "Most weather stations measure the short-wave irradiation directly.  If the albedo of the surfaces is known, the short-wave radiation balance can be calculated very easily."
   ]
  },
  {
   "cell_type": "code",
   "execution_count": null,
   "id": "96666365-c882-4c33-84b9-60c09100adcd",
   "metadata": {
    "tags": []
   },
   "outputs": [],
   "source": [
    "albedo = 0.7  # [-] \n",
    "SWin = 342    # W/mˆ2\n",
    "\n",
    "print('Incoming shortwave radiation: {:.2f}'.format(SWin))\n",
    "print('Outgoing shortwave radiation: {:.2f}'.format(hu.SWout(SWin,albedo)))\n",
    "print('Net shortwave radiation: {:.2f}'.format(SWin-hu.SWout(SWin,albedo)))"
   ]
  },
  {
   "cell_type": "markdown",
   "id": "cd4153ca-2741-44bf-9847-018e2b0509ff",
   "metadata": {},
   "source": [
    "<div class=\"alert alert-block alert-warning\">\n",
    "<b>Broaden Knowledge & Comprehension</b></br>\n",
    "Review the 'Global Energy Fluxes' figure on slide 4 of the presentation and identify the outgoing shortwave radiation. Use this information to determine the global albedo.\n",
    "\n",
    "Here the value 342 $W/m^{2}$ was used, which corresponds to the average global incoming solar radiation. Why is this value lower than the solar constant, which has a value of ~1362 $W/m^{2}$?\n",
    "</div>\n"
   ]
  },
  {
   "cell_type": "markdown",
   "id": "e1164ac3-1231-47d0-b909-a5b206b70a5b",
   "metadata": {},
   "source": [
    "In many cases it is necessary to calculate the direct and diffuse radiation in complex terrain. In order to calculate the radiation fluxes, the shading effects must be taken into account. In this section we briefly discuss how this can be done.\n",
    "\n",
    "First, we load the digital elevation model. The georeferenced Geotiff has already been saved here in netcdf format."
   ]
  },
  {
   "cell_type": "code",
   "execution_count": null,
   "id": "8ba5dfcf-f4fe-4194-ad06-de21b7d7e75d",
   "metadata": {
    "tags": []
   },
   "outputs": [],
   "source": [
    "#------------------------------\n",
    "# Read digital elevation model\n",
    "#------------------------------\n",
    "dem = xr.open_dataset('paine_elevation.nc')\n",
    "dem"
   ]
  },
  {
   "cell_type": "markdown",
   "id": "9f391247-57ca-4af3-b22d-73cd5b23ea68",
   "metadata": {},
   "source": [
    "The file contains the variable band_data which contains the height information. The dimension of the variable is band_data(x, y) where x corresponds to the longitude values and y to the latitude values. We can now read the 2D data from the variable *band_data* from the file and do a quick plot."
   ]
  },
  {
   "cell_type": "code",
   "execution_count": null,
   "id": "0392be7f-0d29-4e0c-9857-673552038684",
   "metadata": {
    "tags": []
   },
   "outputs": [],
   "source": [
    "# Read the elevation data from netcdf file\n",
    "elvgrid = dem['band_data']"
   ]
  },
  {
   "cell_type": "markdown",
   "id": "7d7ad4a9-cc9f-4b81-a31e-ba5986683235",
   "metadata": {},
   "source": [
    "For the calculation of the shading effects, the slope and aspect of the cells must also be specified. For this you can use the library **xrspatial** which provides the two functions **slope()** and **aspect()**. The terrain model is passed to the two functions and the corresponding grid is returned."
   ]
  },
  {
   "cell_type": "code",
   "execution_count": null,
   "id": "9ab75356-ccb9-4140-baf4-31c64f2b5bd7",
   "metadata": {
    "tags": []
   },
   "outputs": [],
   "source": [
    "# Load the xrspatial library\n",
    "from xrspatial import slope, aspect\n",
    "\n",
    "# Read slope data\n",
    "slopegrid = slope(elvgrid)\n",
    "# Read aspect data\n",
    "aspectgrid = aspect(elvgrid)"
   ]
  },
  {
   "cell_type": "markdown",
   "id": "0f3af643-482e-465b-96da-ae637bfa50bb",
   "metadata": {},
   "source": [
    "Again, use plotly to plot the data"
   ]
  },
  {
   "cell_type": "code",
   "execution_count": null,
   "id": "e5225455-2fa8-4fc7-b4ef-81fff148fa3b",
   "metadata": {
    "tags": []
   },
   "outputs": [],
   "source": [
    "#---------------------------\n",
    "# Plot data\n",
    "#---------------------------\n",
    "# Generate sample data\n",
    "x = dem.x\n",
    "y = dem.y\n",
    "X, Y = np.meshgrid(x, y)\n",
    "\n",
    "# Create the subplots\n",
    "fig = sp.make_subplots(rows=1, cols=3)\n",
    "\n",
    "# Add the first subplot\n",
    "fig.add_trace(go.Contour(x=x, y=y, z=slopegrid, colorscale='Viridis', showscale=True,\n",
    "                         colorbar=dict(x=0.12, y=-0.35, len=0.2, yanchor='bottom', orientation='h',\n",
    "                                      title=r'Slope in degrees', titleside='top')), row=1, col=1)\n",
    "\n",
    "# Add the second subplot\n",
    "fig.add_trace(go.Contour(x=x, y=y, z=aspectgrid, colorscale='YlOrRd', showscale=True,\n",
    "                         colorbar=dict(x=0.5, y=-0.35, len=0.2, yanchor='bottom', orientation='h', \n",
    "                                       title=r'Aspect in degrees north', titleside='top')), row=1, col=2)\n",
    "\n",
    "# Add the second subplot\n",
    "fig.add_trace(go.Contour(x=x, y=y, z=elvgrid, colorscale='YlOrRd', showscale=True,\n",
    "                         colorbar=dict(x=0.85, y=-0.35, len=0.2, yanchor='bottom', orientation='h', \n",
    "                                       title=r'Digital elevation model', titleside='top')), row=1, col=3)\n",
    "\n",
    "# Add title and axis labels\n",
    "fig.update_layout(\n",
    "    xaxis=dict(title='Longitude',title_standoff=5),\n",
    "    xaxis2=dict(title='Longitude',title_standoff=5),\n",
    "    yaxis_title='Latitude',\n",
    "    width=1200,  # Set the width of the figure\n",
    "    height=600  # Set the height of the figure\n",
    ")\n",
    "\n",
    "# Show the plot\n",
    "fig.show()"
   ]
  },
  {
   "cell_type": "markdown",
   "id": "ff7fb90c-cc0f-4ac3-88c8-b987554dba6d",
   "metadata": {
    "tags": []
   },
   "source": [
    "For simplicity, the shading and the sky-view factor for the terrain model have already been calculated and written into the file LUT_Rad.nc. However, the two functions **LUTshad()** and **LUTsvf()** are available with which both can be calculated (caution: the calculations take a very long time depending on the DEM). We load the sky-view factor and the shading for a complete in the variables *svf* and *shad1yr*."
   ]
  },
  {
   "cell_type": "code",
   "execution_count": null,
   "id": "e9342555-d04b-4a1c-a421-9e8fb956a932",
   "metadata": {
    "tags": []
   },
   "outputs": [],
   "source": [
    "# Load the dataset\n",
    "ds_LUT = xr.open_dataset('LUT_Rad.nc')\n",
    "\n",
    "# Read the shading field for a complete year\n",
    "shad1yr = ds_LUT.SHADING.values\n",
    "\n",
    "# Read the sky-view factor\n",
    "svf = ds_LUT.SVF.values"
   ]
  },
  {
   "cell_type": "markdown",
   "id": "55d6e841-cc43-4703-9ce9-454039d08358",
   "metadata": {},
   "source": [
    "Direct and diffuse radiation both depend on several variables: Temperature, pressure, humidity and cloudiness. We assume that the same conditions prevail throughout the domain. To do this, we create new 2D arrays with the corresponding values. "
   ]
  },
  {
   "cell_type": "code",
   "execution_count": null,
   "id": "377d016f-cc62-431e-a018-902f01797260",
   "metadata": {
    "tags": []
   },
   "outputs": [],
   "source": [
    "# Create additional arrays which are needed by the radiation module\n",
    "# Temperature grid\n",
    "tempgrid = np.ones_like(elvgrid) * 285.0\n",
    "# Pressure grid\n",
    "pgrid = np.ones_like(elvgrid) * 1000.0\n",
    "# Relative humditiy grid\n",
    "rhgrid = np.ones_like(elvgrid) * 70\n",
    "# Cloud grid\n",
    "ngrid = np.ones_like(elvgrid) * 0.0\n",
    "# Mask grid (in case only part of the DEM is used\n",
    "maskgrid = xr.zeros_like(elvgrid)"
   ]
  },
  {
   "cell_type": "markdown",
   "id": "11682b49-d86d-414d-b7b9-d4299199dd66",
   "metadata": {
    "tags": []
   },
   "source": [
    "Now we can use this information to calculate the radiation fluxes."
   ]
  },
  {
   "cell_type": "code",
   "execution_count": null,
   "id": "0ac0187a-2ced-4894-b152-10bfe86caf75",
   "metadata": {
    "tags": []
   },
   "outputs": [],
   "source": [
    "# Site information\n",
    "lat = -50.9 # Latitude of the domain center\n",
    "doy = 15    # Doy of the year\n",
    "hour = 14   # Hour of the day\n",
    "tcart = 0   # Time shifts [do not change]\n",
    "dtstep = 3*3600 # Time step between the shading values [do not change]\n",
    "\n",
    "# Get lon/lat values from the elevation model\n",
    "lons = elvgrid.x\n",
    "lats = elvgrid.y\n",
    "\n",
    "#---------------------------\n",
    "# Calculate solar Parameters\n",
    "#---------------------------\n",
    "solPars, timeCorr = hu.solpars(lats[0])\n",
    "\n",
    "#---------------------------\n",
    "# Calc radiation\n",
    "#---------------------------\n",
    "A = hu.calcRad(solPars, timeCorr, doy, hour, lat, tempgrid[::-1, :], pgrid[::-1, :], rhgrid[::-1, :], \n",
    "        ngrid[::-1, :], np.flipud(elvgrid), np.flipud(maskgrid), np.flipud(slopegrid), np.flipud(aspectgrid), shad1yr, svf, dtstep, tcart)"
   ]
  },
  {
   "cell_type": "markdown",
   "id": "8fe5d209-3c23-4e48-814f-0c5e4809ac95",
   "metadata": {},
   "source": [
    "Plot the fields"
   ]
  },
  {
   "cell_type": "code",
   "execution_count": null,
   "id": "39c71ce8-7254-43bd-9416-d13aded4ba6d",
   "metadata": {
    "tags": []
   },
   "outputs": [],
   "source": [
    "#---------------------------\n",
    "# Plot data\n",
    "#---------------------------\n",
    "# Generate sample data\n",
    "x = dem.x\n",
    "y = dem.y\n",
    "X, Y = np.meshgrid(x, y)\n",
    "\n",
    "# Create the subplots\n",
    "fig = sp.make_subplots(rows=1, cols=2)\n",
    "\n",
    "# Add the first subplot\n",
    "fig.add_trace(go.Contour(x=x, y=y, z=elvgrid, colorscale='Viridis', showscale=True,\n",
    "                         colorbar=dict(x=0.2, y=-0.22, len=0.4, yanchor='bottom', orientation='h',\n",
    "                                      title=r'$\\text{Incoming shortwave radiation}~\\text{W} m^{-2}$', titleside='top')), row=1, col=1)\n",
    "\n",
    "# Add the second subplot\n",
    "fig.add_trace(go.Contour(x=x, y=y, z=A, colorscale='YlOrRd', showscale=True,\n",
    "                         colorbar=dict(x=0.8, y=-0.22, len=0.4, yanchor='bottom', orientation='h', \n",
    "                                       title=r'$\\text{Incoming shortwave radiation}~\\text{W} m^{-2}$', titleside='top')), row=1, col=2)\n",
    "\n",
    "\n",
    "\n",
    "# Add title and axis labels\n",
    "fig.update_layout(\n",
    "    xaxis=dict(title='Longitude',title_standoff=5),\n",
    "    xaxis2=dict(title='Longitude',title_standoff=5),\n",
    "    yaxis_title='Latitude',\n",
    "    width=1200,  # Set the width of the figure\n",
    "    height=600  # Set the height of the figure\n",
    ")\n",
    "\n",
    "# Show the plot\n",
    "fig.show()"
   ]
  },
  {
   "cell_type": "markdown",
   "id": "2e511549-067a-4c46-87bd-3382eb1b3e44",
   "metadata": {},
   "source": [
    "<div class=\"alert alert-block alert-warning\">\n",
    "<b>Broaden Knowledge & Comprehension</b></br>\n",
    "Which areas receive the highest levels of radiation? How does the field change during the day? What would the field look like with the same topography in the northern hemisphere?\n",
    "</div>\n"
   ]
  },
  {
   "cell_type": "markdown",
   "id": "1559d634-2d25-41d8-8ac1-0380538143e6",
   "metadata": {},
   "source": [
    "# Longwave radiation"
   ]
  },
  {
   "cell_type": "markdown",
   "id": "c4a0fc45-58c1-42cb-9e73-a4b340fe21b3",
   "metadata": {},
   "source": [
    "Long-wave radiation fluxes are important terms in the net radiation balance. The long-wave radiation based on the Stephan-Boltzmann equation can be calculated with the function **LW()** of the **HU_learning_material** class. It is also possible to calculate the wavelength of the emission maximum with Kirchoff's law using the **lambda_max()** function.\n",
    "\n",
    "Let's assume the emissivity of the body is 1.0 ..."
   ]
  },
  {
   "cell_type": "code",
   "execution_count": null,
   "id": "a4a79e67-c4af-4d23-a37c-b0010b4c2b9d",
   "metadata": {
    "tags": []
   },
   "outputs": [],
   "source": [
    "# Define a emissivity\n",
    "epsilon = 1.0\n",
    "\n",
    "# Radiated energy at zero degrees celcius\n",
    "print('Radiated energy at zero degrees celcius: {:.4}'.format(hu.LW(epsilon, 273)))\n",
    "\n",
    "# Wave length of emission maximum\n",
    "print('Wave length of emission maximum: {:.4}'.format(hu.lambda_max(273)))"
   ]
  },
  {
   "cell_type": "markdown",
   "id": "61100388-128d-4a36-bca5-b4ac7ae408a2",
   "metadata": {},
   "source": [
    "<div class=\"alert alert-block alert-success\">\n",
    "<b>Evaluate and Analyze</b><br>\n",
    "<ul>\n",
    "<li>Calculate the long-wave radiation for different temperatures. What is the relationship between temperature and radiated energy? [Hint: Take a look at the Stephan-Boltzmann Law]\n",
    "<li>Plot the wavelength of the emission maximum against the radiated energy in the range from 250 K to 310 K. Which gases absorb in this spectral range? Comment on the influence of the most important gases on the greenhouse effect?\n",
    "<li>Compare the values with those of the short-wave radiation. What are the most important radiation terms on a summer day in the mountains?\n",
    "</ul>\n",
    "</div>"
   ]
  },
  {
   "cell_type": "markdown",
   "id": "5d4b1297-7677-47a8-b2ba-d7be2f35edf3",
   "metadata": {
    "tags": []
   },
   "source": [
    "<div class=\"alert alert-block alert-warning\">\n",
    "<b>Broaden Knowledge & Comprehension</b></br>\n",
    "What must be taken into account when measuring long-wave radiation in order to obtain reliable values?\n",
    "</div>"
   ]
  },
  {
   "cell_type": "markdown",
   "id": "4534d8f2-2dd4-421d-aa28-f93a80f9e990",
   "metadata": {},
   "source": [
    "# Ground heat flux and heat equation"
   ]
  },
  {
   "cell_type": "markdown",
   "id": "10287f6c-0615-4c13-8e70-a43de91b190b",
   "metadata": {},
   "source": [
    "The radiation terms are the largest in terms of magnitude. However, the soil heat flux, although much smaller, also plays an important role in the energy balance of a surface. The soil heat flux is coupled to the soil temperature profile. The function **heat_equation()** approximates the temperature profile. This requires to define some boundary conditions, such as the temperature at the surface or at bottom. In addition, information on the model depth, integration time, time step and soil thermal diffusivity is required."
   ]
  },
  {
   "cell_type": "code",
   "execution_count": null,
   "id": "04f715ba-2fa6-4d7b-88d4-e6fdb6ebc0b7",
   "metadata": {
    "tags": []
   },
   "outputs": [],
   "source": [
    "#-----------------------\n",
    "# Boundary conditions\n",
    "#-----------------------\n",
    "Ts = 20.   # Temperature at the surface [K]\n",
    "Tb = 5.    # Temperature at the bottom [K]\n",
    "D  = 2.    # Depth [m]\n",
    "Nz = 100   # Number of grid points in the vertical (soil)\n",
    "dt = 60.   # time step [s]\n",
    "t7200  = 7200  # integration time [s]\n",
    "t86400 = 86400 # integration time [s]\n",
    "alpha = 1.2e-6 # soil thermal diffusivity [m^2 s^-1]"
   ]
  },
  {
   "cell_type": "markdown",
   "id": "0fe90994-1dcd-4dbe-bca5-8537fc5eed19",
   "metadata": {},
   "source": [
    "We now run the model for two different integration periods and plot both temperature profiles"
   ]
  },
  {
   "cell_type": "code",
   "execution_count": null,
   "id": "8edd8654-adb8-4863-b920-1c37ab204fac",
   "metadata": {
    "tags": []
   },
   "outputs": [],
   "source": [
    "#-----------------------\n",
    "# Run the heat equation\n",
    "#-----------------------\n",
    "T, dz = hu.heat_equation(Ts, Tb, D, Nz, t7200, dt, alpha)\n",
    "T2, dz = hu.heat_equation(Ts, Tb, D, Nz, t86400, dt, alpha)\n",
    "\n",
    "#-----------------------\n",
    "# Make plots\n",
    "#-----------------------\n",
    "# Creating the plot with two rows and one column. The plots share the same x-axis so that only labels \n",
    "# for the lower plots are shown\n",
    "fig = make_subplots(rows=1, cols=1, shared_yaxes=True)\n",
    "\n",
    "# Adding the temperature data as a dashed line in the top panel\n",
    "fig.add_trace(go.Scatter(x=T, y=-dz*np.arange(Nz), line=dict(color='royalblue', dash='solid'), name='Temperature after 7200 s'),\n",
    "                        row=1, col=1)\n",
    "\n",
    "# Adding the temperature data as a dashed line in the top panel\n",
    "fig.add_trace(go.Scatter(x=T2, y=-dz*np.arange(Nz), line=dict(color='green', dash='solid'), name='Temperature after 86400'),\n",
    "                        row=1, col=1)\n",
    "\n",
    "# Adjusting the layout\n",
    "fig.update_layout(title='Soil temperature', plot_bgcolor='white', width=800, height=600,\n",
    "                  yaxis=dict(title='Depth [m]', showgrid=True, gridcolor='lightgray', gridwidth=1),\n",
    "                  xaxis=dict(title='Temperature [K]', tickformat='%d.%m.%Y', showgrid=True, gridcolor='lightgray', gridwidth=1))\n",
    "\n",
    "\n",
    "# Adjusting the axes\n",
    "fig.update_xaxes(nticks=10, row=1, col=1, range=[-2,20], dtick=5)\n",
    "fig.update_yaxes(nticks=5, row=1, col=1)\n",
    "\n",
    "# Showing the plot\n",
    "fig.show()"
   ]
  },
  {
   "cell_type": "markdown",
   "id": "e4007c32-0ac6-48ef-8b62-f77135d59d3e",
   "metadata": {},
   "source": [
    "<div class=\"alert alert-block alert-warning\">\n",
    "<b>Broaden Knowledge & Comprehension</b></br>\n",
    "<ul>\n",
    "<li>How can the ground heat flux be determined from the temperature profile? \n",
    "<li>Derive the ground heat flux from the figure. \n",
    "<li>Write a function to calculate the soil heat flux.\n",
    "</ul>\n",
    "</div>"
   ]
  },
  {
   "cell_type": "markdown",
   "id": "eafe5097-a021-4892-8d1a-c21d717affdd",
   "metadata": {},
   "source": [
    "In nature, the surface temperature is determined by the energy fluxes. We can simply modify the model to allow for varying surface temperature. We create a Pandas DataFrame with an artificial temperature time series with daily mean temperatures. "
   ]
  },
  {
   "cell_type": "code",
   "execution_count": null,
   "id": "1b68557d-8196-482b-ae3e-6dbc59159c71",
   "metadata": {
    "tags": []
   },
   "outputs": [],
   "source": [
    "#-----------------------------\n",
    "# Create pandas dataframe with\n",
    "# the surface temperature\n",
    "#-----------------------------\n",
    "# timestamp from/to\n",
    "timestamp = pd.date_range(start='2000-01-01T00:00:00', end='2003-12-31T00:00:00', freq='D')\n",
    "\n",
    "# Surrogate surface temperature timeseries\n",
    "T = 10 - 20 * np.sin((2*math.pi*timestamp.dayofyear)/365)\n",
    "\n",
    "# Create a pandas DataFrame from the calculated arrays\n",
    "df = pd.DataFrame(T, index=timestamp, columns=['T'])"
   ]
  },
  {
   "cell_type": "markdown",
   "id": "5f94c5ba-6ae3-4b46-85df-c4020e4737f0",
   "metadata": {},
   "source": [
    "In the next step, we set the boundary conditions and run the heat_equation_daily()"
   ]
  },
  {
   "cell_type": "code",
   "execution_count": null,
   "id": "2d656776-c126-4be0-890b-3dc5581aa727",
   "metadata": {
    "tags": []
   },
   "outputs": [],
   "source": [
    "#-----------------------------\n",
    "# Run the time-dependent heat\n",
    "# equation\n",
    "#-----------------------------\n",
    "D  = 20   # Depth of the domain in meter\n",
    "dz = 0.5  # Spacing between grid points in meter\n",
    "T, D, dz = hu.heat_equation_daily(df['T'], D, dz, alpha=1.2e-6)"
   ]
  },
  {
   "cell_type": "markdown",
   "id": "c070f86f-8376-47e0-9ded-fb9129f1a979",
   "metadata": {},
   "source": [
    "Finally, we plot the results"
   ]
  },
  {
   "cell_type": "code",
   "execution_count": null,
   "id": "8bd2bd0c-6281-4f02-acc0-ca2bb7caed96",
   "metadata": {
    "tags": []
   },
   "outputs": [],
   "source": [
    "#-----------------------------\n",
    "# Plot the results\n",
    "#-----------------------------\n",
    "# Generate the plotting grid\n",
    "# y-axis values\n",
    "y_values = np.arange(-D,0,dz)\n",
    "# then the x-axis values\n",
    "x_values = np.arange(len(df.index))\n",
    "# Generate the 2D plotting grid\n",
    "X, Y = np.meshgrid(x_values, y_values)\n",
    "\n",
    "# Create the filled contour trace\n",
    "trace = go.Contour(\n",
    "    x=df.index,\n",
    "    y=y_values,\n",
    "    z=T[::-1],\n",
    "    colorscale='Viridis',\n",
    "    contours=dict(\n",
    "        coloring='fill',\n",
    "        showlabels=True\n",
    "    ),\n",
    "    colorbar=dict(\n",
    "        title=dict(\n",
    "            text='Temperature [ºC]',\n",
    "            #standoff=15,\n",
    "            side='right'\n",
    "        )\n",
    "    )\n",
    ")\n",
    "\n",
    "# Create the layout\n",
    "layout = go.Layout(\n",
    "    title='Soil temperature',\n",
    "    xaxis=dict(title='Date', tickformat='%d.%m.%Y', tickangle=45, dtick='M3'),\n",
    "    yaxis=dict(title='Depth [m]'),\n",
    "    width=1000, height=500,\n",
    ")\n",
    "\n",
    "# Create the figure\n",
    "fig = go.Figure(data=[trace], layout=layout)\n",
    "\n",
    "# Show the plot\n",
    "fig.show()"
   ]
  },
  {
   "cell_type": "markdown",
   "id": "0f92fef4-bbb7-4a96-8b46-5985ec40b548",
   "metadata": {},
   "source": [
    "<div class=\"alert alert-block alert-warning\">\n",
    "<b>Broaden Knowledge & Comprehension</b></br>\n",
    "<ul>\n",
    "<li> Change the soil thermal diffusivity and see how the profile changes (Use realistic values of different soil types) \n",
    "<li> Describe how the temperature profile changes over time\n",
    "<li> Integrate the model over a few decades and find out how long it takes to reach a steady-state (stable temperature profile).\n",
    "</ul>\n",
    "</div>\n"
   ]
  },
  {
   "cell_type": "markdown",
   "id": "4ed2271d-eff7-48e3-8a05-37e63e6ad30c",
   "metadata": {},
   "source": [
    "The amplitude of the temperature fluctuations decreases with depth. Let's plot the temperatures at 5 and 10 m depth."
   ]
  },
  {
   "cell_type": "code",
   "execution_count": null,
   "id": "aa3420bc-f0a5-4bfd-b6e9-0d4111c4a0e4",
   "metadata": {
    "tags": []
   },
   "outputs": [],
   "source": [
    "# Creating the plot with two rows and one column. The plots share the same x-axis so that only labels \n",
    "# for the lower plots are shown\n",
    "fig = make_subplots(rows=1, cols=1, shared_xaxes=True)\n",
    "\n",
    "# Adding the temperature data as a dashed line in the top panel\n",
    "fig.add_trace(go.Scatter(x=df.index, y=T[10,:], line=dict(color='royalblue', dash='solid'), name='5 m'),\n",
    "                        row=1, col=1)\n",
    "\n",
    "# Adding the temperature data as a dashed line in the top panel\n",
    "fig.add_trace(go.Scatter(x=df.index, y=T[20,:], line=dict(color='orange', dash='solid'), name='10 m'),\n",
    "                        row=1, col=1)\n",
    "\n",
    "# Adjusting the layout\n",
    "fig.update_layout(title='Soil temperature', plot_bgcolor='white', width=1000, height=600,\n",
    "                  yaxis=dict(title='Soil temperature [K]', showgrid=True, gridcolor='lightgray', gridwidth=1),\n",
    "                  xaxis=dict(title='', tickformat='%d.%m.%Y', showgrid=True, gridcolor='lightgray', gridwidth=1))\n",
    "\n",
    "\n",
    "# Adjusting the axes\n",
    "fig.update_xaxes(nticks=10, row=1, col=1, tickformat='%d.%m.%Y', tickangle=45, dtick='M3')\n",
    "fig.update_yaxes(nticks=5, row=1, col=1)\n",
    "\n",
    "# Showing the plot\n",
    "fig.show()"
   ]
  },
  {
   "cell_type": "markdown",
   "id": "f7766a9c-2030-4d83-a5d7-4da563abde25",
   "metadata": {},
   "source": [
    "<div class=\"alert alert-block alert-warning\">\n",
    "<b>Broaden Knowledge & Comprehension</b></br>\n",
    "<ul>\n",
    "<li> What can you observe?\n",
    "<li> Describe the differences between the time series.\n",
    "<li> How would the time series change if the thermal diffusivity is increased? Why?\n",
    "</ul>\n",
    "</div>"
   ]
  },
  {
   "cell_type": "markdown",
   "id": "e354f0af-670f-4aa1-ae07-69419d279174",
   "metadata": {},
   "source": [
    "## More realistic example\n",
    "\n",
    "In this example, the code reads in the 30-min weather stations data from a CSV file using the '**read_csv()**' method from pandas, with the parse_dates and index_col parameters set to True and 0, respectively. This ensures that the first column of the CSV file (the timestamps) is used as the index of the DataFrame, and that the timestamps are converted to datetime objects."
   ]
  },
  {
   "cell_type": "code",
   "execution_count": null,
   "id": "f7e8fbcc-9f5b-4fca-a2f8-7f7201ee5ac8",
   "metadata": {
    "tags": []
   },
   "outputs": [],
   "source": [
    "import pandas as pd\n",
    "import numpy as np\n",
    "\n",
    "# Load CSV file\n",
    "df = pd.read_csv(\"https://raw.githubusercontent.com/sauterto/clim_env_hydro/main/docs/nb/data/FLX_CH-Dav.csv\", parse_dates=True, index_col=0)\n",
    "\n",
    "# The file contains:\n",
    "# Air temperature       :: t2m\n",
    "# Relative humdity      :: RH\n",
    "# Precipitation         :: precip\n",
    "# Wind speed            :: WS\n",
    "# Wind direction        :: WD\n",
    "# Net radiation         :: NETRAD\n",
    "# Incoming shortwave    :: SW_IN\n",
    "# Outgoing shortwave    :: SW_OUT\n",
    "# Incoming longwave     :: LW_IN\n",
    "# Outgoing longwave     :: LW_OUT\n",
    "# Sensible heat flux    :: H\n",
    "# Latent heat flux      :: LE\n",
    "# Ground heat flux      :: QG\n",
    "# Surface temperature   :: TS"
   ]
  },
  {
   "cell_type": "markdown",
   "id": "423f1f0d-13b9-479d-8d2e-245b5ae8e158",
   "metadata": {},
   "source": [
    "<div class=\"alert alert-block alert-warning\">\n",
    "<b>Broaden Knowledge & Comprehension</b></br>\n",
    "Which other file formats can be read in with pandas?\n",
    "</div>"
   ]
  },
  {
   "cell_type": "markdown",
   "id": "b74e26e9-20b5-4405-91d6-020aff047d0d",
   "metadata": {},
   "source": [
    "## Replace missing data\n",
    "\n",
    "Next, we want to view the data to ensure it has been loaded correctly. We use the head() method from Pandas to display the first five rows of the DataFrame."
   ]
  },
  {
   "cell_type": "markdown",
   "id": "9bed0697-ef25-4ffc-8fd8-00de29e6e4a6",
   "metadata": {},
   "source": [
    "The DataFrame has missing values with the dummy value -9999. We then use the replace method to replace all occurrences of -9999 with NaN (Not a Number), using the NumPy np.nan constant. Finally, we print the updated DataFrame. The inplace=True argument ensures that the original DataFrame is modified, rather than a copy being created."
   ]
  },
  {
   "cell_type": "code",
   "execution_count": null,
   "id": "6ce94b2b-32b5-4758-801e-80eb4c09772f",
   "metadata": {
    "tags": []
   },
   "outputs": [],
   "source": [
    "# replace -9999 with NaN\n",
    "df.replace(-9999, np.nan, inplace=True)\n",
    "\n",
    "# Keep only the surface temeperature\n",
    "ds = df['TS']\n",
    "\n",
    "# check for missing values\n",
    "ds.dropna(inplace=True)\n",
    "\n",
    "# Show time series\n",
    "ds"
   ]
  },
  {
   "cell_type": "markdown",
   "id": "27191050-72f1-41de-b6f2-98bd5e4cd2e8",
   "metadata": {},
   "source": [
    "<div class=\"alert alert-block alert-warning\">\n",
    "<b>Hint!</b> Compare the SW_OUT and LW_OUT column with the table before the missing values have been removed.\n",
    "</div>"
   ]
  },
  {
   "cell_type": "markdown",
   "id": "e3a43d4d-ba25-4fb2-babc-c0f82dd0dbd7",
   "metadata": {},
   "source": [
    "To check for missing values in a Pandas DataFrame, you can use the **isna()** or **isnull()** method, which returns a Boolean DataFrame of the same shape indicating which cells contain missing values."
   ]
  },
  {
   "cell_type": "markdown",
   "id": "50974355-4c96-48d9-8e08-591f34c2403d",
   "metadata": {},
   "source": [
    "You can also use the isna() or isnull() method along with the **sum()** method to count the number of missing values in each column:"
   ]
  },
  {
   "cell_type": "code",
   "execution_count": null,
   "id": "e1f5dc6a-d419-44ed-a5ea-6d30cc7eb4bd",
   "metadata": {
    "tags": []
   },
   "outputs": [],
   "source": [
    "# resample dataframe to monthly mean values with different aggregation for each column and return NaN for \n",
    "# columns with insufficient valid elements\n",
    "threshold =  50 # What is the maximum percentage of NaNs that may be included in the averaging? Here, we set the threshold to 10%\n",
    "\n",
    "# This is a pythonic way in solving this problem\n",
    "ds_daily = ds.resample('1D').agg({'TS': lambda x: x.dropna().mean() if (((x.isna().sum())/len(x))*100) < threshold else np.nan})\n",
    "\n",
    "# Find dates with missing data\n",
    "missing_dates = ds_daily['TS'][ds_daily['TS'].isnull()].index\n",
    "print(\"Dates with missing data:\\n\",ds_daily.loc[missing_dates])\n",
    "\n",
    "# Check if the time series is continuous\n",
    "if pd.date_range(start=ds_daily.index.min(), end=ds_daily.index.max(), freq='D').difference(ds_daily.index).empty:\n",
    "    print('The time series is continuous \\n')\n",
    "else:\n",
    "    print('The time series is not continuous \\n')\n",
    "    \n",
    "# Plot the temperature time series\n",
    "ds_daily['TS'].plot()"
   ]
  },
  {
   "cell_type": "markdown",
   "id": "e05614e4-aff1-4f4c-be09-1acab8ea028a",
   "metadata": {},
   "source": [
    "Instead of an artificial time series for the surface temperature, we now use the observed temperature *TS*."
   ]
  },
  {
   "cell_type": "code",
   "execution_count": null,
   "id": "4cc739f1-2701-40eb-bf45-2a14e64fc3bb",
   "metadata": {
    "tags": []
   },
   "outputs": [],
   "source": [
    "#-----------------------------\n",
    "# Run the time-dependent heat\n",
    "# equation\n",
    "#-----------------------------\n",
    "D  = 10   # Depth of the domain\n",
    "dz = 0.5  # Spacing between grid points\n",
    "\n",
    "# Create a short subset for better visualization\n",
    "df_hourly_subset = ds_daily.loc['2010':'2014']\n",
    "\n",
    "# Integrate the heat equation \n",
    "T, D, dz = hu.heat_equation_daily(df_hourly_subset['TS'], D, dz, alpha=1.2e-6)\n",
    "\n",
    "#-----------------------------\n",
    "# Plot the results\n",
    "#-----------------------------\n",
    "# Generate the plotting grid\n",
    "# y-axis values\n",
    "y_values = np.arange(-D,0,dz)\n",
    "# then the x-axis values\n",
    "x_values = np.arange(len(df_hourly_subset.index))\n",
    "# Generate the 2D plotting grid\n",
    "X, Y = np.meshgrid(x_values, y_values)\n",
    "\n",
    "# Create the filled contour trace\n",
    "trace = go.Contour(\n",
    "    x=df_hourly_subset.index,\n",
    "    y=y_values,\n",
    "    z=T[::-1],\n",
    "    colorscale='Viridis',\n",
    "    contours=dict(\n",
    "        coloring='fill',\n",
    "        showlabels=True\n",
    "    ),\n",
    "    colorbar=dict(\n",
    "        title=dict(\n",
    "            text='Temperature [ºC]',\n",
    "            #standoff=15,\n",
    "            side='right'\n",
    "        )\n",
    "    )\n",
    ")\n",
    "\n",
    "# Create the layout\n",
    "layout = go.Layout(\n",
    "    title='Soil temperature',\n",
    "    xaxis=dict(title='Date', tickformat='%d.%m.%Y', tickangle=45, dtick='M3'),\n",
    "    yaxis=dict(title='Depth [m]'),\n",
    "    width=1000, height=500,\n",
    ")\n",
    "\n",
    "# Create the figure\n",
    "fig = go.Figure(data=[trace], layout=layout)\n",
    "\n",
    "# Show the plot\n",
    "fig.show()"
   ]
  }
 ],
 "metadata": {
  "kernelspec": {
   "display_name": "meteo",
   "language": "python",
   "name": "meteo"
  },
  "language_info": {
   "codemirror_mode": {
    "name": "ipython",
    "version": 3
   },
   "file_extension": ".py",
   "mimetype": "text/x-python",
   "name": "python",
   "nbconvert_exporter": "python",
   "pygments_lexer": "ipython3",
   "version": "3.11.3"
  }
 },
 "nbformat": 4,
 "nbformat_minor": 5
}
