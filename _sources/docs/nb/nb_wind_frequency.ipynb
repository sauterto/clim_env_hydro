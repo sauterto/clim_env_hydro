{
 "cells": [
  {
   "cell_type": "markdown",
   "id": "691d8a01-9783-4860-99ff-1b17a37434e7",
   "metadata": {},
   "source": [
    "(nb_wind_freq)=\n",
    "\n",
    "# Wind frequency\n",
    "\n",
    "Wind speeds are rarely constant. At any one location, wind speeds might be strong only rarely during a year, moderate many hours, light even more hours, and calm less frequently. The number of times than a range $\\Delta U$ of wind speeds occured in the past is the frequency of occurrence. Dividing the frequency by the total number of wind observations gives a relative frequency. The expectation that this same relative frequency will occure in the future is the probability $Pr$. The probability distribution of mean wind speeds $U$ is described by the Weibull distribution. In this notebook we estimate the parameters of the Weibull distriubtion to fit the observations. From this we derive the return periods of wind events."
   ]
  },
  {
   "cell_type": "markdown",
   "id": "c435fb32-9ac7-4028-824d-6d2e6ea2408b",
   "metadata": {},
   "source": [
    "<div class=\"alert alert-block alert-success\">\n",
    "<b>Learning objectives:</b><br>\n",
    "<ul>\n",
    " <li>Probability distribution of mean wind speeds</li>\n",
    " <li>Return periods</li>\n",
    "</ul>  \n",
    "</div>"
   ]
  },
  {
   "cell_type": "markdown",
   "id": "12cbbdb0-da54-4e7b-b90a-29ef20a2d553",
   "metadata": {},
   "source": [
    "<div class=\"alert alert-block alert-info\">\n",
    "<b>Prerequisites</b><br>\n",
    "<ul>\n",
    "<li>Basic knowledge of Python, Jupyter Notebooks, and data analysis</li>\n",
    "<li>Familiarity with Scipy, Pandas, Xarray, and Plotly</li>\n",
    "</ul>  \n",
    "</div>"
   ]
  },
  {
   "cell_type": "code",
   "execution_count": null,
   "id": "fb9d4216-822f-4802-b5be-fcab9e9369b0",
   "metadata": {
    "tags": []
   },
   "outputs": [],
   "source": [
    "import numpy as np\n",
    "import pandas as pd\n",
    "import math\n",
    "import xarray as xr\n",
    "from rosely import WindRose\n",
    "\n",
    "# Import the plotly library\n",
    "from plotly.subplots import make_subplots\n",
    "import plotly.subplots as sp\n",
    "import plotly.graph_objs as go"
   ]
  },
  {
   "cell_type": "markdown",
   "id": "69c66147-9abf-4e5c-bfe6-88fc87281bd0",
   "metadata": {
    "tags": []
   },
   "source": [
    "We use the measurement data from Davos station for the exercise"
   ]
  },
  {
   "cell_type": "code",
   "execution_count": null,
   "id": "59274753-5c88-4e18-a9f0-ee60ac2a9088",
   "metadata": {
    "tags": []
   },
   "outputs": [],
   "source": [
    "# Load CSV file\n",
    "df = pd.read_csv(\"https://raw.githubusercontent.com/sauterto/clim_env_hydro/main/docs/nb/data/FLX_CH-Dav.csv\", parse_dates=True, index_col=0)\n",
    "\n",
    "#---------------------\n",
    "# The file contains:\n",
    "#---------------------\n",
    "# Air temperature       :: t2m\n",
    "# Relative humdity      :: RH\n",
    "# Precipitation         :: precip\n",
    "# Wind speed            :: WS\n",
    "# Wind direction        :: WD\n",
    "# Net radiation         :: NETRAD\n",
    "# Incoming shortwave    :: SW_IN\n",
    "# Outgoing shortwave    :: SW_OUT\n",
    "# Incoming longwave     :: LW_IN\n",
    "# Outgoing longwave     :: LW_OUT\n",
    "# Sensible heat flux    :: H\n",
    "# Latent heat flux      :: LE\n",
    "# Ground heat flux      :: QG\n",
    "# Surface temperature   :: TS\n",
    "\n",
    "df"
   ]
  },
  {
   "cell_type": "markdown",
   "id": "a81b5688-0c09-40f2-8def-d9f5b2b59936",
   "metadata": {},
   "source": [
    "We first plot the data"
   ]
  },
  {
   "cell_type": "code",
   "execution_count": null,
   "id": "97d860b5-5e59-417e-a2ef-a672bc2e2126",
   "metadata": {
    "tags": []
   },
   "outputs": [],
   "source": [
    "df['WS'].plot()"
   ]
  },
  {
   "cell_type": "markdown",
   "id": "a22164b1-0291-46ce-906e-07ecea3e4abb",
   "metadata": {},
   "source": [
    "Often we are interested in the distribution of the wind speed which can be plotted by a histogram"
   ]
  },
  {
   "cell_type": "code",
   "execution_count": null,
   "id": "e4350c9f-5aef-4035-9812-95de9cfbf831",
   "metadata": {
    "tags": []
   },
   "outputs": [],
   "source": [
    "# Subplots\n",
    "fig, ax = plt.subplots(1, 1);\n",
    "\n",
    "# Plot the data histogram\n",
    "ax.hist(df.WS, bins=100, density=True, histtype='stepfilled', alpha=0.8);"
   ]
  },
  {
   "cell_type": "markdown",
   "id": "34ddff96-d2f0-44f7-83e6-0d4da15b355b",
   "metadata": {
    "tags": []
   },
   "source": [
    "Lets have also a look at the wind direction"
   ]
  },
  {
   "cell_type": "code",
   "execution_count": null,
   "id": "62d13e29-d715-41b2-8d06-5c4b7c0ef245",
   "metadata": {
    "tags": []
   },
   "outputs": [],
   "source": [
    "# Create a WindRose object with the resampled hourly data\n",
    "WR = WindRose(df)\n",
    "\n",
    "# create renaming dictionary - the WindRose object requires the variable names ws and wd. We have\n",
    "# to tell the Object the name of our Variables: WS, WD\n",
    "names = {'WS':'ws', 'WD':'wd'}\n",
    "\n",
    "# calculate wind statistics for 8 sectors\n",
    "WR.calc_stats(normed=False, bins=8, variable_names=names)\n",
    "\n",
    "# Generate windrose plot\n",
    "WR.plot(\n",
    "    template='xgridoff',\n",
    "    colors='haline',\n",
    "    title='Davos, Switzerland',\n",
    "    output_type='show',\n",
    "    width=600,\n",
    "    height=600\n",
    ")"
   ]
  },
  {
   "cell_type": "markdown",
   "id": "93720f63-dc81-486d-b2f3-9a553cacd0c8",
   "metadata": {},
   "source": [
    "The probability distribution of mean wind speeds $U$ is described by the Weibull distribution:\n",
    "\n",
    "$$\n",
    "Pr = \\frac{\\alpha \\cdot \\Delta U \\cdot U^{\\alpha-1}}{M_0^{\\alpha}} \\cdot exp \\left[ - \\left( \\frac{M}{M_0} \\right)^{\\alpha}\\right],\n",
    "$$\n",
    "\n",
    "where Pr is the probability of wind speed $U \\pm 0.5 \\cdot \\Delta U$. We can estimate the location parameter $M_0$ and the spread $\\alpha$ with"
   ]
  },
  {
   "cell_type": "code",
   "execution_count": null,
   "id": "b28bf810-3b59-46ac-96c2-aac689180dac",
   "metadata": {
    "tags": []
   },
   "outputs": [],
   "source": [
    "# Fit the Weibull distribution to the wind speed data\n",
    "shape, loc, scale = stats.weibull_min.fit(df.WS, loc=0, method=\"MLE\")"
   ]
  },
  {
   "cell_type": "markdown",
   "id": "78456812-cd33-4d76-81d7-7d2945d016a2",
   "metadata": {},
   "source": [
    "We can use the estimated parameters to get the probabilities for different wind speeds with "
   ]
  },
  {
   "cell_type": "code",
   "execution_count": null,
   "id": "bc62d3c8-0329-4cf4-92b1-f46e54636dc3",
   "metadata": {
    "tags": []
   },
   "outputs": [],
   "source": [
    "# Get the Weibull distribution using the fitted parameters\n",
    "rv = stats.weibull_min(c=shape, loc=loc, scale=scale)\n",
    "\n",
    "# Value range for plotting the distribution\n",
    "x = np.linspace(rv.ppf(0.01),\n",
    "                rv.ppf(0.99999), 100)"
   ]
  },
  {
   "cell_type": "markdown",
   "id": "a6ec7753-e0e1-4d58-8876-7a13d9fafd77",
   "metadata": {
    "tags": []
   },
   "source": [
    "and plot the observations and the estimated Weibull distribution (red line)"
   ]
  },
  {
   "cell_type": "code",
   "execution_count": null,
   "id": "ff8ff6ac-6544-4529-9fb3-facce8c0795e",
   "metadata": {
    "tags": []
   },
   "outputs": [],
   "source": [
    "# Subplots\n",
    "fig, ax = plt.subplots(1, 1)\n",
    "\n",
    "# Plot the data histogram\n",
    "ax.hist(df.WS, bins=100, density=True, histtype='stepfilled', alpha=0.2)\n",
    "\n",
    "# and the Weibull distribution\n",
    "ax.plot(x, rv.pdf(x), 'r-', lw=2, alpha=0.6, label='Weibull pdf')"
   ]
  },
  {
   "cell_type": "markdown",
   "id": "5b4a230d-9f40-4b4d-8988-9ff928bb3280",
   "metadata": {},
   "source": [
    "One can express extreme-wind likelihood as a return period, which is equal to the total period of measurement divided by the number of times the wind exceeded a threshold. For example, we can estimat the number of observations lower than 12.5 m/s from the cumulative distribution"
   ]
  },
  {
   "cell_type": "code",
   "execution_count": null,
   "id": "243d70d8-c271-4260-a4c5-a454972afb28",
   "metadata": {
    "tags": []
   },
   "outputs": [],
   "source": [
    " # Estimate from the cumulative distribution the number of observation lower than 12.5 m/s\n",
    "cdfx = rv.cdf(12.5)\n",
    "cdfx"
   ]
  },
  {
   "cell_type": "markdown",
   "id": "bfe29bdd-4887-48dd-92bf-18005d1f2d80",
   "metadata": {},
   "source": [
    "In our case, the data set includes 18 years. So we divide the number of years by the number of cases which are above this threshold, i.e. total number of elements minus the total observations multiplied by the percentage of all cases below the threshold. "
   ]
  },
  {
   "cell_type": "code",
   "execution_count": null,
   "id": "861d076d-a872-4817-9b80-433795b0121b",
   "metadata": {
    "tags": []
   },
   "outputs": [],
   "source": [
    "# Print max wind speed, and the return period\n",
    "# Number of years in dataset\n",
    "number_of_years = 18\n",
    "print('Return period: {:.2f} years'.format(number_of_years/(len(df.WS)-len(df.WS)*cdfx)))"
   ]
  },
  {
   "cell_type": "markdown",
   "id": "12053f60-f684-447d-a290-71913ba07140",
   "metadata": {},
   "source": [
    "This means that statistically a half-hour average wind speed of 12.5 m/s occurs only every 43.67 years."
   ]
  },
  {
   "cell_type": "markdown",
   "id": "b9b8c15d-6fd3-4a45-8506-55fbd4f374e8",
   "metadata": {},
   "source": [
    "<div class=\"alert alert-block alert-warning\">\n",
    "<b>Broaden Knowledge & Comprehension</b></br>\n",
    "<ul>\n",
    "<li>What is the mean wind speed? Check that the mean wind speed is proportional to the location parameter $M_0$\n",
    "<li>Assume that the distribution is obtained from a timeseries of length 100 year. How does the return period change? Why?\n",
    "</ul>\n",
    "</div>"
   ]
  }
 ],
 "metadata": {
  "kernelspec": {
   "display_name": "meteo",
   "language": "python",
   "name": "meteo"
  },
  "language_info": {
   "codemirror_mode": {
    "name": "ipython",
    "version": 3
   },
   "file_extension": ".py",
   "mimetype": "text/x-python",
   "name": "python",
   "nbconvert_exporter": "python",
   "pygments_lexer": "ipython3",
   "version": "3.11.3"
  }
 },
 "nbformat": 4,
 "nbformat_minor": 5
}
