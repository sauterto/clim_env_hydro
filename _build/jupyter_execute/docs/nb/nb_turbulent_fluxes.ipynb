{
 "cells": [
  {
   "cell_type": "markdown",
   "id": "e05e39ce-fb35-4188-ad1e-7e2657a76719",
   "metadata": {},
   "source": [
    "(nb_seb)=\n",
    "# Turbulent fluxes and surface energy balance\n",
    "\n",
    "\n"
   ]
  },
  {
   "cell_type": "markdown",
   "id": "7480f1ba-ac62-4746-a594-a80c6d096e15",
   "metadata": {},
   "source": [
    "<div class=\"alert alert-block alert-success\">\n",
    "<b>Learning objectives:</b><br>\n",
    "<ul>\n",
    " <li>Parametrization of turbulent fluxes</li>\n",
    " <li>Surface energy balance</li>\n",
    "</ul>  \n",
    "</div>"
   ]
  },
  {
   "cell_type": "markdown",
   "id": "b40533f9-c55f-4839-8388-85228b8b62b2",
   "metadata": {
    "tags": []
   },
   "source": [
    "<div class=\"alert alert-block alert-info\">\n",
    "<b>Prerequisites</b><br>\n",
    "<ul>\n",
    "<li>Basic knowledge of Python, Jupyter Notebooks, and data analysis</li>\n",
    "<li>Familiarity with Scipy, MetPy, Pandas, Xarray, and Plotly</li>\n",
    "</ul>  \n",
    "</div>"
   ]
  },
  {
   "cell_type": "code",
   "execution_count": null,
   "id": "4a207715-e72f-4e8a-8209-f3c8be35a612",
   "metadata": {
    "tags": []
   },
   "outputs": [],
   "source": [
    "import numpy as np\n",
    "import pandas as pd\n",
    "import math\n",
    "import xarray as xr\n",
    "from scipy.optimize import minimize\n",
    "\n",
    "# Import the plotly library\n",
    "from plotly.subplots import make_subplots\n",
    "import plotly.subplots as sp\n",
    "import plotly.graph_objs as go"
   ]
  },
  {
   "cell_type": "markdown",
   "id": "9f6ad192-c9e3-4a26-ae9b-04670df5be12",
   "metadata": {},
   "source": [
    "This exercise uses functions from the module HU_learning_material. The module was developed for this course and consists of a collection of functions discussed in the course. The module can be used with"
   ]
  },
  {
   "cell_type": "code",
   "execution_count": null,
   "id": "65b310ff-51ce-45ee-98ec-a95e79ac4e76",
   "metadata": {
    "tags": []
   },
   "outputs": [],
   "source": [
    "# Import the learning module\n",
    "from hu_tools import HU_learning_material"
   ]
  },
  {
   "cell_type": "markdown",
   "id": "85bf3940-f10d-4c57-8a15-53d6a3a2aed4",
   "metadata": {
    "tags": []
   },
   "source": [
    "This is a so-called Python class. The class is called **HU_learning_material** and must be instantiated. This is done with"
   ]
  },
  {
   "cell_type": "code",
   "execution_count": null,
   "id": "6c3a0e0f-f761-4b43-a39a-90de934300ae",
   "metadata": {
    "tags": []
   },
   "outputs": [],
   "source": [
    "#-----------------------------\n",
    "# Load the learning materials\n",
    "#-----------------------------\"\n",
    "hu = HU_learning_material()"
   ]
  },
  {
   "cell_type": "markdown",
   "id": "143caf59-304f-4273-884e-398fb6fd5d14",
   "metadata": {},
   "source": [
    "Eddy covariance (EC) stations measure turbulent flows directly with an ultrasonic anemometer and open path gas analysers. The sensors work fast and allow measurement frequencies of 25 Hz and more. EC stations are very expensive, so most weather stations are only equipped with low-frequency sensors. Standard weather stations measure temperature and relative humidity at several measurement levels. Average turbulent fluxes can be parameterised with the bulk approach by using the temperature and humidity measurements. The bulk approach depends on the temperature gradient, the humidity gradient, the wind velocity and the roughness length. Before we can parameterise the turbulent flows, we need to define some parameters"
   ]
  },
  {
   "cell_type": "code",
   "execution_count": null,
   "id": "22a02082-6a75-4d97-b389-ffb2bc3559e5",
   "metadata": {
    "tags": []
   },
   "outputs": [],
   "source": [
    "# Define simulation parameters\n",
    "rho = 1.2        # Air density [kg m^-3]\n",
    "z = 2.0          # Measurement height [m]\n",
    "z0 = 1e-3        # Aerodynamic roughness length [m]\n",
    "albedo = 0.5     # Albedo [-]"
   ]
  },
  {
   "cell_type": "markdown",
   "id": "3b02fa08-8ce3-446a-aca8-3e8ba4fbda3c",
   "metadata": {},
   "source": [
    "Furthermore, we need the measured atmospheric quantities\n"
   ]
  },
  {
   "cell_type": "code",
   "execution_count": null,
   "id": "cb850aae-4816-40a3-8fb6-b596d8918092",
   "metadata": {
    "tags": []
   },
   "outputs": [],
   "source": [
    "# Radiation, Wind velocity and pressure\n",
    "G = 700.0        # Incoming shortwave radiation [W m^-2] \n",
    "U = 2.0          # Wind speed [m s^-1]\n",
    "p = 700.0        # Surface air pressure [hPa]\n",
    "\n",
    "# Temperature measurements\n",
    "T0 = 310         # Temperature close to the surface [K]\n",
    "T2 = 285         # Temperature at height z [K]\n",
    "\n",
    "# Relative humidity measurements\n",
    "f0 = 0.78        # Relative humidity close to the surface [%]\n",
    "f2 = 0.8         # Relative humidity at height z [%]\n",
    "\n",
    "\n",
    "# Constants\n",
    "L = 2.83e6       # latent heat for sublimation\n",
    "cp = 1004.0      # specific heat [J kg^-1 K^-1]"
   ]
  },
  {
   "cell_type": "markdown",
   "id": "2d910a37-1c0f-4492-9234-a460c18da2ef",
   "metadata": {},
   "source": [
    "For the calculation of the turbulent latent heat flow, the relative humidity must still be converted into the mixing ratio. This conversion can be done with the function **mixing_ratio()** which requires relative humidity, temperature, and pressure "
   ]
  },
  {
   "cell_type": "code",
   "execution_count": null,
   "id": "5cac8623-1826-44f9-843d-222cb9a7f296",
   "metadata": {
    "tags": []
   },
   "outputs": [],
   "source": [
    "# Mixing ratio at level z (2 m) and near the surface\n",
    "q2 = hu.mixing_ratio(f2,T2,p)\n",
    "q0 = hu.mixing_ratio(f0,T0,p)"
   ]
  },
  {
   "cell_type": "markdown",
   "id": "a2d510d9-e6d3-4134-9563-e86c0de312ad",
   "metadata": {},
   "source": [
    "<div class=\"alert alert-block alert-warning\">\n",
    "<b>Broaden Knowledge & Comprehension</b></br>\n",
    "Use Metpy to calculate the mixing ratio\n",
    "</div>"
   ]
  },
  {
   "cell_type": "markdown",
   "id": "c2206eda-a54d-4997-b6ea-8af50b3fb7bf",
   "metadata": {
    "tags": []
   },
   "source": [
    "The bulk coefficients $C_h$ and $C_e$ for the sensible and latent heat can be derived with the function **bulk_coeff_shf()** and **bulk_coeff_lhf()**. The functions require the measurement heigth *z* and the roughness length *$z_0$*."
   ]
  },
  {
   "cell_type": "code",
   "execution_count": null,
   "id": "987b84da-5fb2-47d5-8c6e-a931cf89fa84",
   "metadata": {},
   "outputs": [],
   "source": [
    "# Bulk coefficient for latent heat\n",
    "Ce = hu.bulk_coeff_lhf(z, z0)\n",
    "# Bulk coefficient for sensible heat\n",
    "Ch = hu.bulk_coeff_shf(z, z0)"
   ]
  },
  {
   "cell_type": "markdown",
   "id": "17d995be-00bd-44f9-bac3-1f03855c475d",
   "metadata": {},
   "source": [
    "Finally, the turbulent fluxes can then be calculated"
   ]
  },
  {
   "cell_type": "code",
   "execution_count": null,
   "id": "bc520756-fb91-4638-959e-747a01f481b1",
   "metadata": {
    "tags": []
   },
   "outputs": [],
   "source": [
    "# Sensible heat flux\n",
    "lhf = hu.lhf_bulk(rho, L,  Ce, U, q2, q0)\n",
    "# Latent heat flux\n",
    "shf = hu.shf_bulk(rho, cp, Ch, U, T2, T0)\n",
    "\n",
    "print('SHF: {:.2f}'.format(shf))\n",
    "print('LHF: {:.2f}'.format(lhf))"
   ]
  },
  {
   "cell_type": "markdown",
   "id": "e413ea8a-b231-42f3-9894-01c88a23df18",
   "metadata": {},
   "source": [
    "The energy balance of surfaces assumes that the sum of all energy fluxes is zero, i.e. Q+H+L+B=0 with Q the radiation balance, H the turbulent flux of sensible heat, L the latent heat flux and B the ground heat flux. The quantity via which the equation can be closed is the surface temperature. Strictly speaking, we are looking for the surface temperature at which this equation is fulfilled. This temperature can be found with the function **get_surface_temp()**."
   ]
  },
  {
   "cell_type": "code",
   "execution_count": null,
   "id": "035c7aac-ab23-4fa3-bb68-61b17cf72f1a",
   "metadata": {
    "tags": []
   },
   "outputs": [],
   "source": [
    "# Optimize for surface temperature neglecting the ground heat flux\n",
    "T_0 = hu.get_surface_temp(T2,f0,f2,albedo,G,p,rho,U,z,z0,B=0.0)\n",
    "print('T0: {:.2f} K'.format(T_0[0]))"
   ]
  },
  {
   "cell_type": "markdown",
   "id": "e0b45d8d-a75d-44b2-8dd2-fbc4fb2b0778",
   "metadata": {},
   "source": [
    "In this example it was assumed that the soil heat flux does not play a role (B=0). We can now calculate the sensible heat flux based on the surface temperature"
   ]
  },
  {
   "cell_type": "code",
   "execution_count": null,
   "id": "ef6bc753-efd7-4ec6-9f5c-ea9d4e8594ae",
   "metadata": {
    "tags": []
   },
   "outputs": [],
   "source": [
    "# Get the melt and sublimation rates\n",
    "Q_0, H_0, E_0, LWd, LWu, SWu = hu.EB_fluxes(T_0,T2,f0,f2,albedo,G,p,rho,U,z,z0)\n",
    "\n",
    "print('T0: {:.2f}'.format(T_0[0]))\n",
    "print('G (incoming shortwave): {:.2f}'.format(SWu))\n",
    "print('SW up(outgoing shortwave): {:.2f}'.format(G))\n",
    "print('LW up (outgoing longwave): {:.2f}'.format(LWu[0]))\n",
    "print('LW down (incoming longwave): {:.2f}'.format(LWd))\n",
    "print('SHF (sensible heat flux): {:.2f}'.format(H_0[0]))\n",
    "print('LHF (latent heat flux): {:.2f}'.format(E_0[0]))\n",
    "print('Net radiation: {:.2f}'.format(Q_0[0]))"
   ]
  },
  {
   "cell_type": "markdown",
   "id": "41320952-7d81-42c8-88d0-6984fedff08b",
   "metadata": {},
   "source": [
    "<div class=\"alert alert-block alert-warning\">\n",
    "<b>Broaden Knowledge & Comprehension</b></br>\n",
    "<ul>\n",
    "<li>Check if the energy balance is closed\n",
    "<li>If the equation is not closed, what could be the reasons? If it does, is the equation always closed?\n",
    "<li>In the current version, the soil heat flux can only be specified as a constant. What would have to be done to calculate the soil heat flux? Describe in keywords how you would proceed.\n",
    "<li>Discuss the differences between the Bulk approach and the Bowen-Ratio method, such as the measurements required, dependencies of parameters, difficulties and accuracy.\n",
    "<li>Calculate the Bowen ratio. What does this ratio say? What kind of ratio would you expect in mountainous regions?\n",
    "<li>Use a Bowen ratio of 0.3 and the given quantities from the previous tasks. Calculate the turbulent flux of sensible and latent heat \n",
    "<li>An automatic weather station measures a net radiation of 623 $W m^{−2}$ and a ground flux of 64 $W m^{−2}$ over grassland. Find the other terms of the surface heat budget using the Bowen-ratio method. (Hint: Assume a realistic Bowen-ratio)\n",
    "</ul>\n",
    "</div>"
   ]
  },
  {
   "cell_type": "markdown",
   "id": "0357cf64-b77e-4aa8-ae4a-caec6f1ef766",
   "metadata": {},
   "source": [
    "We can now examine the sensitivity of the fluxes. For example, we can easily investigate how the wind velocity affects the surface temperature and the turbulent sensible heat flux."
   ]
  },
  {
   "cell_type": "code",
   "execution_count": null,
   "id": "93a7307e-11c1-464b-a65c-4f1021843b67",
   "metadata": {
    "tags": []
   },
   "outputs": [],
   "source": [
    "# Define result arrays\n",
    "Ua = []  # stores the wind velocities\n",
    "Ta = []  # stores the surface temperatures\n",
    "Ha = []  # stores the sensible heat flux\n",
    "Ea = []  # stores the latent heat flux\n",
    "\n",
    "# Do a loop over a range of wind velocities, e.g. from 0 to 10 m/s\n",
    "for U in np.arange(0,10,0.1):\n",
    "    # Append the wind velocity to the array\n",
    "    Ua.append(U)\n",
    "    \n",
    "    # Calculate the new surface temperature using the new wind velocity\n",
    "    T0 = hu.get_surface_temp(T2,f0,f2,albedo,G,p,rho,U,z,z0,B=0.0)\n",
    "    \n",
    "    # Store the new surface temperature to the array\n",
    "    Ta.append(T0[0])\n",
    "    \n",
    "    # Get the fluxes\n",
    "    Q,H,E,LWd,LWu,SWu = hu.EB_fluxes(T0,T2,f0,f2,albedo,G,p,rho,U,z,z0)\n",
    "    \n",
    "    # Append the fluxes to the arrays\n",
    "    Ha.append(H[0])\n",
    "    Ea.append(E[0])\n"
   ]
  },
  {
   "cell_type": "markdown",
   "id": "4e26985c-3bcd-47e8-ace3-1720bd5a96f3",
   "metadata": {},
   "source": [
    "We can now plot the results"
   ]
  },
  {
   "cell_type": "code",
   "execution_count": null,
   "id": "5f75a804-da19-4980-ada4-9fa64ccd819b",
   "metadata": {
    "tags": []
   },
   "outputs": [],
   "source": [
    "#----------------------\n",
    "# Plot the results\n",
    "#----------------------\n",
    "# Creating the plot with two rows and one column. The plots share the same x-axis so that only labels \n",
    "# for the lower plots are shown\n",
    "fig = make_subplots(rows=2, cols=1, shared_xaxes=True)\n",
    "\n",
    "# Adding the transmissivity data as a  line in the top panel\n",
    "fig.add_trace(go.Scatter(x=Ua, y=Ta, line=dict(color='royalblue', dash='solid'), name='Surface temperature [K]'),\n",
    "                        row=1, col=1)\n",
    "\n",
    "# Adding the local elevation angle as line in the bottom panel\n",
    "fig.add_trace(go.Scatter(x=Ua, y=Ha, line=dict(color='green', dash='solid'), name='Sensible heat flux [W m^-2]'),\n",
    "                         row=2, col=1)\n",
    "\n",
    "# Adjusting the layout\n",
    "fig.update_layout(title='Dependency of the surface temperature and heat flux on wind velocity', plot_bgcolor='white', width=800, height=600,\n",
    "                  yaxis=dict(showgrid=True, gridcolor='lightgray', gridwidth=1),\n",
    "                  yaxis2=dict(showgrid=True, gridcolor='lightgray', gridwidth=1),\n",
    "                  xaxis=dict(title='', showgrid=True, gridcolor='lightgray', gridwidth=1),\n",
    "                  xaxis2=dict(title='Wind velocity',  showgrid=True, gridcolor='lightgray', gridwidth=1))\n",
    "\n",
    "\n",
    "# Adjusting the axes\n",
    "fig.update_xaxes(nticks=10, row=1, col=1)\n",
    "fig.update_yaxes(nticks=5, row=1, col=1)\n",
    "fig.update_xaxes(nticks=10, row=2, col=1)\n",
    "fig.update_yaxes(nticks=5, row=2, col=1)\n",
    "\n",
    "# Showing the plot\n",
    "fig.show()"
   ]
  },
  {
   "cell_type": "markdown",
   "id": "c7eae482-0deb-40c8-968c-bfb5d04a9539",
   "metadata": {},
   "source": [
    "<div class=\"alert alert-block alert-warning\">\n",
    "<b>Broaden Knowledge & Comprehension</b></br>\n",
    "<ul>\n",
    "<li>Why are the curves not smooth but show noticeable jumps?\n",
    "<li>Explain why the surface temperature decreases with increasing wind speed while the turbulent flow of sensible heat increases at the same time.\n",
    "<li>Conduct your own experiments, for example by varying the relative humidity or the roughness length. Look closely at how the fluxes change.\n",
    "</ul>\n",
    "</div>"
   ]
  },
  {
   "cell_type": "markdown",
   "id": "bbe0d6f3-3baf-4bdc-b33e-6f562d82a79a",
   "metadata": {},
   "source": [
    "<div class=\"alert alert-block alert-success\">\n",
    "<b>Evaluate and Analyze</b></br>\n",
    "<ul>\n",
    "<li>The turbulent fluxes can also be determined using the so-called K-approach with $$Q=\\rho \\cdot c_p \\cdot \\overline{w'T'}=\\rho \\cdot c_p \\cdot K \\cdot \\frac{\\Delta T}{\\Delta z},$$ where K is the turbulent diffusivity in $m^2 s^{-1}$. For the latent heat flow, the mixing ratio is also used instead of the temperature. Write a function to calculate the turbulent fluxes with the K-approach. Use a value of 5 $m^2 s^{-1}$ for K and select suitable values for the other variables. Compare the results with those of the bulk approach. Choose suitable values for K so that you get the same result.\n",
    "<li>Extend the model by using the common parameterisation $$K=\\kappa \\cdot z \\cdot u_{*}$$ with $$\\kappa=0.41$$ the von Karman constant.\n",
    "<li>Write a function for the logarithmic wind profile in the form <b>windprofile(z, z0, ustar)</b>. Perform sensitivity tests and analyse how the wind profile changes when you change z0 and ustar.\n",
    "<li>On an overcast day, a wind speed of 6 m/s is measured with an anemometer located 10 m over ground within a corn field. What is the wind speed at 25 m height?\n",
    "<li>A wind speed of 3.15 m/s is measured at 10 m heights. Find the friction velocity using an analytical approach (logarithmic wind law).\n",
    "</ul>\n",
    "</div>"
   ]
  },
  {
   "cell_type": "code",
   "execution_count": null,
   "id": "e1bda403-08e0-4c6b-8f79-078b4f0d1d10",
   "metadata": {},
   "outputs": [],
   "source": []
  }
 ],
 "metadata": {
  "kernelspec": {
   "display_name": "meteo",
   "language": "python",
   "name": "meteo"
  },
  "language_info": {
   "codemirror_mode": {
    "name": "ipython",
    "version": 3
   },
   "file_extension": ".py",
   "mimetype": "text/x-python",
   "name": "python",
   "nbconvert_exporter": "python",
   "pygments_lexer": "ipython3",
   "version": "3.11.3"
  }
 },
 "nbformat": 4,
 "nbformat_minor": 5
}