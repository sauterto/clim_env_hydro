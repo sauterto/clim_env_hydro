{
 "cells": [
  {
   "cell_type": "markdown",
   "id": "691d8a01-9783-4860-99ff-1b17a37434e7",
   "metadata": {},
   "source": [
    "(nb_opm)=\n",
    "\n",
    "# Mountain waves and orographic precipitation\n",
    "\n",
    "When statically stable air flows with speed $U$ over a hill or ridge, it is set into oscillation at the Brunt-Väisälä frequency, $N_{BV}$. These waves are known as mountain waves, gravity waves, buoyancy waves, or lee waves. The can cause damaging winds, and interesting clouds. "
   ]
  },
  {
   "cell_type": "markdown",
   "id": "c435fb32-9ac7-4028-824d-6d2e6ea2408b",
   "metadata": {},
   "source": [
    "<div class=\"alert alert-block alert-success\">\n",
    "<b>Learning objectives:</b><br>\n",
    "<ul>\n",
    " <li>Mountain waves over idealized and real topography</li>\n",
    " <li>Orographic precipitation modelling based on mountain wave theory</li>\n",
    "</ul>  \n",
    "</div>"
   ]
  },
  {
   "cell_type": "markdown",
   "id": "12cbbdb0-da54-4e7b-b90a-29ef20a2d553",
   "metadata": {},
   "source": [
    "<div class=\"alert alert-block alert-info\">\n",
    "<b>Prerequisites</b><br>\n",
    "<ul>\n",
    "<li>Basic knowledge of Python, Jupyter Notebooks, and data analysis</li>\n",
    "<li>Familiarity with Scipy, Pandas, Xarray, and Plotly</li>\n",
    "<li>Download <a href=\"https://box.hu-berlin.de/f/6027f3c1e1de41fcbab1/\" download>here</a> the hu_models library\n",
    "<li>Download <a href=\"https://box.hu-berlin.de/f/f3f5234733f24f3189b2/\" download>here</a> the digital elevation model of Cordillera Darwin\n",
    " <li>More information about the moutain wave and orographic precipitation model can be found in <a href=\"https://box.hu-berlin.de/f/68d8001980014d27b893/\" download>Sauter (2020)</a> and <a href=\"https://box.hu-berlin.de/f/ebd5781a26094da59622/\" download>Smith and Barstad(2004)</a>\n",
    "</ul>  \n",
    "</div>"
   ]
  },
  {
   "cell_type": "code",
   "execution_count": null,
   "id": "fb9d4216-822f-4802-b5be-fcab9e9369b0",
   "metadata": {
    "tags": []
   },
   "outputs": [],
   "source": [
    "import numpy as np\n",
    "import xarray as xr\n",
    "\n",
    "# Import the plotly library\n",
    "from plotly.subplots import make_subplots\n",
    "import plotly.subplots as sp\n",
    "import plotly.graph_objs as go"
   ]
  },
  {
   "cell_type": "markdown",
   "id": "b7469b54-9d6f-4e87-b6d7-a5f66359727a",
   "metadata": {},
   "source": [
    "For this exercise, we use a mountain wave model that is provided by the hu_models module. So we need to load the module first with"
   ]
  },
  {
   "cell_type": "code",
   "execution_count": null,
   "id": "fd975f67-b4cf-4160-9266-2ac325565aa2",
   "metadata": {
    "tags": []
   },
   "outputs": [],
   "source": [
    "# Import the learning module\n",
    "from hu_models import HU_mountain_waves"
   ]
  },
  {
   "cell_type": "markdown",
   "id": "1b8e7b20-32f2-438a-bf9b-e0686f4e21bb",
   "metadata": {},
   "source": [
    "To better understand the behaviour of the model, we generate an artificial topography. Following many classical studies, we create a so-called Gaussian mountain with\n",
    "\n",
    "$$\n",
    "h = h_m \\cdot exp^\\left(-\\left(\\frac{(x-x_0)}{a^2}+\\frac{(x-x_0)}{a^2}\\right)\\right),\n",
    "$$\n",
    "\n",
    "with $a$ the mountain half width. For our simulation we create a domain of 20x20 km with a grid cell width of 200 m, a half-width of the mountain 1000 m and a height of 500 m. The mountain is placed slightly on the left edge of the domain at the location $x_0=5000$ and $y_0=10000$."
   ]
  },
  {
   "cell_type": "code",
   "execution_count": null,
   "id": "b83d1c52-d7e4-4c42-989d-dda7c0acf92d",
   "metadata": {
    "tags": []
   },
   "outputs": [],
   "source": [
    "# Create a Gaussian hill as a test case\n",
    "hm = 500 # Mountain height\n",
    "a = 1000 # Mountain half width\n",
    "dx = 200 # Grid spacing in x-direction\n",
    "dy = 200 # Grid spacing in y-direction\n",
    "Lx = 20000 # Domain size in x-direction [m]\n",
    "Ly = 20000 # Domain size in y-direction [m]\n",
    "x = np.arange(0,Lx,dx) # Create x-coordinates\n",
    "y = np.arange(0,Ly,dy) # Create y-coordinates\n",
    "x0 = 5000  # x-location\n",
    "y0 = 10000 # y-location\n",
    "\n",
    "# Create 2D coordinates \n",
    "X,Y = np.meshgrid(x,y)\n",
    "\n",
    "# Gaussian hill\n",
    "h = hm * np.exp(-( (((X-x0)**2)/(a**2)) + (((Y-y0)**2)/(a**2)) ))"
   ]
  },
  {
   "cell_type": "markdown",
   "id": "9c20d534-a186-4896-9b16-c5becf32c5ff",
   "metadata": {},
   "source": [
    "To facilitate the display of the fields we define a plotly function "
   ]
  },
  {
   "cell_type": "code",
   "execution_count": null,
   "id": "818ef649",
   "metadata": {
    "tags": []
   },
   "outputs": [],
   "source": [
    "def plot_fields(variable, x, y, title,colorscale=None):\n",
    "\n",
    "    # Create the subplots\n",
    "    fig = make_subplots(rows=1, cols=1, horizontal_spacing = 0.2)\n",
    "\n",
    "    # Add the first contour plot to the first subplot\n",
    "    fig.add_trace(go.Contour(\n",
    "        z=variable,  # Pass the values of the first variable\n",
    "        x=x,  # Pass the x-axis values\n",
    "        y=y,  # Pass the y-axis values\n",
    "        colorscale=colorscale\n",
    "    ))\n",
    "\n",
    "    # Set the layout of the subplots\n",
    "    fig.update_layout(\n",
    "        title=title,\n",
    "        xaxis=dict(title='Longitude'),\n",
    "        yaxis=dict(title='Latitude'),\n",
    "        height=800,  # Adjust the height of the subplots\n",
    "        width=800,  # Adjust the width of the subplots\n",
    "    )\n",
    "\n",
    "    # Display the subplots\n",
    "    fig.show()\n",
    "\n",
    "plot_fields(h,x,y,'Topography [m]')"
   ]
  },
  {
   "cell_type": "markdown",
   "id": "c23b34b8",
   "metadata": {},
   "source": [
    "The mountain wave model has some parameters that have to be defined in advance and are passed to the model as a Python dictionary. The parameters include:\n",
    "\n",
    "| Syntax      | Description | Description |\n",
    "| :--- | :--- | :---: |\n",
    "| $U$      | zonal wind speed       | $m~s^{-1}$ |\n",
    "| $V$   | meridional wind speed        | $m~s^{-1}$ |\n",
    "| $C_w$ | uplift sensitivity factor | - |\n",
    "| $H_w$ | water vapor scale height | $m$ |\n",
    "| $\\tau$ | timescales for the conversion from cloud water to hydrometeors and their precipitation | $s$ |\n",
    "| $dx$, $dy$ | grid spacing | $m$ |\n",
    "| $Nx$, $Ny$ | number of grid points | - |\n",
    "| $lon$ | array with longitude values | degree |\n",
    "| $lat$ | array with latitude values | degree |\n",
    "| $ts$ | timestep for precipitation calculation | s |\n",
    "| DEM | digital elevation model | - |\n",
    "| $output$ | name of the output netcdf file | - |\n",
    "| $z$ | height above the ground at which the wave is calculated | $m$ |\n"
   ]
  },
  {
   "cell_type": "code",
   "execution_count": null,
   "id": "09b3f474-ec27-421c-90a9-145397580d03",
   "metadata": {
    "tags": []
   },
   "outputs": [],
   "source": [
    "# Define parameter dictionary\n",
    "varDict = { 'U':10.0,\n",
    "        'V':0.00,\n",
    "        'Cw':0.004,\n",
    "        'N':6e-2,\n",
    "        'Hw':2620,\n",
    "        'tau':500,\n",
    "        'dx':200.0,\n",
    "        'dy':200.0,\n",
    "        'Nx':len(x),\n",
    "        'Ny':len(y),\n",
    "        'lon':x,\n",
    "        'lat':y,\n",
    "        'ts':3600,\n",
    "        'DEM':h,\n",
    "        'output': './opm_result.nc',\n",
    "        'z':500,\n",
    "        }"
   ]
  },
  {
   "cell_type": "markdown",
   "id": "83b07032",
   "metadata": {},
   "source": [
    "The Python dictionary is now passed as an argument to the class HU_mountain_waves "
   ]
  },
  {
   "cell_type": "code",
   "execution_count": null,
   "id": "d832b0bf",
   "metadata": {},
   "outputs": [],
   "source": [
    "#-----------------------------\n",
    "# Load the learning materials\n",
    "#-----------------------------\"\n",
    "mv = HU_mountain_waves(varDict)\n",
    "\n",
    "\n",
    "# Run the model\n",
    "mv.opmRun()"
   ]
  },
  {
   "cell_type": "markdown",
   "id": "c823e7e8",
   "metadata": {},
   "source": [
    "Then we can open the result file **opm_result.nc** and look at the vertical wind speed $w$"
   ]
  },
  {
   "cell_type": "code",
   "execution_count": null,
   "id": "8711c39c",
   "metadata": {},
   "outputs": [],
   "source": [
    "ds = xr.open_dataset('./opm_result.nc')\n",
    "plot_fields(ds.w,ds.lon,ds.lat,'Vertical velocity [m/s]')"
   ]
  },
  {
   "cell_type": "markdown",
   "id": "37cefc9f-881e-4f33-b8ad-713382335b02",
   "metadata": {},
   "source": [
    "<div class=\"alert alert-block alert-warning\">\n",
    "<b>Broaden Knowledge & Comprehension</b></br>\n",
    "<ul>\n",
    "<li>Calculate the natural wavelength $\\lambda$ and the Froude number\n",
    "<li>Change the height $z$ above the ground for which the vertical velocity perturbation is calculated. How does the pattern change with height? Look up in the literature why the pattern is changing\n",
    "<li>Change the Brunt-Väisälä frequency such that the Froude number $Fr<1$, $Fr \\approx 1$, and $Fr>1$. How does the pattern change? Do the patterns match the Froude numbers?\n",
    "</ul>\n",
    "</div>\n"
   ]
  },
  {
   "cell_type": "markdown",
   "id": "bb81cf05-9775-432c-9899-714af4000f3c",
   "metadata": {},
   "source": [
    "The model also outputs the orographic precipitation $P$ in mm per hour. The orographic precipitation model is based on mountain wave theory. Hydrometeors can form in regions where the air parcels rise in the lowest atmospheric layers. The hydrometeors are transported along with the prevailing flow for a certain time $\\tau$ and then fall out. The amount of water that can precipitate depends on the water content of the atmosphere, which is given by the characteristic water vapour height $H_w$ and the uplift sensitivity factor $C_w$."
   ]
  },
  {
   "cell_type": "code",
   "execution_count": null,
   "id": "7f55be77-0039-4ff9-b0f8-1df3c383d677",
   "metadata": {
    "tags": []
   },
   "outputs": [],
   "source": [
    "plot_fields(ds.P,ds.lon,ds.lat,'Precipitation [mm/h]')"
   ]
  },
  {
   "cell_type": "markdown",
   "id": "7cc94cae-b77a-44e2-8fd2-2659813167dc",
   "metadata": {},
   "source": [
    "<div class=\"alert alert-block alert-warning\">\n",
    "<b>Broaden Knowledge & Comprehension</b></br>\n",
    "<ul>\n",
    "<li>Change $C_w$, $H_w$, $U$, $V$ and $\\tau$ and try to understand how the parameters influence the precipitation and its distribution. Explain the influence of each parameter on the pattern.\n",
    "</ul>\n",
    "</div>\n"
   ]
  },
  {
   "cell_type": "markdown",
   "id": "69c66147-9abf-4e5c-bfe6-88fc87281bd0",
   "metadata": {
    "tags": []
   },
   "source": [
    "The same model can also be used for real-world applications. Here we use a digital elevation model from the Cordillera Darwin and calculate the mountain waves and orographic precipitation. First, we load the digital elevation model and then run the model"
   ]
  },
  {
   "cell_type": "code",
   "execution_count": null,
   "id": "36f01e43-1628-4a51-90db-9d085c215501",
   "metadata": {
    "tags": []
   },
   "outputs": [],
   "source": [
    "# Load digital elevation model\n",
    "DEM = xr.open_dataset('./CordilleraDarwinSRTM.nc')\n",
    "\n",
    "# Define parameters\n",
    "varDict = { 'U':10.0,\n",
    "        'V':5.00,\n",
    "        'Cw':0.004,\n",
    "        'N':6e-2,\n",
    "        'Hw':2620,\n",
    "        'tau':500,\n",
    "        'dx':200.0,\n",
    "        'dy':200.0,\n",
    "        'Nx':DEM.dims['lon'],\n",
    "        'Ny':DEM.dims['lat'],\n",
    "        'lon':DEM.lon.values,\n",
    "        'lat':DEM.lat.values,\n",
    "        'ts':3600,\n",
    "        'DEM':DEM['Band1'].values,\n",
    "        'output': './opm_result.nc',\n",
    "        'z':500,\n",
    "        }\n",
    "\n",
    "#-----------------------------\n",
    "# Load the learning materials\n",
    "#-----------------------------\"\n",
    "mv = HU_mountain_waves(varDict)\n",
    "\n",
    "\n",
    "# Run the model\n",
    "mv.opmRun()"
   ]
  },
  {
   "cell_type": "markdown",
   "id": "1b6550ab-fa74-46dd-b12c-bb01911c847e",
   "metadata": {
    "tags": []
   },
   "source": [
    "Then plot the result"
   ]
  },
  {
   "cell_type": "code",
   "execution_count": null,
   "id": "e040f49b-88ee-4c40-a244-ebbbdf042f71",
   "metadata": {
    "tags": []
   },
   "outputs": [],
   "source": [
    "def plot_fields(variable, title,colorscale=None):\n",
    "\n",
    "    # Create the subplots\n",
    "    fig = make_subplots(rows=1, cols=1, horizontal_spacing = 0.2)\n",
    "\n",
    "    # Add the first contour plot to the first subplot\n",
    "    fig.add_trace(go.Contour(\n",
    "        z=variable.values,  # Pass the values of the first variable\n",
    "        x=variable.coords['lon'].values,  # Pass the x-axis values\n",
    "        y=variable.coords['lat'].values,  # Pass the y-axis values\n",
    "        colorscale=colorscale\n",
    "    ))\n",
    "\n",
    "    # Set the layout of the subplots\n",
    "    fig.update_layout(\n",
    "        title=title,\n",
    "        xaxis=dict(title='Longitude'),\n",
    "        yaxis=dict(title='Latitude'),\n",
    "        height=600,  # Adjust the height of the subplots\n",
    "        width=600,  # Adjust the width of the subplots\n",
    "    )\n",
    "\n",
    "    # Display the subplots\n",
    "    fig.show()\n",
    "\n",
    "# Load your xarray dataset\n",
    "data = xr.open_dataset('./data/opm_result.nc')\n",
    "\n",
    "plot_fields(data['HGT'],'Topography [m]')\n",
    "plot_fields(data['P'],'Precipitation [mm/h]',colorscale='jet')\n",
    "plot_fields(data['w'],'Vertical velocity [m/s]',colorscale='jet')"
   ]
  },
  {
   "cell_type": "markdown",
   "id": "7fc1344f",
   "metadata": {},
   "source": [
    "<div class=\"alert alert-block alert-warning\">\n",
    "<b>Broaden Knowledge & Comprehension</b></br>\n",
    "<ul>\n",
    "<li>Change $C_w$, $H_w$, $U$, $V$ and $\\tau$ and try to understand how the parameters influence the precipitation and its distribution. Explain the influence of each parameter on the pattern.\n",
    "</ul>\n",
    "</div>"
   ]
  }
 ],
 "metadata": {
  "kernelspec": {
   "display_name": "meteo",
   "language": "python",
   "name": "meteo"
  },
  "language_info": {
   "codemirror_mode": {
    "name": "ipython",
    "version": 3
   },
   "file_extension": ".py",
   "mimetype": "text/x-python",
   "name": "python",
   "nbconvert_exporter": "python",
   "pygments_lexer": "ipython3",
   "version": "3.11.3"
  }
 },
 "nbformat": 4,
 "nbformat_minor": 5
}