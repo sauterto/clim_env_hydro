{
 "cells": [
  {
   "cell_type": "markdown",
   "id": "e05e39ce-fb35-4188-ad1e-7e2657a76719",
   "metadata": {},
   "source": [
    "(nb_radiation)=\n",
    "# Radiation and ground heat flux\n",
    "\n",
    "While large-scale weather shapes environmental conditions, energy exchange in mountain valleys is controlled by micrometeorological conditions. Given the complex topography with its different surface properties, it is not trivial to close the scale gap between the large-scale conditions and the local properties. The micrometeorological state of the surface layer is directly influenced by the Earth's surface and responds rapidly to changes in the surface energy budget. Radiative and turbulent heat fluxes cool and heat the near-surface air layer and determine the temperature distribution over the topography. Local temperature surpluses and deficits generate upwelling forces that drive thermal wind systems, including valley circulations, slope and glacier winds\n"
   ]
  },
  {
   "cell_type": "markdown",
   "id": "7480f1ba-ac62-4746-a594-a80c6d096e15",
   "metadata": {},
   "source": [
    "<div class=\"alert alert-block alert-success\">\n",
    "<b>Learning objectives:</b><br>\n",
    "<ul>\n",
    " <li>Parametrization of radiation fluxes</li>\n",
    " <li>Ground heat flux</li>\n",
    "</ul>  \n",
    "</div>"
   ]
  },
  {
   "cell_type": "markdown",
   "id": "b40533f9-c55f-4839-8388-85228b8b62b2",
   "metadata": {
    "tags": []
   },
   "source": [
    "<div class=\"alert alert-block alert-info\">\n",
    "<b>Prerequisites</b><br>\n",
    "<ul>\n",
    "<li>Basic knowledge of Python, Jupyter Notebooks, and data analysis</li>\n",
    "<li>Familiarity with MetPy, Pandas, Xarray, and Plotly</li>\n",
    "    <li>The additional package <b>xrspatial</b> must be installed\n",
    "<li>A netcdf file with the shadings and sky-view factors (can be downloaded <a href=\"https://box.hu-berlin.de/f/fad79e62bbfe4403a604/?dl=1\" download>here</a>)\n",
    "<li><a href=\"https://box.hu-berlin.de/f/c410656d0ea844149cfa/?dl=1\" download>hu_tools</a>\n",
    "<li><a href=\"https://box.hu-berlin.de/f/a12a656832104b7487c5/?dl=1\" download>Paine elevation</a>\n",
    "</ul>  \n",
    "</div>"
   ]
  },
  {
   "cell_type": "code",
   "execution_count": 1,
   "id": "4a207715-e72f-4e8a-8209-f3c8be35a612",
   "metadata": {
    "tags": []
   },
   "outputs": [],
   "source": [
    "import numpy as np\n",
    "import pandas as pd\n",
    "import math\n",
    "import xarray as xr\n",
    "\n",
    "# Import the plotly library\n",
    "from plotly.subplots import make_subplots\n",
    "import plotly.subplots as sp\n",
    "import plotly.graph_objs as go"
   ]
  },
  {
   "cell_type": "markdown",
   "id": "9f6ad192-c9e3-4a26-ae9b-04670df5be12",
   "metadata": {},
   "source": [
    "This exercise uses functions from the module HU_learning_material. The module was developed for this course and consists of a collection of functions discussed in the course. The module can be used with"
   ]
  },
  {
   "cell_type": "code",
   "execution_count": 2,
   "id": "65b310ff-51ce-45ee-98ec-a95e79ac4e76",
   "metadata": {
    "tags": []
   },
   "outputs": [],
   "source": [
    "# Import the learning module\n",
    "from hu_tools import HU_learning_material"
   ]
  },
  {
   "cell_type": "markdown",
   "id": "85bf3940-f10d-4c57-8a15-53d6a3a2aed4",
   "metadata": {
    "tags": []
   },
   "source": [
    "This is a so-called Python class. The class is called **HU_learning_material** and must be instantiated. This is done with"
   ]
  },
  {
   "cell_type": "code",
   "execution_count": 3,
   "id": "6c3a0e0f-f761-4b43-a39a-90de934300ae",
   "metadata": {
    "tags": []
   },
   "outputs": [],
   "source": [
    "#-----------------------------\n",
    "# Load the learning materials\n",
    "#-----------------------------\n",
    "hu = HU_learning_material()"
   ]
  },
  {
   "cell_type": "markdown",
   "id": "143caf59-304f-4273-884e-398fb6fd5d14",
   "metadata": {},
   "source": [
    "The functions can then be accessed with **hu***.function()*, where the placeholder *function* stands for the various functions available. With the following command, all functions/methods within the class can be displayed."
   ]
  },
  {
   "cell_type": "code",
   "execution_count": null,
   "id": "22a02082-6a75-4d97-b389-ffb2bc3559e5",
   "metadata": {
    "tags": []
   },
   "outputs": [],
   "source": [
    "class_methods = [method for method in dir(hu)\n",
    "                 if not method.startswith('__')\n",
    "                 and callable(getattr(hu, method))\n",
    "                 ]\n",
    "print(class_methods) "
   ]
  },
  {
   "cell_type": "markdown",
   "id": "c5eb436a-ac34-446d-b8cf-a004e7e9638b",
   "metadata": {},
   "source": [
    "You can find out more about the function/method and its arguments with"
   ]
  },
  {
   "cell_type": "code",
   "execution_count": null,
   "id": "f354c1ef-f447-40ad-a1b9-8cb09d0a0bb4",
   "metadata": {
    "tags": []
   },
   "outputs": [],
   "source": [
    "# Example: Information about the emissivity() method\n",
    "help(hu.emissivity)"
   ]
  },
  {
   "cell_type": "markdown",
   "id": "e1916a83-6ef2-4f46-8479-78d9be922013",
   "metadata": {},
   "source": [
    "# Solar parameters and transmissivity"
   ]
  },
  {
   "cell_type": "markdown",
   "id": "e3efd893-fa34-4c25-ab30-321b8592a1f5",
   "metadata": {},
   "source": [
    "We start with solar paramters and transmissivity (see slides). To calculate the local elevation angle of the sun, we need the coordinates of the location and the time."
   ]
  },
  {
   "cell_type": "code",
   "execution_count": null,
   "id": "3875bc78-7e63-4911-94e1-75d66411348d",
   "metadata": {
    "tags": []
   },
   "outputs": [],
   "source": [
    "#----------------------\n",
    "# Site\n",
    "#----------------------\n",
    "lat = 45.0  # Latitude of location\n",
    "lon = 10.0  # Longitud of location\n",
    "UTC = 19.5  # UTC at location"
   ]
  },
  {
   "cell_type": "markdown",
   "id": "bf00cb2a-9695-4c07-9951-203ce41a5c78",
   "metadata": {
    "tags": []
   },
   "source": [
    "First, we create a time vector for the period for which we want to calculate the local sun angle."
   ]
  },
  {
   "cell_type": "code",
   "execution_count": null,
   "id": "51de41e9-f394-4a4b-ae6e-1de05e2c7247",
   "metadata": {
    "tags": []
   },
   "outputs": [],
   "source": [
    "# Create a date vector for which the solar parameters and transmisivity are calculated\n",
    "timestamp = pd.date_range(start='01-01-2002', end='31-12-2002', freq='D')"
   ]
  },
  {
   "cell_type": "markdown",
   "id": "e8d6aa07-8683-4995-8639-e9ee47087393",
   "metadata": {},
   "source": [
    "Then we can calculate the angle with the function **local_elevation_angle()**. The function returns the sine of the angle (see slides). To obtain the final angle (radian), the arc sine of this value must be taken. Finally, we convert the radian into degrees with the function **rad2deg()**."
   ]
  },
  {
   "cell_type": "code",
   "execution_count": null,
   "id": "43a03b59-d914-415b-9f32-a54ca88a3211",
   "metadata": {
    "tags": []
   },
   "outputs": [],
   "source": [
    "# Local elevation angle using th HU-Tools\n",
    "angle = np.rad2deg(np.arcsin(hu.local_elevation_angle(lat,lon,UTC,timestamp.dayofyear,173,timestamp.size)))"
   ]
  },
  {
   "cell_type": "markdown",
   "id": "a439c40d-7212-464f-80b5-763a8daf9cb6",
   "metadata": {},
   "source": [
    "For the calculation of the transmissivity, the proportions of the cloud cover in the different cloud levels are required. "
   ]
  },
  {
   "cell_type": "code",
   "execution_count": null,
   "id": "268c3f45-7110-4d16-9b08-afe9418cde56",
   "metadata": {
    "tags": []
   },
   "outputs": [],
   "source": [
    "#----------------------\n",
    "# Parameters\n",
    "#----------------------\n",
    "ch = 0.0    # High cloud fraction\n",
    "cm = 0.0    # Middle cloud fraction\n",
    "cl = 0.0    # Low cloud fraction"
   ]
  },
  {
   "cell_type": "markdown",
   "id": "f4dc0cb4-0e2e-42e8-8b96-cfc657d7e5e9",
   "metadata": {},
   "source": [
    "This allows the transmissivity at a given place and time to be approximated using the function **tau()**."
   ]
  },
  {
   "cell_type": "code",
   "execution_count": null,
   "id": "74499603-20fb-45fe-ab9d-7b7bb3b08ba5",
   "metadata": {
    "tags": []
   },
   "outputs": [],
   "source": [
    "# Calculate transmissivity using th HU-Tools\n",
    "data  = hu.tau(ch, cm, cl, lat, lon, UTC, timestamp.dayofyear, 173, timestamp.size)"
   ]
  },
  {
   "cell_type": "markdown",
   "id": "9d2c4111-abd5-4440-a4f4-bd4687275eb2",
   "metadata": {},
   "source": [
    "To facilitate working with the results, we write the results into a Pandas DataFrame."
   ]
  },
  {
   "cell_type": "code",
   "execution_count": null,
   "id": "01321842-8d52-4ed3-9923-0851cc86a270",
   "metadata": {
    "tags": []
   },
   "outputs": [],
   "source": [
    "# Create a pandas DataFrame from the calculated arrays and the date vector\n",
    "df = pd.DataFrame(data, index=timestamp, columns=['tau'])\n",
    "\n",
    "# Add the local elevation angle to the DataFrame\n",
    "df['angle'] = angle"
   ]
  },
  {
   "cell_type": "markdown",
   "id": "51da873b-45ba-4d8f-83b7-397f0154dbdc",
   "metadata": {},
   "source": [
    "Plotly is a good way to display the data."
   ]
  },
  {
   "cell_type": "code",
   "execution_count": null,
   "id": "31750d5b-789a-4c47-9d59-0ea81f446a1c",
   "metadata": {
    "tags": []
   },
   "outputs": [],
   "source": [
    "#----------------------\n",
    "# Plot the results\n",
    "#----------------------\n",
    "# Creating the plot with two rows and one column. The plots share the same x-axis so that only labels \n",
    "# for the lower plots are shown\n",
    "fig = make_subplots(rows=2, cols=1, shared_xaxes=True)\n",
    "\n",
    "# Adding the transmissivity data as a  line in the top panel\n",
    "fig.add_trace(go.Scatter(x=df.index, y=df.tau, line=dict(color='royalblue', dash='solid'), name='Transmissitivty [-]'),\n",
    "                        row=1, col=1)\n",
    "\n",
    "# Adding the local elevation angle as line in the bottom panel\n",
    "fig.add_trace(go.Scatter(x=df.index, y=df.angle, line=dict(color='green', dash='solid'), name='Local elevation angle [º]'),\n",
    "                         row=2, col=1)\n",
    "\n",
    "# Adjusting the layout\n",
    "fig.update_layout(title='Transmissivity and local elevation angle', plot_bgcolor='white', width=800, height=600,\n",
    "                  yaxis=dict(title='Transmissitivty [-]', showgrid=True, gridcolor='lightgray', gridwidth=1),\n",
    "                  yaxis2=dict(title='Local elevation angle [º]', showgrid=True, gridcolor='lightgray', gridwidth=1),\n",
    "                  xaxis=dict(title='', tickformat='%d.%m.%Y', showgrid=True, gridcolor='lightgray', gridwidth=1),\n",
    "                  xaxis2=dict(title='Date', tickformat='%d.%m.%Y', showgrid=True, gridcolor='lightgray', gridwidth=1))\n",
    "\n",
    "\n",
    "# Adjusting the axes\n",
    "fig.update_xaxes(nticks=10, row=1, col=1)\n",
    "fig.update_yaxes(nticks=5, row=1, col=1)\n",
    "fig.update_xaxes(nticks=10, row=2, col=1)\n",
    "fig.update_yaxes(nticks=5, row=2, col=1)\n",
    "\n",
    "# Showing the plot\n",
    "fig.show()"
   ]
  },
  {
   "cell_type": "markdown",
   "id": "065be03e-516f-46c5-836e-1f9c24f7c46e",
   "metadata": {},
   "source": [
    "<div class=\"alert alert-block alert-warning\">\n",
    "<b>Broaden Knowledge & Comprehension</b></br>\n",
    "In what period of time is the sun still above the horizon at 45º north and 10º east after 7:30pm?\n",
    "How sensitive is the transmissivity to clouds in the low, middle and high atmosphere? Look at the equation for transmissivity and find out why there are differences. What is a weakness of the parameterisation?\n",
    "</div>"
   ]
  },
  {
   "cell_type": "markdown",
   "id": "6882b5ef-03b1-4d5e-8fff-181e41586266",
   "metadata": {},
   "source": [
    "# Shortwave radiation and albedo"
   ]
  },
  {
   "cell_type": "markdown",
   "id": "0aa7212a-1ad5-4fd5-9ffc-9b2acc209bac",
   "metadata": {
    "tags": []
   },
   "source": [
    "Most weather stations measure the short-wave irradiation directly.  If the albedo of the surfaces is known, the short-wave radiation balance can be calculated very easily."
   ]
  },
  {
   "cell_type": "code",
   "execution_count": null,
   "id": "96666365-c882-4c33-84b9-60c09100adcd",
   "metadata": {
    "tags": []
   },
   "outputs": [],
   "source": [
    "albedo = 0.7  # [-] \n",
    "SWin = 342    # W/mˆ2\n",
    "\n",
    "print('Incoming shortwave radiation: {:.2f}'.format(SWin))\n",
    "print('Outgoing shortwave radiation: {:.2f}'.format(hu.SWout(SWin,albedo)))\n",
    "print('Net shortwave radiation: {:.2f}'.format(SWin-hu.SWout(SWin,albedo)))"
   ]
  },
  {
   "cell_type": "markdown",
   "id": "cd4153ca-2741-44bf-9847-018e2b0509ff",
   "metadata": {},
   "source": [
    "<div class=\"alert alert-block alert-warning\">\n",
    "<b>Broaden Knowledge & Comprehension</b></br>\n",
    "Review the 'Global Energy Fluxes' figure on slide 4 of the presentation and identify the outgoing shortwave radiation. Use this information to determine the global albedo.\n",
    "\n",
    "Here the value 342 $W/m^{2}$ was used, which corresponds to the average global incoming solar radiation. Why is this value lower than the solar constant, which has a value of ~1362 $W/m^{2}$?\n",
    "</div>\n"
   ]
  },
  {
   "cell_type": "markdown",
   "id": "e1164ac3-1231-47d0-b909-a5b206b70a5b",
   "metadata": {},
   "source": [
    "In many cases it is necessary to calculate the direct and diffuse radiation in complex terrain. In order to calculate the radiation fluxes, the shading effects must be taken into account. In this section we briefly discuss how this can be done.\n",
    "\n",
    "First, we load the digital elevation model. The georeferenced Geotiff has already been saved here in netcdf format."
   ]
  },
  {
   "cell_type": "code",
   "execution_count": 4,
   "id": "8ba5dfcf-f4fe-4194-ad06-de21b7d7e75d",
   "metadata": {
    "tags": []
   },
   "outputs": [
    {
     "data": {
      "text/html": [
       "<div><svg style=\"position: absolute; width: 0; height: 0; overflow: hidden\">\n",
       "<defs>\n",
       "<symbol id=\"icon-database\" viewBox=\"0 0 32 32\">\n",
       "<path d=\"M16 0c-8.837 0-16 2.239-16 5v4c0 2.761 7.163 5 16 5s16-2.239 16-5v-4c0-2.761-7.163-5-16-5z\"></path>\n",
       "<path d=\"M16 17c-8.837 0-16-2.239-16-5v6c0 2.761 7.163 5 16 5s16-2.239 16-5v-6c0 2.761-7.163 5-16 5z\"></path>\n",
       "<path d=\"M16 26c-8.837 0-16-2.239-16-5v6c0 2.761 7.163 5 16 5s16-2.239 16-5v-6c0 2.761-7.163 5-16 5z\"></path>\n",
       "</symbol>\n",
       "<symbol id=\"icon-file-text2\" viewBox=\"0 0 32 32\">\n",
       "<path d=\"M28.681 7.159c-0.694-0.947-1.662-2.053-2.724-3.116s-2.169-2.030-3.116-2.724c-1.612-1.182-2.393-1.319-2.841-1.319h-15.5c-1.378 0-2.5 1.121-2.5 2.5v27c0 1.378 1.122 2.5 2.5 2.5h23c1.378 0 2.5-1.122 2.5-2.5v-19.5c0-0.448-0.137-1.23-1.319-2.841zM24.543 5.457c0.959 0.959 1.712 1.825 2.268 2.543h-4.811v-4.811c0.718 0.556 1.584 1.309 2.543 2.268zM28 29.5c0 0.271-0.229 0.5-0.5 0.5h-23c-0.271 0-0.5-0.229-0.5-0.5v-27c0-0.271 0.229-0.5 0.5-0.5 0 0 15.499-0 15.5 0v7c0 0.552 0.448 1 1 1h7v19.5z\"></path>\n",
       "<path d=\"M23 26h-14c-0.552 0-1-0.448-1-1s0.448-1 1-1h14c0.552 0 1 0.448 1 1s-0.448 1-1 1z\"></path>\n",
       "<path d=\"M23 22h-14c-0.552 0-1-0.448-1-1s0.448-1 1-1h14c0.552 0 1 0.448 1 1s-0.448 1-1 1z\"></path>\n",
       "<path d=\"M23 18h-14c-0.552 0-1-0.448-1-1s0.448-1 1-1h14c0.552 0 1 0.448 1 1s-0.448 1-1 1z\"></path>\n",
       "</symbol>\n",
       "</defs>\n",
       "</svg>\n",
       "<style>/* CSS stylesheet for displaying xarray objects in jupyterlab.\n",
       " *\n",
       " */\n",
       "\n",
       ":root {\n",
       "  --xr-font-color0: var(--jp-content-font-color0, rgba(0, 0, 0, 1));\n",
       "  --xr-font-color2: var(--jp-content-font-color2, rgba(0, 0, 0, 0.54));\n",
       "  --xr-font-color3: var(--jp-content-font-color3, rgba(0, 0, 0, 0.38));\n",
       "  --xr-border-color: var(--jp-border-color2, #e0e0e0);\n",
       "  --xr-disabled-color: var(--jp-layout-color3, #bdbdbd);\n",
       "  --xr-background-color: var(--jp-layout-color0, white);\n",
       "  --xr-background-color-row-even: var(--jp-layout-color1, white);\n",
       "  --xr-background-color-row-odd: var(--jp-layout-color2, #eeeeee);\n",
       "}\n",
       "\n",
       "html[theme=dark],\n",
       "body[data-theme=dark],\n",
       "body.vscode-dark {\n",
       "  --xr-font-color0: rgba(255, 255, 255, 1);\n",
       "  --xr-font-color2: rgba(255, 255, 255, 0.54);\n",
       "  --xr-font-color3: rgba(255, 255, 255, 0.38);\n",
       "  --xr-border-color: #1F1F1F;\n",
       "  --xr-disabled-color: #515151;\n",
       "  --xr-background-color: #111111;\n",
       "  --xr-background-color-row-even: #111111;\n",
       "  --xr-background-color-row-odd: #313131;\n",
       "}\n",
       "\n",
       ".xr-wrap {\n",
       "  display: block !important;\n",
       "  min-width: 300px;\n",
       "  max-width: 700px;\n",
       "}\n",
       "\n",
       ".xr-text-repr-fallback {\n",
       "  /* fallback to plain text repr when CSS is not injected (untrusted notebook) */\n",
       "  display: none;\n",
       "}\n",
       "\n",
       ".xr-header {\n",
       "  padding-top: 6px;\n",
       "  padding-bottom: 6px;\n",
       "  margin-bottom: 4px;\n",
       "  border-bottom: solid 1px var(--xr-border-color);\n",
       "}\n",
       "\n",
       ".xr-header > div,\n",
       ".xr-header > ul {\n",
       "  display: inline;\n",
       "  margin-top: 0;\n",
       "  margin-bottom: 0;\n",
       "}\n",
       "\n",
       ".xr-obj-type,\n",
       ".xr-array-name {\n",
       "  margin-left: 2px;\n",
       "  margin-right: 10px;\n",
       "}\n",
       "\n",
       ".xr-obj-type {\n",
       "  color: var(--xr-font-color2);\n",
       "}\n",
       "\n",
       ".xr-sections {\n",
       "  padding-left: 0 !important;\n",
       "  display: grid;\n",
       "  grid-template-columns: 150px auto auto 1fr 20px 20px;\n",
       "}\n",
       "\n",
       ".xr-section-item {\n",
       "  display: contents;\n",
       "}\n",
       "\n",
       ".xr-section-item input {\n",
       "  display: none;\n",
       "}\n",
       "\n",
       ".xr-section-item input + label {\n",
       "  color: var(--xr-disabled-color);\n",
       "}\n",
       "\n",
       ".xr-section-item input:enabled + label {\n",
       "  cursor: pointer;\n",
       "  color: var(--xr-font-color2);\n",
       "}\n",
       "\n",
       ".xr-section-item input:enabled + label:hover {\n",
       "  color: var(--xr-font-color0);\n",
       "}\n",
       "\n",
       ".xr-section-summary {\n",
       "  grid-column: 1;\n",
       "  color: var(--xr-font-color2);\n",
       "  font-weight: 500;\n",
       "}\n",
       "\n",
       ".xr-section-summary > span {\n",
       "  display: inline-block;\n",
       "  padding-left: 0.5em;\n",
       "}\n",
       "\n",
       ".xr-section-summary-in:disabled + label {\n",
       "  color: var(--xr-font-color2);\n",
       "}\n",
       "\n",
       ".xr-section-summary-in + label:before {\n",
       "  display: inline-block;\n",
       "  content: '►';\n",
       "  font-size: 11px;\n",
       "  width: 15px;\n",
       "  text-align: center;\n",
       "}\n",
       "\n",
       ".xr-section-summary-in:disabled + label:before {\n",
       "  color: var(--xr-disabled-color);\n",
       "}\n",
       "\n",
       ".xr-section-summary-in:checked + label:before {\n",
       "  content: '▼';\n",
       "}\n",
       "\n",
       ".xr-section-summary-in:checked + label > span {\n",
       "  display: none;\n",
       "}\n",
       "\n",
       ".xr-section-summary,\n",
       ".xr-section-inline-details {\n",
       "  padding-top: 4px;\n",
       "  padding-bottom: 4px;\n",
       "}\n",
       "\n",
       ".xr-section-inline-details {\n",
       "  grid-column: 2 / -1;\n",
       "}\n",
       "\n",
       ".xr-section-details {\n",
       "  display: none;\n",
       "  grid-column: 1 / -1;\n",
       "  margin-bottom: 5px;\n",
       "}\n",
       "\n",
       ".xr-section-summary-in:checked ~ .xr-section-details {\n",
       "  display: contents;\n",
       "}\n",
       "\n",
       ".xr-array-wrap {\n",
       "  grid-column: 1 / -1;\n",
       "  display: grid;\n",
       "  grid-template-columns: 20px auto;\n",
       "}\n",
       "\n",
       ".xr-array-wrap > label {\n",
       "  grid-column: 1;\n",
       "  vertical-align: top;\n",
       "}\n",
       "\n",
       ".xr-preview {\n",
       "  color: var(--xr-font-color3);\n",
       "}\n",
       "\n",
       ".xr-array-preview,\n",
       ".xr-array-data {\n",
       "  padding: 0 5px !important;\n",
       "  grid-column: 2;\n",
       "}\n",
       "\n",
       ".xr-array-data,\n",
       ".xr-array-in:checked ~ .xr-array-preview {\n",
       "  display: none;\n",
       "}\n",
       "\n",
       ".xr-array-in:checked ~ .xr-array-data,\n",
       ".xr-array-preview {\n",
       "  display: inline-block;\n",
       "}\n",
       "\n",
       ".xr-dim-list {\n",
       "  display: inline-block !important;\n",
       "  list-style: none;\n",
       "  padding: 0 !important;\n",
       "  margin: 0;\n",
       "}\n",
       "\n",
       ".xr-dim-list li {\n",
       "  display: inline-block;\n",
       "  padding: 0;\n",
       "  margin: 0;\n",
       "}\n",
       "\n",
       ".xr-dim-list:before {\n",
       "  content: '(';\n",
       "}\n",
       "\n",
       ".xr-dim-list:after {\n",
       "  content: ')';\n",
       "}\n",
       "\n",
       ".xr-dim-list li:not(:last-child):after {\n",
       "  content: ',';\n",
       "  padding-right: 5px;\n",
       "}\n",
       "\n",
       ".xr-has-index {\n",
       "  font-weight: bold;\n",
       "}\n",
       "\n",
       ".xr-var-list,\n",
       ".xr-var-item {\n",
       "  display: contents;\n",
       "}\n",
       "\n",
       ".xr-var-item > div,\n",
       ".xr-var-item label,\n",
       ".xr-var-item > .xr-var-name span {\n",
       "  background-color: var(--xr-background-color-row-even);\n",
       "  margin-bottom: 0;\n",
       "}\n",
       "\n",
       ".xr-var-item > .xr-var-name:hover span {\n",
       "  padding-right: 5px;\n",
       "}\n",
       "\n",
       ".xr-var-list > li:nth-child(odd) > div,\n",
       ".xr-var-list > li:nth-child(odd) > label,\n",
       ".xr-var-list > li:nth-child(odd) > .xr-var-name span {\n",
       "  background-color: var(--xr-background-color-row-odd);\n",
       "}\n",
       "\n",
       ".xr-var-name {\n",
       "  grid-column: 1;\n",
       "}\n",
       "\n",
       ".xr-var-dims {\n",
       "  grid-column: 2;\n",
       "}\n",
       "\n",
       ".xr-var-dtype {\n",
       "  grid-column: 3;\n",
       "  text-align: right;\n",
       "  color: var(--xr-font-color2);\n",
       "}\n",
       "\n",
       ".xr-var-preview {\n",
       "  grid-column: 4;\n",
       "}\n",
       "\n",
       ".xr-index-preview {\n",
       "  grid-column: 2 / 5;\n",
       "  color: var(--xr-font-color2);\n",
       "}\n",
       "\n",
       ".xr-var-name,\n",
       ".xr-var-dims,\n",
       ".xr-var-dtype,\n",
       ".xr-preview,\n",
       ".xr-attrs dt {\n",
       "  white-space: nowrap;\n",
       "  overflow: hidden;\n",
       "  text-overflow: ellipsis;\n",
       "  padding-right: 10px;\n",
       "}\n",
       "\n",
       ".xr-var-name:hover,\n",
       ".xr-var-dims:hover,\n",
       ".xr-var-dtype:hover,\n",
       ".xr-attrs dt:hover {\n",
       "  overflow: visible;\n",
       "  width: auto;\n",
       "  z-index: 1;\n",
       "}\n",
       "\n",
       ".xr-var-attrs,\n",
       ".xr-var-data,\n",
       ".xr-index-data {\n",
       "  display: none;\n",
       "  background-color: var(--xr-background-color) !important;\n",
       "  padding-bottom: 5px !important;\n",
       "}\n",
       "\n",
       ".xr-var-attrs-in:checked ~ .xr-var-attrs,\n",
       ".xr-var-data-in:checked ~ .xr-var-data,\n",
       ".xr-index-data-in:checked ~ .xr-index-data {\n",
       "  display: block;\n",
       "}\n",
       "\n",
       ".xr-var-data > table {\n",
       "  float: right;\n",
       "}\n",
       "\n",
       ".xr-var-name span,\n",
       ".xr-var-data,\n",
       ".xr-index-name div,\n",
       ".xr-index-data,\n",
       ".xr-attrs {\n",
       "  padding-left: 25px !important;\n",
       "}\n",
       "\n",
       ".xr-attrs,\n",
       ".xr-var-attrs,\n",
       ".xr-var-data,\n",
       ".xr-index-data {\n",
       "  grid-column: 1 / -1;\n",
       "}\n",
       "\n",
       "dl.xr-attrs {\n",
       "  padding: 0;\n",
       "  margin: 0;\n",
       "  display: grid;\n",
       "  grid-template-columns: 125px auto;\n",
       "}\n",
       "\n",
       ".xr-attrs dt,\n",
       ".xr-attrs dd {\n",
       "  padding: 0;\n",
       "  margin: 0;\n",
       "  float: left;\n",
       "  padding-right: 10px;\n",
       "  width: auto;\n",
       "}\n",
       "\n",
       ".xr-attrs dt {\n",
       "  font-weight: normal;\n",
       "  grid-column: 1;\n",
       "}\n",
       "\n",
       ".xr-attrs dt:hover span {\n",
       "  display: inline-block;\n",
       "  background: var(--xr-background-color);\n",
       "  padding-right: 10px;\n",
       "}\n",
       "\n",
       ".xr-attrs dd {\n",
       "  grid-column: 2;\n",
       "  white-space: pre-wrap;\n",
       "  word-break: break-all;\n",
       "}\n",
       "\n",
       ".xr-icon-database,\n",
       ".xr-icon-file-text2,\n",
       ".xr-no-icon {\n",
       "  display: inline-block;\n",
       "  vertical-align: middle;\n",
       "  width: 1em;\n",
       "  height: 1.5em !important;\n",
       "  stroke-width: 0;\n",
       "  stroke: currentColor;\n",
       "  fill: currentColor;\n",
       "}\n",
       "</style><pre class='xr-text-repr-fallback'>&lt;xarray.Dataset&gt;\n",
       "Dimensions:    (x: 217, y: 108)\n",
       "Coordinates:\n",
       "    band       int64 ...\n",
       "  * x          (x) float64 -73.06 -73.06 -73.06 -73.06 ... -73.0 -73.0 -73.0\n",
       "  * y          (y) float64 -50.93 -50.93 -50.93 -50.93 ... -50.96 -50.96 -50.96\n",
       "Data variables:\n",
       "    band_data  (y, x) float32 ...</pre><div class='xr-wrap' style='display:none'><div class='xr-header'><div class='xr-obj-type'>xarray.Dataset</div></div><ul class='xr-sections'><li class='xr-section-item'><input id='section-5a1f051b-d5bc-48a0-9c1c-ebf2d093c802' class='xr-section-summary-in' type='checkbox' disabled ><label for='section-5a1f051b-d5bc-48a0-9c1c-ebf2d093c802' class='xr-section-summary'  title='Expand/collapse section'>Dimensions:</label><div class='xr-section-inline-details'><ul class='xr-dim-list'><li><span class='xr-has-index'>x</span>: 217</li><li><span class='xr-has-index'>y</span>: 108</li></ul></div><div class='xr-section-details'></div></li><li class='xr-section-item'><input id='section-21ababbe-2a92-4ce3-929a-6f87bc4567a0' class='xr-section-summary-in' type='checkbox'  checked><label for='section-21ababbe-2a92-4ce3-929a-6f87bc4567a0' class='xr-section-summary' >Coordinates: <span>(3)</span></label><div class='xr-section-inline-details'></div><div class='xr-section-details'><ul class='xr-var-list'><li class='xr-var-item'><div class='xr-var-name'><span>band</span></div><div class='xr-var-dims'>()</div><div class='xr-var-dtype'>int64</div><div class='xr-var-preview xr-preview'>...</div><input id='attrs-e70d7ecc-9bc1-486e-88be-b0ee72cdd1c0' class='xr-var-attrs-in' type='checkbox' disabled><label for='attrs-e70d7ecc-9bc1-486e-88be-b0ee72cdd1c0' title='Show/Hide attributes'><svg class='icon xr-icon-file-text2'><use xlink:href='#icon-file-text2'></use></svg></label><input id='data-c919e3b8-6ef2-4e44-af3d-903ae10ee5b9' class='xr-var-data-in' type='checkbox'><label for='data-c919e3b8-6ef2-4e44-af3d-903ae10ee5b9' title='Show/Hide data repr'><svg class='icon xr-icon-database'><use xlink:href='#icon-database'></use></svg></label><div class='xr-var-attrs'><dl class='xr-attrs'></dl></div><div class='xr-var-data'><pre>[1 values with dtype=int64]</pre></div></li><li class='xr-var-item'><div class='xr-var-name'><span class='xr-has-index'>x</span></div><div class='xr-var-dims'>(x)</div><div class='xr-var-dtype'>float64</div><div class='xr-var-preview xr-preview'>-73.06 -73.06 ... -73.0 -73.0</div><input id='attrs-6b34c247-381a-4ff3-bdec-639564d88100' class='xr-var-attrs-in' type='checkbox' disabled><label for='attrs-6b34c247-381a-4ff3-bdec-639564d88100' title='Show/Hide attributes'><svg class='icon xr-icon-file-text2'><use xlink:href='#icon-file-text2'></use></svg></label><input id='data-12029aaf-ea66-4615-9c6e-7e1e83da2b5e' class='xr-var-data-in' type='checkbox'><label for='data-12029aaf-ea66-4615-9c6e-7e1e83da2b5e' title='Show/Hide data repr'><svg class='icon xr-icon-database'><use xlink:href='#icon-database'></use></svg></label><div class='xr-var-attrs'><dl class='xr-attrs'></dl></div><div class='xr-var-data'><pre>array([-73.06    , -73.059722, -73.059444, ..., -73.000556, -73.000278,\n",
       "       -73.      ])</pre></div></li><li class='xr-var-item'><div class='xr-var-name'><span class='xr-has-index'>y</span></div><div class='xr-var-dims'>(y)</div><div class='xr-var-dtype'>float64</div><div class='xr-var-preview xr-preview'>-50.93 -50.93 ... -50.96 -50.96</div><input id='attrs-1f433370-b56a-410e-81a5-862480c7fbee' class='xr-var-attrs-in' type='checkbox' disabled><label for='attrs-1f433370-b56a-410e-81a5-862480c7fbee' title='Show/Hide attributes'><svg class='icon xr-icon-file-text2'><use xlink:href='#icon-file-text2'></use></svg></label><input id='data-a29593b1-c4a1-4ee3-8d5e-f30230076b6e' class='xr-var-data-in' type='checkbox'><label for='data-a29593b1-c4a1-4ee3-8d5e-f30230076b6e' title='Show/Hide data repr'><svg class='icon xr-icon-database'><use xlink:href='#icon-database'></use></svg></label><div class='xr-var-attrs'><dl class='xr-attrs'></dl></div><div class='xr-var-data'><pre>array([-50.930278, -50.930556, -50.930833, -50.931111, -50.931389, -50.931667,\n",
       "       -50.931944, -50.932222, -50.9325  , -50.932778, -50.933056, -50.933333,\n",
       "       -50.933611, -50.933889, -50.934167, -50.934444, -50.934722, -50.935   ,\n",
       "       -50.935278, -50.935556, -50.935833, -50.936111, -50.936389, -50.936667,\n",
       "       -50.936944, -50.937222, -50.9375  , -50.937778, -50.938056, -50.938333,\n",
       "       -50.938611, -50.938889, -50.939167, -50.939444, -50.939722, -50.94    ,\n",
       "       -50.940278, -50.940556, -50.940833, -50.941111, -50.941389, -50.941667,\n",
       "       -50.941944, -50.942222, -50.9425  , -50.942778, -50.943056, -50.943333,\n",
       "       -50.943611, -50.943889, -50.944167, -50.944444, -50.944722, -50.945   ,\n",
       "       -50.945278, -50.945556, -50.945833, -50.946111, -50.946389, -50.946667,\n",
       "       -50.946944, -50.947222, -50.9475  , -50.947778, -50.948056, -50.948333,\n",
       "       -50.948611, -50.948889, -50.949167, -50.949444, -50.949722, -50.95    ,\n",
       "       -50.950278, -50.950556, -50.950833, -50.951111, -50.951389, -50.951667,\n",
       "       -50.951944, -50.952222, -50.9525  , -50.952778, -50.953056, -50.953333,\n",
       "       -50.953611, -50.953889, -50.954167, -50.954444, -50.954722, -50.955   ,\n",
       "       -50.955278, -50.955556, -50.955833, -50.956111, -50.956389, -50.956667,\n",
       "       -50.956944, -50.957222, -50.9575  , -50.957778, -50.958056, -50.958333,\n",
       "       -50.958611, -50.958889, -50.959167, -50.959444, -50.959722, -50.96    ])</pre></div></li></ul></div></li><li class='xr-section-item'><input id='section-9dcfab8a-abb8-4a13-ab29-27845afce861' class='xr-section-summary-in' type='checkbox'  checked><label for='section-9dcfab8a-abb8-4a13-ab29-27845afce861' class='xr-section-summary' >Data variables: <span>(1)</span></label><div class='xr-section-inline-details'></div><div class='xr-section-details'><ul class='xr-var-list'><li class='xr-var-item'><div class='xr-var-name'><span>band_data</span></div><div class='xr-var-dims'>(y, x)</div><div class='xr-var-dtype'>float32</div><div class='xr-var-preview xr-preview'>...</div><input id='attrs-cbbf988d-ae2b-48f9-bb01-e04778316d2d' class='xr-var-attrs-in' type='checkbox' ><label for='attrs-cbbf988d-ae2b-48f9-bb01-e04778316d2d' title='Show/Hide attributes'><svg class='icon xr-icon-file-text2'><use xlink:href='#icon-file-text2'></use></svg></label><input id='data-6be36114-9eb5-43ed-8a49-d55937f269c5' class='xr-var-data-in' type='checkbox'><label for='data-6be36114-9eb5-43ed-8a49-d55937f269c5' title='Show/Hide data repr'><svg class='icon xr-icon-database'><use xlink:href='#icon-database'></use></svg></label><div class='xr-var-attrs'><dl class='xr-attrs'><dt><span>AREA_OR_POINT :</span></dt><dd>Area</dd><dt><span>STATISTICS_MAXIMUM :</span></dt><dd>2448</dd><dt><span>STATISTICS_MEAN :</span></dt><dd>1269.8601466914</dd><dt><span>STATISTICS_MINIMUM :</span></dt><dd>122</dd><dt><span>STATISTICS_STDDEV :</span></dt><dd>365.40564033857</dd><dt><span>STATISTICS_VALID_PERCENT :</span></dt><dd>100</dd><dt><span>grid_mapping :</span></dt><dd>spatial_ref</dd><dt><span>res :</span></dt><dd>30.887479517545337</dd></dl></div><div class='xr-var-data'><pre>[23436 values with dtype=float32]</pre></div></li></ul></div></li><li class='xr-section-item'><input id='section-05a7bb64-f8ae-454c-9b9c-8e8b0c04c4ae' class='xr-section-summary-in' type='checkbox'  ><label for='section-05a7bb64-f8ae-454c-9b9c-8e8b0c04c4ae' class='xr-section-summary' >Indexes: <span>(2)</span></label><div class='xr-section-inline-details'></div><div class='xr-section-details'><ul class='xr-var-list'><li class='xr-var-item'><div class='xr-index-name'><div>x</div></div><div class='xr-index-preview'>PandasIndex</div><div></div><input id='index-d1a1109d-8169-4d64-a821-441dddf6aec7' class='xr-index-data-in' type='checkbox'/><label for='index-d1a1109d-8169-4d64-a821-441dddf6aec7' title='Show/Hide index repr'><svg class='icon xr-icon-database'><use xlink:href='#icon-database'></use></svg></label><div class='xr-index-data'><pre>PandasIndex(Index([ -73.0599999999776, -73.05972222220149, -73.05944444442537,\n",
       "       -73.05916666664925, -73.05888888887313, -73.05861111109701,\n",
       "       -73.05833333332089, -73.05805555554477, -73.05777777776865,\n",
       "       -73.05749999999253,\n",
       "       ...\n",
       "        -73.0025000003209, -73.00222222254477, -73.00194444476865,\n",
       "       -73.00166666699253, -73.00138888921641,  -73.0011111114403,\n",
       "       -73.00083333366418, -73.00055555588806, -73.00027777811194,\n",
       "       -73.00000000033582],\n",
       "      dtype=&#x27;float64&#x27;, name=&#x27;x&#x27;, length=217))</pre></div></li><li class='xr-var-item'><div class='xr-index-name'><div>y</div></div><div class='xr-index-preview'>PandasIndex</div><div></div><input id='index-1de75a84-449a-4fe0-a144-41ca4c761a9a' class='xr-index-data-in' type='checkbox'/><label for='index-1de75a84-449a-4fe0-a144-41ca4c761a9a' title='Show/Hide index repr'><svg class='icon xr-icon-database'><use xlink:href='#icon-database'></use></svg></label><div class='xr-index-data'><pre>PandasIndex(Index([-50.930277777630906,  -50.93055555540773,  -50.93083333318456,\n",
       "        -50.93111111096138, -50.931388888738205,  -50.93166666651503,\n",
       "        -50.93194444429185, -50.932222222068674,   -50.9324999998455,\n",
       "        -50.93277777762233,\n",
       "       ...\n",
       "        -50.95749999975966, -50.957777777536485,  -50.95805555531331,\n",
       "        -50.95833333309014,  -50.95861111086696, -50.958888888643784,\n",
       "        -50.95916666642061,  -50.95944444419743,  -50.95972222197425,\n",
       "       -50.959999999751076],\n",
       "      dtype=&#x27;float64&#x27;, name=&#x27;y&#x27;, length=108))</pre></div></li></ul></div></li><li class='xr-section-item'><input id='section-a440de4d-77fe-4511-9d6d-f14b8ee4fd93' class='xr-section-summary-in' type='checkbox' disabled ><label for='section-a440de4d-77fe-4511-9d6d-f14b8ee4fd93' class='xr-section-summary'  title='Expand/collapse section'>Attributes: <span>(0)</span></label><div class='xr-section-inline-details'></div><div class='xr-section-details'><dl class='xr-attrs'></dl></div></li></ul></div></div>"
      ],
      "text/plain": [
       "<xarray.Dataset>\n",
       "Dimensions:    (x: 217, y: 108)\n",
       "Coordinates:\n",
       "    band       int64 ...\n",
       "  * x          (x) float64 -73.06 -73.06 -73.06 -73.06 ... -73.0 -73.0 -73.0\n",
       "  * y          (y) float64 -50.93 -50.93 -50.93 -50.93 ... -50.96 -50.96 -50.96\n",
       "Data variables:\n",
       "    band_data  (y, x) float32 ..."
      ]
     },
     "execution_count": 4,
     "metadata": {},
     "output_type": "execute_result"
    }
   ],
   "source": [
    "#------------------------------\n",
    "# Read digital elevation model\n",
    "#------------------------------\n",
    "dem = xr.open_dataset('./data/paine_elevation.nc')\n",
    "dem"
   ]
  },
  {
   "cell_type": "markdown",
   "id": "9f391247-57ca-4af3-b22d-73cd5b23ea68",
   "metadata": {},
   "source": [
    "The file contains the variable band_data which contains the height information. The dimension of the variable is band_data(x, y) where x corresponds to the longitude values and y to the latitude values. We can now read the 2D data from the variable *band_data* from the file and do a quick plot."
   ]
  },
  {
   "cell_type": "code",
   "execution_count": null,
   "id": "0392be7f-0d29-4e0c-9857-673552038684",
   "metadata": {
    "tags": []
   },
   "outputs": [],
   "source": [
    "# Read the elevation data from netcdf file\n",
    "elvgrid = dem['band_data']"
   ]
  },
  {
   "cell_type": "markdown",
   "id": "7d7ad4a9-cc9f-4b81-a31e-ba5986683235",
   "metadata": {},
   "source": [
    "For the calculation of the shading effects, the slope and aspect of the cells must also be specified. For this you can use the library **xrspatial** which provides the two functions **slope()** and **aspect()**. The terrain model is passed to the two functions and the corresponding grid is returned."
   ]
  },
  {
   "cell_type": "code",
   "execution_count": null,
   "id": "9ab75356-ccb9-4140-baf4-31c64f2b5bd7",
   "metadata": {
    "tags": []
   },
   "outputs": [],
   "source": [
    "# Load the xrspatial library\n",
    "from xrspatial import slope, aspect\n",
    "\n",
    "# Read slope data\n",
    "slopegrid = slope(elvgrid)\n",
    "# Read aspect data\n",
    "aspectgrid = aspect(elvgrid)"
   ]
  },
  {
   "cell_type": "markdown",
   "id": "0f3af643-482e-465b-96da-ae637bfa50bb",
   "metadata": {},
   "source": [
    "Again, use plotly to plot the data"
   ]
  },
  {
   "cell_type": "code",
   "execution_count": null,
   "id": "e5225455-2fa8-4fc7-b4ef-81fff148fa3b",
   "metadata": {
    "tags": []
   },
   "outputs": [],
   "source": [
    "#---------------------------\n",
    "# Plot data\n",
    "#---------------------------\n",
    "# Generate sample data\n",
    "x = lons\n",
    "y = lats\n",
    "X, Y = np.meshgrid(x, y)\n",
    "\n",
    "# Create the subplots\n",
    "fig = sp.make_subplots(rows=1, cols=3)\n",
    "\n",
    "# Add the first subplot\n",
    "fig.add_trace(go.Contour(x=x, y=y, z=slopegrid, colorscale='Viridis', showscale=True,\n",
    "                         colorbar=dict(x=0.12, y=-0.35, len=0.2, yanchor='bottom', orientation='h',\n",
    "                                      title=r'Slope in degrees', titleside='top')), row=1, col=1)\n",
    "\n",
    "# Add the second subplot\n",
    "fig.add_trace(go.Contour(x=x, y=y, z=aspectgrid, colorscale='YlOrRd', showscale=True,\n",
    "                         colorbar=dict(x=0.5, y=-0.35, len=0.2, yanchor='bottom', orientation='h', \n",
    "                                       title=r'Aspect in degrees north', titleside='top')), row=1, col=2)\n",
    "\n",
    "# Add the second subplot\n",
    "fig.add_trace(go.Contour(x=x, y=y, z=elvgrid, colorscale='YlOrRd', showscale=True,\n",
    "                         colorbar=dict(x=0.85, y=-0.35, len=0.2, yanchor='bottom', orientation='h', \n",
    "                                       title=r'Digital elevation model', titleside='top')), row=1, col=3)\n",
    "\n",
    "# Add title and axis labels\n",
    "fig.update_layout(\n",
    "    xaxis=dict(title='Longitude',title_standoff=5),\n",
    "    xaxis2=dict(title='Longitude',title_standoff=5),\n",
    "    yaxis_title='Latitude',\n",
    "    width=1200,  # Set the width of the figure\n",
    "    height=600  # Set the height of the figure\n",
    ")\n",
    "\n",
    "# Show the plot\n",
    "fig.show()"
   ]
  },
  {
   "cell_type": "markdown",
   "id": "ff7fb90c-cc0f-4ac3-88c8-b987554dba6d",
   "metadata": {
    "tags": []
   },
   "source": [
    "For simplicity, the shading and the sky-view factor for the terrain model have already been calculated and written into the file LUT_Rad.nc. However, the two functions **LUTshad()** and **LUTsvf()** are available with which both can be calculated (caution: the calculations take a very long time depending on the DEM). We load the sky-view factor and the shading for a complete in the variables *svf* and *shad1yr*."
   ]
  },
  {
   "cell_type": "code",
   "execution_count": null,
   "id": "e9342555-d04b-4a1c-a421-9e8fb956a932",
   "metadata": {
    "tags": []
   },
   "outputs": [],
   "source": [
    "# Load the dataset\n",
    "ds_LUT = xr.open_dataset('LUT_Rad.nc')\n",
    "\n",
    "# Read the shading field for a complete year\n",
    "shad1yr = ds_LUT.SHADING.values\n",
    "\n",
    "# Read the sky-view factor\n",
    "svf = ds_LUT.SVF.values"
   ]
  },
  {
   "cell_type": "markdown",
   "id": "55d6e841-cc43-4703-9ce9-454039d08358",
   "metadata": {},
   "source": [
    "Direct and diffuse radiation both depend on several variables: Temperature, pressure, humidity and cloudiness. We assume that the same conditions prevail throughout the domain. To do this, we create new 2D arrays with the corresponding values. "
   ]
  },
  {
   "cell_type": "code",
   "execution_count": null,
   "id": "377d016f-cc62-431e-a018-902f01797260",
   "metadata": {
    "tags": []
   },
   "outputs": [],
   "source": [
    "# Create additional arrays which are needed by the radiation module\n",
    "# Temperature grid\n",
    "tempgrid = np.ones_like(elvgrid) * 285.0\n",
    "# Pressure grid\n",
    "pgrid = np.ones_like(elvgrid) * 1000.0\n",
    "# Relative humditiy grid\n",
    "rhgrid = np.ones_like(elvgrid) * 70\n",
    "# Cloud grid\n",
    "ngrid = np.ones_like(elvgrid) * 0.0\n",
    "# Mask grid (in case only part of the DEM is used\n",
    "maskgrid = xr.zeros_like(elvgrid)"
   ]
  },
  {
   "cell_type": "markdown",
   "id": "11682b49-d86d-414d-b7b9-d4299199dd66",
   "metadata": {
    "tags": []
   },
   "source": [
    "Now we can use this information to calculate the radiation fluxes."
   ]
  },
  {
   "cell_type": "code",
   "execution_count": null,
   "id": "0ac0187a-2ced-4894-b152-10bfe86caf75",
   "metadata": {
    "tags": []
   },
   "outputs": [],
   "source": [
    "# Site information\n",
    "lat = -50.9 # Latitude of the domain center\n",
    "doy = 15    # Doy of the year\n",
    "hour = 14   # Hour of the day\n",
    "tcart = 0   # Time shifts [do not change]\n",
    "dtstep = 3*3600 # Time step between the shading values [do not change]\n",
    "\n",
    "# Get lon/lat values from the elevation model\n",
    "lons = elvgrid.x\n",
    "lats = elvgrid.y\n",
    "\n",
    "#---------------------------\n",
    "# Calculate solar Parameters\n",
    "#---------------------------\n",
    "solPars, timeCorr = hu.solpars(lats[0])\n",
    "\n",
    "#---------------------------\n",
    "# Calc radiation\n",
    "#---------------------------\n",
    "A = hu.calcRad(solPars, timeCorr, doy, hour, lat, tempgrid[::-1, :], pgrid[::-1, :], rhgrid[::-1, :], \n",
    "        ngrid[::-1, :], np.flipud(elvgrid), np.flipud(maskgrid), np.flipud(slopegrid), np.flipud(aspectgrid), shad1yr, svf, dtstep, tcart)"
   ]
  },
  {
   "cell_type": "markdown",
   "id": "8fe5d209-3c23-4e48-814f-0c5e4809ac95",
   "metadata": {},
   "source": [
    "Plot the fields"
   ]
  },
  {
   "cell_type": "code",
   "execution_count": null,
   "id": "39c71ce8-7254-43bd-9416-d13aded4ba6d",
   "metadata": {
    "tags": []
   },
   "outputs": [],
   "source": [
    "#---------------------------\n",
    "# Plot data\n",
    "#---------------------------\n",
    "# Generate sample data\n",
    "x = de\n",
    "y = lats\n",
    "X, Y = np.meshgrid(x, y)\n",
    "\n",
    "# Create the subplots\n",
    "fig = sp.make_subplots(rows=1, cols=2)\n",
    "\n",
    "# Add the first subplot\n",
    "fig.add_trace(go.Contour(x=x, y=y, z=elvgrid, colorscale='Viridis', showscale=True,\n",
    "                         colorbar=dict(x=0.2, y=-0.22, len=0.4, yanchor='bottom', orientation='h',\n",
    "                                      title=r'$\\text{Incoming shortwave radiation}~\\text{W} m^{-2}$', titleside='top')), row=1, col=1)\n",
    "\n",
    "# Add the second subplot\n",
    "fig.add_trace(go.Contour(x=x, y=y, z=A, colorscale='YlOrRd', showscale=True,\n",
    "                         colorbar=dict(x=0.8, y=-0.22, len=0.4, yanchor='bottom', orientation='h', \n",
    "                                       title=r'$\\text{Incoming shortwave radiation}~\\text{W} m^{-2}$', titleside='top')), row=1, col=2)\n",
    "\n",
    "\n",
    "\n",
    "# Add title and axis labels\n",
    "fig.update_layout(\n",
    "    xaxis=dict(title='Longitude',title_standoff=5),\n",
    "    xaxis2=dict(title='Longitude',title_standoff=5),\n",
    "    yaxis_title='Latitude',\n",
    "    width=1200,  # Set the width of the figure\n",
    "    height=600  # Set the height of the figure\n",
    ")\n",
    "\n",
    "# Show the plot\n",
    "fig.show()"
   ]
  },
  {
   "cell_type": "markdown",
   "id": "2e511549-067a-4c46-87bd-3382eb1b3e44",
   "metadata": {},
   "source": [
    "<div class=\"alert alert-block alert-warning\">\n",
    "<b>Broaden Knowledge & Comprehension</b></br>\n",
    "Which areas receive the highest levels of radiation? How does the field change during the day? What would the field look like with the same topography in the northern hemisphere?\n",
    "</div>\n"
   ]
  },
  {
   "cell_type": "markdown",
   "id": "1559d634-2d25-41d8-8ac1-0380538143e6",
   "metadata": {},
   "source": [
    "# Longwave radiation"
   ]
  },
  {
   "cell_type": "markdown",
   "id": "c4a0fc45-58c1-42cb-9e73-a4b340fe21b3",
   "metadata": {},
   "source": [
    "Long-wave radiation fluxes are important terms in the net radiation balance. The long-wave radiation based on the Stephan-Boltzmann equation can be calculated with the function **LW()** of the **HU_learning_material** class. It is also possible to calculate the wavelength of the emission maximum with Kirchoff's law using the **lambda_max()** function.\n",
    "\n",
    "Let's assume the emissivity of the body is 1.0 ..."
   ]
  },
  {
   "cell_type": "code",
   "execution_count": null,
   "id": "a4a79e67-c4af-4d23-a37c-b0010b4c2b9d",
   "metadata": {
    "tags": []
   },
   "outputs": [],
   "source": [
    "# Define a emissivity\n",
    "epsilon = 1.0\n",
    "\n",
    "# Radiated energy at zero degrees celcius\n",
    "print('Radiated energy at zero degrees celcius: {:.4}'.format(hu.LW(epsilon, 273)))\n",
    "\n",
    "# Wave length of emission maximum\n",
    "print('Wave length of emission maximum: {:.4}'.format(hu.lambda_max(273)))"
   ]
  },
  {
   "cell_type": "markdown",
   "id": "61100388-128d-4a36-bca5-b4ac7ae408a2",
   "metadata": {},
   "source": [
    "<div class=\"alert alert-block alert-success\">\n",
    "<b>Evaluate and Analyze</b><br>\n",
    "<ul>\n",
    "<li>Calculate the long-wave radiation for different temperatures. What is the relationship between temperature and radiated energy? [Hint: Take a look at the Stephan-Boltzmann Law]\n",
    "<li>Plot the wavelength of the emission maximum against the radiated energy in the range from 250 K to 310 K. Which gases absorb in this spectral range? Comment on the influence of the most important gases on the greenhouse effect?\n",
    "<li>Compare the values with those of the short-wave radiation. What are the most important radiation terms on a summer day in the mountains?\n",
    "</ul>\n",
    "</div>"
   ]
  },
  {
   "cell_type": "markdown",
   "id": "5d4b1297-7677-47a8-b2ba-d7be2f35edf3",
   "metadata": {
    "tags": []
   },
   "source": [
    "<div class=\"alert alert-block alert-warning\">\n",
    "<b>Broaden Knowledge & Comprehension</b></br>\n",
    "What must be taken into account when measuring long-wave radiation in order to obtain reliable values?\n",
    "</div>"
   ]
  },
  {
   "cell_type": "markdown",
   "id": "4534d8f2-2dd4-421d-aa28-f93a80f9e990",
   "metadata": {},
   "source": [
    "# Ground heat flux and heat equation"
   ]
  },
  {
   "cell_type": "markdown",
   "id": "10287f6c-0615-4c13-8e70-a43de91b190b",
   "metadata": {},
   "source": [
    "The radiation terms are the largest in terms of magnitude. However, the soil heat flux, although much smaller, also plays an important role in the energy balance of a surface. The soil heat flux is coupled to the soil temperature profile. The function **heat_equation()** approximates the temperature profile. This requires to define some boundary conditions, such as the temperature at the surface or at bottom. In addition, information on the model depth, integration time, time step and soil thermal diffusivity is required."
   ]
  },
  {
   "cell_type": "code",
   "execution_count": null,
   "id": "04f715ba-2fa6-4d7b-88d4-e6fdb6ebc0b7",
   "metadata": {
    "tags": []
   },
   "outputs": [],
   "source": [
    "#-----------------------\n",
    "# Boundary conditions\n",
    "#-----------------------\n",
    "Ts = 20.   # Temperature at the surface [K]\n",
    "Tb = 5.    # Temperature at the bottom [K]\n",
    "D  = 2.    # Depth [m]\n",
    "Nz = 100   # Number of grid points in the vertical (soil)\n",
    "dt = 60.   # time step [s]\n",
    "t7200  = 7200  # integration time [s]\n",
    "t86400 = 86400 # integration time [s]\n",
    "alpha = 1.2e-6 # soil thermal diffusivity [m^2 s^-1]"
   ]
  },
  {
   "cell_type": "markdown",
   "id": "0fe90994-1dcd-4dbe-bca5-8537fc5eed19",
   "metadata": {},
   "source": [
    "We now run the model for two different integration periods and plot both temperature profiles"
   ]
  },
  {
   "cell_type": "code",
   "execution_count": null,
   "id": "8edd8654-adb8-4863-b920-1c37ab204fac",
   "metadata": {
    "tags": []
   },
   "outputs": [],
   "source": [
    "#-----------------------\n",
    "# Run the heat equation\n",
    "#-----------------------\n",
    "T, dz = hu.heat_equation(Ts, Tb, D, Nz, t7200, dt, alpha)\n",
    "T2, dz = hu.heat_equation(Ts, Tb, D, Nz, t86400, dt, alpha)\n",
    "\n",
    "#-----------------------\n",
    "# Make plots\n",
    "#-----------------------\n",
    "# Creating the plot with two rows and one column. The plots share the same x-axis so that only labels \n",
    "# for the lower plots are shown\n",
    "fig = make_subplots(rows=1, cols=1, shared_yaxes=True)\n",
    "\n",
    "# Adding the temperature data as a dashed line in the top panel\n",
    "fig.add_trace(go.Scatter(x=T, y=-dz*np.arange(Nz), line=dict(color='royalblue', dash='solid'), name='Temperature after 7200 s'),\n",
    "                        row=1, col=1)\n",
    "\n",
    "# Adding the temperature data as a dashed line in the top panel\n",
    "fig.add_trace(go.Scatter(x=T2, y=-dz*np.arange(Nz), line=dict(color='green', dash='solid'), name='Temperature after 86400'),\n",
    "                        row=1, col=1)\n",
    "\n",
    "# Adjusting the layout\n",
    "fig.update_layout(title='Soil temperature', plot_bgcolor='white', width=800, height=600,\n",
    "                  yaxis=dict(title='Depth [m]', showgrid=True, gridcolor='lightgray', gridwidth=1),\n",
    "                  xaxis=dict(title='Temperature [K]', tickformat='%d.%m.%Y', showgrid=True, gridcolor='lightgray', gridwidth=1))\n",
    "\n",
    "\n",
    "# Adjusting the axes\n",
    "fig.update_xaxes(nticks=10, row=1, col=1, range=[-2,20], dtick=5)\n",
    "fig.update_yaxes(nticks=5, row=1, col=1)\n",
    "\n",
    "# Showing the plot\n",
    "fig.show()"
   ]
  },
  {
   "cell_type": "markdown",
   "id": "e4007c32-0ac6-48ef-8b62-f77135d59d3e",
   "metadata": {},
   "source": [
    "<div class=\"alert alert-block alert-warning\">\n",
    "<b>Broaden Knowledge & Comprehension</b></br>\n",
    "<ul>\n",
    "<li>How can the ground heat flux be determined from the temperature profile? \n",
    "<li>Derive the ground heat flux from the figure. \n",
    "<li>Write a function to calculate the soil heat flux.\n",
    "</ul>\n",
    "</div>"
   ]
  },
  {
   "cell_type": "markdown",
   "id": "eafe5097-a021-4892-8d1a-c21d717affdd",
   "metadata": {},
   "source": [
    "In nature, the surface temperature is determined by the energy fluxes. We can simply modify the model to allow for varying surface temperature. We create a Pandas DataFrame with an artificial temperature time series with daily mean temperatures. "
   ]
  },
  {
   "cell_type": "code",
   "execution_count": null,
   "id": "1b68557d-8196-482b-ae3e-6dbc59159c71",
   "metadata": {
    "tags": []
   },
   "outputs": [],
   "source": [
    "#-----------------------------\n",
    "# Create pandas dataframe with\n",
    "# the surface temperature\n",
    "#-----------------------------\n",
    "# timestamp from/to\n",
    "timestamp = pd.date_range(start='2000-01-01T00:00:00', end='2003-12-31T00:00:00', freq='D')\n",
    "\n",
    "# Surrogate surface temperature timeseries\n",
    "T = 10 - 20 * np.sin((2*math.pi*timestamp.dayofyear)/365)\n",
    "\n",
    "# Create a pandas DataFrame from the calculated arrays\n",
    "df = pd.DataFrame(T, index=timestamp, columns=['T'])"
   ]
  },
  {
   "cell_type": "markdown",
   "id": "5f94c5ba-6ae3-4b46-85df-c4020e4737f0",
   "metadata": {},
   "source": [
    "In the next step, we set the boundary conditions and run the heat_equation_daily()"
   ]
  },
  {
   "cell_type": "code",
   "execution_count": null,
   "id": "2d656776-c126-4be0-890b-3dc5581aa727",
   "metadata": {
    "tags": []
   },
   "outputs": [],
   "source": [
    "#-----------------------------\n",
    "# Run the time-dependent heat\n",
    "# equation\n",
    "#-----------------------------\n",
    "D  = 20   # Depth of the domain in meter\n",
    "dz = 0.5  # Spacing between grid points in meter\n",
    "T, D, dz = hu.heat_equation_daily(df['T'], D, dz, alpha=1.2e-6)"
   ]
  },
  {
   "cell_type": "markdown",
   "id": "c070f86f-8376-47e0-9ded-fb9129f1a979",
   "metadata": {},
   "source": [
    "Finally, we plot the results"
   ]
  },
  {
   "cell_type": "code",
   "execution_count": null,
   "id": "8bd2bd0c-6281-4f02-acc0-ca2bb7caed96",
   "metadata": {
    "tags": []
   },
   "outputs": [],
   "source": [
    "#-----------------------------\n",
    "# Plot the results\n",
    "#-----------------------------\n",
    "# Generate the plotting grid\n",
    "# y-axis values\n",
    "y_values = np.arange(-D,0,dz)\n",
    "# then the x-axis values\n",
    "x_values = np.arange(len(df.index))\n",
    "# Generate the 2D plotting grid\n",
    "X, Y = np.meshgrid(x_values, y_values)\n",
    "\n",
    "# Create the filled contour trace\n",
    "trace = go.Contour(\n",
    "    x=df.index,\n",
    "    y=y_values,\n",
    "    z=T[::-1],\n",
    "    colorscale='Viridis',\n",
    "    contours=dict(\n",
    "        coloring='fill',\n",
    "        showlabels=True\n",
    "    ),\n",
    "    colorbar=dict(\n",
    "        title=dict(\n",
    "            text='Temperature [ºC]',\n",
    "            #standoff=15,\n",
    "            side='right'\n",
    "        )\n",
    "    )\n",
    ")\n",
    "\n",
    "# Create the layout\n",
    "layout = go.Layout(\n",
    "    title='Soil temperature',\n",
    "    xaxis=dict(title='Date', tickformat='%d.%m.%Y', tickangle=45, dtick='M3'),\n",
    "    yaxis=dict(title='Depth [m]'),\n",
    "    width=1000, height=500,\n",
    ")\n",
    "\n",
    "# Create the figure\n",
    "fig = go.Figure(data=[trace], layout=layout)\n",
    "\n",
    "# Show the plot\n",
    "fig.show()"
   ]
  },
  {
   "cell_type": "markdown",
   "id": "0f92fef4-bbb7-4a96-8b46-5985ec40b548",
   "metadata": {},
   "source": [
    "<div class=\"alert alert-block alert-warning\">\n",
    "<b>Broaden Knowledge & Comprehension</b></br>\n",
    "<ul>\n",
    "<li> Change the soil thermal diffusivity and see how the profile changes (Use realistic values of different soil types) \n",
    "<li> Describe how the temperature profile changes over time\n",
    "<li> Integrate the model over a few decades and find out how long it takes to reach a steady-state (stable temperature profile).\n",
    "</ul>\n",
    "</div>\n"
   ]
  },
  {
   "cell_type": "markdown",
   "id": "4ed2271d-eff7-48e3-8a05-37e63e6ad30c",
   "metadata": {},
   "source": [
    "The amplitude of the temperature fluctuations decreases with depth. Let's plot the temperatures at 5 and 10 m depth."
   ]
  },
  {
   "cell_type": "code",
   "execution_count": null,
   "id": "aa3420bc-f0a5-4bfd-b6e9-0d4111c4a0e4",
   "metadata": {
    "tags": []
   },
   "outputs": [],
   "source": [
    "# Creating the plot with two rows and one column. The plots share the same x-axis so that only labels \n",
    "# for the lower plots are shown\n",
    "fig = make_subplots(rows=1, cols=1, shared_xaxes=True)\n",
    "\n",
    "# Adding the temperature data as a dashed line in the top panel\n",
    "fig.add_trace(go.Scatter(x=df.index, y=T[10,:], line=dict(color='royalblue', dash='solid'), name='5 m'),\n",
    "                        row=1, col=1)\n",
    "\n",
    "# Adding the temperature data as a dashed line in the top panel\n",
    "fig.add_trace(go.Scatter(x=df.index, y=T[20,:], line=dict(color='orange', dash='solid'), name='10 m'),\n",
    "                        row=1, col=1)\n",
    "\n",
    "# Adjusting the layout\n",
    "fig.update_layout(title='Soil temperature', plot_bgcolor='white', width=1000, height=600,\n",
    "                  yaxis=dict(title='Soil temperature [K]', showgrid=True, gridcolor='lightgray', gridwidth=1),\n",
    "                  xaxis=dict(title='', tickformat='%d.%m.%Y', showgrid=True, gridcolor='lightgray', gridwidth=1))\n",
    "\n",
    "\n",
    "# Adjusting the axes\n",
    "fig.update_xaxes(nticks=10, row=1, col=1, tickformat='%d.%m.%Y', tickangle=45, dtick='M3')\n",
    "fig.update_yaxes(nticks=5, row=1, col=1)\n",
    "\n",
    "# Showing the plot\n",
    "fig.show()"
   ]
  },
  {
   "cell_type": "markdown",
   "id": "f7766a9c-2030-4d83-a5d7-4da563abde25",
   "metadata": {},
   "source": [
    "<div class=\"alert alert-block alert-warning\">\n",
    "<b>Broaden Knowledge & Comprehension</b></br>\n",
    "<ul>\n",
    "<li> What can you observe?\n",
    "<li> Describe the differences between the time series.\n",
    "<li> How would the time series change if the thermal diffusivity is increased? Why?\n",
    "</ul>\n",
    "</div>"
   ]
  },
  {
   "cell_type": "markdown",
   "id": "e354f0af-670f-4aa1-ae07-69419d279174",
   "metadata": {},
   "source": [
    "## More realistic example\n",
    "\n",
    "In this example, the code reads in the 30-min weather stations data from a CSV file using the '**read_csv()**' method from pandas, with the parse_dates and index_col parameters set to True and 0, respectively. This ensures that the first column of the CSV file (the timestamps) is used as the index of the DataFrame, and that the timestamps are converted to datetime objects."
   ]
  },
  {
   "cell_type": "code",
   "execution_count": null,
   "id": "f7e8fbcc-9f5b-4fca-a2f8-7f7201ee5ac8",
   "metadata": {
    "tags": []
   },
   "outputs": [],
   "source": [
    "import pandas as pd\n",
    "import numpy as np\n",
    "\n",
    "# Load CSV file\n",
    "df = pd.read_csv(\"https://raw.githubusercontent.com/sauterto/clim_env_hydro/main/docs/nb/data/FLX_CH-Dav.csv\", parse_dates=True, index_col=0)\n",
    "\n",
    "# The file contains:\n",
    "# Air temperature       :: t2m\n",
    "# Relative humdity      :: RH\n",
    "# Precipitation         :: precip\n",
    "# Wind speed            :: WS\n",
    "# Wind direction        :: WD\n",
    "# Net radiation         :: NETRAD\n",
    "# Incoming shortwave    :: SW_IN\n",
    "# Outgoing shortwave    :: SW_OUT\n",
    "# Incoming longwave     :: LW_IN\n",
    "# Outgoing longwave     :: LW_OUT\n",
    "# Sensible heat flux    :: H\n",
    "# Latent heat flux      :: LE\n",
    "# Ground heat flux      :: QG\n",
    "# Surface temperature   :: TS"
   ]
  },
  {
   "cell_type": "markdown",
   "id": "423f1f0d-13b9-479d-8d2e-245b5ae8e158",
   "metadata": {},
   "source": [
    "<div class=\"alert alert-block alert-warning\">\n",
    "<b>Broaden Knowledge & Comprehension</b></br>\n",
    "Which other file formats can be read in with pandas?\n",
    "</div>"
   ]
  },
  {
   "cell_type": "markdown",
   "id": "b74e26e9-20b5-4405-91d6-020aff047d0d",
   "metadata": {},
   "source": [
    "## Replace missing data\n",
    "\n",
    "Next, we want to view the data to ensure it has been loaded correctly. We use the head() method from Pandas to display the first five rows of the DataFrame."
   ]
  },
  {
   "cell_type": "markdown",
   "id": "9bed0697-ef25-4ffc-8fd8-00de29e6e4a6",
   "metadata": {},
   "source": [
    "The DataFrame has missing values with the dummy value -9999. We then use the replace method to replace all occurrences of -9999 with NaN (Not a Number), using the NumPy np.nan constant. Finally, we print the updated DataFrame. The inplace=True argument ensures that the original DataFrame is modified, rather than a copy being created."
   ]
  },
  {
   "cell_type": "code",
   "execution_count": null,
   "id": "6ce94b2b-32b5-4758-801e-80eb4c09772f",
   "metadata": {
    "tags": []
   },
   "outputs": [],
   "source": [
    "# replace -9999 with NaN\n",
    "df.replace(-9999, np.nan, inplace=True)\n",
    "\n",
    "# Keep only the surface temeperature\n",
    "ds = df['TS']\n",
    "\n",
    "# check for missing values\n",
    "ds.dropna(inplace=True)\n",
    "\n",
    "# Show time series\n",
    "ds"
   ]
  },
  {
   "cell_type": "markdown",
   "id": "27191050-72f1-41de-b6f2-98bd5e4cd2e8",
   "metadata": {},
   "source": [
    "<div class=\"alert alert-block alert-warning\">\n",
    "<b>Hint!</b> Compare the SW_OUT and LW_OUT column with the table before the missing values have been removed.\n",
    "</div>"
   ]
  },
  {
   "cell_type": "markdown",
   "id": "e3a43d4d-ba25-4fb2-babc-c0f82dd0dbd7",
   "metadata": {},
   "source": [
    "To check for missing values in a Pandas DataFrame, you can use the **isna()** or **isnull()** method, which returns a Boolean DataFrame of the same shape indicating which cells contain missing values."
   ]
  },
  {
   "cell_type": "markdown",
   "id": "50974355-4c96-48d9-8e08-591f34c2403d",
   "metadata": {},
   "source": [
    "You can also use the isna() or isnull() method along with the **sum()** method to count the number of missing values in each column:"
   ]
  },
  {
   "cell_type": "code",
   "execution_count": null,
   "id": "e1f5dc6a-d419-44ed-a5ea-6d30cc7eb4bd",
   "metadata": {
    "tags": []
   },
   "outputs": [],
   "source": [
    "# resample dataframe to monthly mean values with different aggregation for each column and return NaN for \n",
    "# columns with insufficient valid elements\n",
    "threshold =  50 # What is the maximum percentage of NaNs that may be included in the averaging? Here, we set the threshold to 10%\n",
    "\n",
    "# This is a pythonic way in solving this problem\n",
    "ds_daily = ds.resample('1D').agg({'TS': lambda x: x.dropna().mean() if (((x.isna().sum())/len(x))*100) < threshold else np.nan})\n",
    "\n",
    "# Find dates with missing data\n",
    "missing_dates = ds_daily['TS'][ds_daily['TS'].isnull()].index\n",
    "print(\"Dates with missing data:\\n\",ds_daily.loc[missing_dates])\n",
    "\n",
    "# Check if the time series is continuous\n",
    "if pd.date_range(start=ds_daily.index.min(), end=ds_daily.index.max(), freq='D').difference(ds_daily.index).empty:\n",
    "    print('The time series is continuous \\n')\n",
    "else:\n",
    "    print('The time series is not continuous \\n')\n",
    "    \n",
    "# Plot the temperature time series\n",
    "ds_daily['TS'].plot()"
   ]
  },
  {
   "cell_type": "markdown",
   "id": "e05614e4-aff1-4f4c-be09-1acab8ea028a",
   "metadata": {},
   "source": [
    "Instead of an artificial time series for the surface temperature, we now use the observed temperature *TS*."
   ]
  },
  {
   "cell_type": "code",
   "execution_count": null,
   "id": "4cc739f1-2701-40eb-bf45-2a14e64fc3bb",
   "metadata": {
    "tags": []
   },
   "outputs": [],
   "source": [
    "#-----------------------------\n",
    "# Run the time-dependent heat\n",
    "# equation\n",
    "#-----------------------------\n",
    "D  = 10   # Depth of the domain\n",
    "dz = 0.5  # Spacing between grid points\n",
    "\n",
    "# Create a short subset for better visualization\n",
    "df_hourly_subset = ds_daily.loc['2010':'2014']\n",
    "\n",
    "# Integrate the heat equation \n",
    "T, D, dz = hu.heat_equation_daily(df_hourly_subset['TS'], D, dz, alpha=1.2e-6)\n",
    "\n",
    "#-----------------------------\n",
    "# Plot the results\n",
    "#-----------------------------\n",
    "# Generate the plotting grid\n",
    "# y-axis values\n",
    "y_values = np.arange(-D,0,dz)\n",
    "# then the x-axis values\n",
    "x_values = np.arange(len(df_hourly_subset.index))\n",
    "# Generate the 2D plotting grid\n",
    "X, Y = np.meshgrid(x_values, y_values)\n",
    "\n",
    "# Create the filled contour trace\n",
    "trace = go.Contour(\n",
    "    x=df_hourly_subset.index,\n",
    "    y=y_values,\n",
    "    z=T[::-1],\n",
    "    colorscale='Viridis',\n",
    "    contours=dict(\n",
    "        coloring='fill',\n",
    "        showlabels=True\n",
    "    ),\n",
    "    colorbar=dict(\n",
    "        title=dict(\n",
    "            text='Temperature [ºC]',\n",
    "            #standoff=15,\n",
    "            side='right'\n",
    "        )\n",
    "    )\n",
    ")\n",
    "\n",
    "# Create the layout\n",
    "layout = go.Layout(\n",
    "    title='Soil temperature',\n",
    "    xaxis=dict(title='Date', tickformat='%d.%m.%Y', tickangle=45, dtick='M3'),\n",
    "    yaxis=dict(title='Depth [m]'),\n",
    "    width=1000, height=500,\n",
    ")\n",
    "\n",
    "# Create the figure\n",
    "fig = go.Figure(data=[trace], layout=layout)\n",
    "\n",
    "# Show the plot\n",
    "fig.show()"
   ]
  }
 ],
 "metadata": {
  "kernelspec": {
   "display_name": "meteo",
   "language": "python",
   "name": "meteo"
  },
  "language_info": {
   "codemirror_mode": {
    "name": "ipython",
    "version": 3
   },
   "file_extension": ".py",
   "mimetype": "text/x-python",
   "name": "python",
   "nbconvert_exporter": "python",
   "pygments_lexer": "ipython3",
   "version": "3.11.3"
  }
 },
 "nbformat": 4,
 "nbformat_minor": 5
}