{
 "cells": [
  {
   "cell_type": "markdown",
   "id": "8309a9a6",
   "metadata": {},
   "source": [
    "(nb_prandtl_model)=\n",
    "\n",
    "# Glacier wind\n",
    "\n",
    "Katabatic flow associated with the stable boundary layer (SBL) often develop above glacier when advection of warm air over the much cooler glacier surface leads to a strong stratification and downward directed buoyancy flux. The permanent cold glacier surface produces a shallow cold air layer above the ground, which drains down the slopes following the local topography. The development of persistent shallow (5-100 m) downslope winds above glaciers are a well known phenomena and commonly referred to as glacier wind. The characteristic and intensity of the glacier wind is governed by the interplay of buoyancy, surface friction and entrainment at the upper boundary of the SBL. Near the surface the wind is usually calm and the wind velocity gradually increases with height, frequently forming a pronounced low-level jet (LLJ). Above the LLJ winds gradually changes to geostrophic.\n",
    "\n",
    "In alpine regions, well developed glacier winds often show a wind maximum in the lowest 1-10 meters above the surface. Usually the strongest winds occur during the warmest air temperatures. The observations imply that there is a correlation between the height and strength of the katabatic wind - the stronger the jet, the higher the maximum. Furthermore, the height of the beam shows a dependence on the slope. The steeper the terrain, the lower the maximum."
   ]
  },
  {
   "cell_type": "markdown",
   "id": "c8054f8f",
   "metadata": {},
   "source": [
    "<div class=\"alert alert-block alert-success\">\n",
    "<b>Learning objectives:</b><br>\n",
    "<ul>\n",
    " <li>A basic understanding of glacier winds</li>\n",
    " <li>Steady-state Prandtl model for glacier wind</li>\n",
    "</ul>  \n",
    "</div>"
   ]
  },
  {
   "cell_type": "markdown",
   "id": "e7f0d0e9",
   "metadata": {},
   "source": [
    "<div class=\"alert alert-block alert-info\">\n",
    "<b>Prerequisites</b><br>\n",
    "<ul>\n",
    "<li>Basic knowledge of Python, Jupyter Notebooks, and data analysis</li>\n",
    "<li>Familiarity with Scipy, Pandas, Xarray, and Plotly</li>\n",
    "</ul>  \n",
    "</div>"
   ]
  },
  {
   "cell_type": "markdown",
   "id": "8c0f2983",
   "metadata": {},
   "source": [
    "# Theoretical background\n",
    "\n",
    "More information about glacier winds and the Prandtl model can be found in <a href=\"https://box.hu-berlin.de/f/cf005d8f5ac34be698f7/\" download>Oerlemans (2010)</a>\n",
    "\n",
    "\n",
    "The Navier-Stokes equations describes the motion of fluids. For shallow steady-state katabatic flow we can simplify these equations by using the Boussinesq approximation and assuming a hydrostatic equilibrium. Furthermore, we assume that friction balances the acceleration by buoyancy forcing. Thus, the first-order momentum and heat budgets can be written as\n",
    "\n",
    "$$\n",
    "\\frac{g \\cdot sin(\\eta)}{T_0}\\theta = \\frac{\\partial F_u}{\\partial z}\n",
    "$$ \n",
    "\n",
    "$$\n",
    "-\\gamma_{\\theta} \\cdot sin(\\eta) \\cdot u = \\frac{\\partial F_{\\theta}}{\\partial z}\n",
    "$$ \n",
    "\n",
    "with $g$ the gravitational acceleration, $T_0$ the characteristic temperature, $F_u$ the turbulent momentum flux, $F_{\\theta}$ the turbulent heat flux, $z$ the height above the ground, $u$ the wind speed, $\\theta$ the potential temperature, and $\\eta$ the glacier slope. To close the equation we parametrize the momentum and heat flux with simple K-theory:\n",
    "\n",
    "$$\n",
    "F_u = -K_m \\frac{du}{dz}, F_{\\theta} = -K_h \\frac{d\\theta}{dz}.\n",
    "$$ \n",
    "\n",
    "The two constants $K_h$ and $K_h$ are the eddy diffusivities for momentum and heat. Pluggin these equations into Eq.{eq}`momentum` and {eq}`heat` we obtain:\n",
    "\n",
    "$$\n",
    "\\frac{g \\cdot sin(\\eta)}{T_0} \\theta + \\frac{d}{dz}\\left(K_m \\frac{du}{dz}\\right) = 0.\n",
    "$$ \n",
    "\n",
    "$$\n",
    "-\\gamma_{\\theta} \\cdot sin(\\eta) \\cdot u + \\frac{d}{dz}\\left(K_h \\frac{d\\theta}{dz}\\right) = 0.\n",
    "$$ \n",
    "\n",
    "To sake of simplicity we also write $s=-sin(\\eta) ~ (>0)$. Prandtl (1942) solved these equation to understand thermally induced slope flows. The final equation can be written as:\n",
    "\n",
    "$$\n",
    "K_m \\frac{d^2 u}{dz^2} - \\frac{g \\cdot s}{T_0} \\theta = 0.\n",
    "$$ \n",
    "\n",
    "$$\n",
    "K_h \\frac{d^2 \\theta}{dz^2} - \\gamma_{\\theta} \\cdot s \\cdot u = 0.\n",
    "$$ \n",
    "\n",
    "This set of equation form a system of homogeneous linear differential equations of fourth order.\n",
    "The general solution can be found using a linear combination of the fundamental basis function\n",
    "\n",
    "$$\n",
    "u(z) = \\sum_{i=1}^{4} a_i e^{\\lambda_i z}, \\theta(z) = \\sum_{i=1}^{4} a_i e^{\\lambda_i z}.\n",
    "$$ \n",
    "\n",
    "The constants and $a_i$ and the the eigenvalue $\\lambda_i$ are both complex. Using the following boundary condition:\n",
    "\n",
    "$$\n",
    "u(z=0, z \\rightarrow \\inf) = 0,\n",
    "$$ \n",
    "\n",
    "$$\n",
    "\\theta(z \\rightarrow \\inf) = 0, \\theta(z=0)=C,\n",
    "$$ \n",
    "\n",
    "we find the general solutions."
   ]
  },
  {
   "cell_type": "markdown",
   "id": "fffb8843",
   "metadata": {},
   "source": [
    "\n",
    "<div class=\"alert alert-block alert-info\">\n",
    "<b><h1>Analytical Prandtl-Model</h1></b><br>\n",
    "    \n",
    "The equations that fullfills the conditions are\n",
    "\n",
    "$$\n",
    "\\theta(z) = C \\exp^{-z/\\lambda} \\cos(z/\\lambda)\n",
    "$$ \n",
    "\n",
    "$$\n",
    "u(z) = C \\mu \\exp^{-z/\\lambda} \\sin(z/\\lambda)\n",
    "$$ \n",
    "\n",
    "with\n",
    "\n",
    "$$\n",
    "\\lambda=\\left(\\frac{4 \\cdot T_0 \\cdot K_m \\cdot K_h}{g \\cdot s^2 \\cdot \\gamma_{theta}}\\right)^{\\frac{1}{4}}\n",
    "$$ \n",
    "\n",
    "$$\n",
    "\\mu = \\left( \\frac{g \\cdot K_h}{T_0 \\cdot K_m \\cdot \\gamma_{\\theta}}\\right)^{\\frac{1}{2}}\n",
    "$$ \n",
    "    \n",
    "</div>"
   ]
  },
  {
   "cell_type": "markdown",
   "id": "41fb9e0d",
   "metadata": {},
   "source": [
    "Before we solve the equations for the wind and the temperature we define the necessary parameters"
   ]
  },
  {
   "cell_type": "code",
   "execution_count": 3,
   "id": "f0176839",
   "metadata": {},
   "outputs": [],
   "source": [
    "import numpy as np\n",
    "import matplotlib.pyplot as plt\n",
    "\n",
    "Km = 0.1       # turbulent diffusivity for momentum\n",
    "Kh = 0.02      # turbulent diffusivity for heat\n",
    "g  = 9.81      # gravitational acceleration\n",
    "lapse = 0.004  # lapse rate\n",
    "s = -5         # surface slope\n",
    "s = np.sin(s*3.14/180) \n",
    "C = -11        # temperature perturbation [ºC]\n",
    "T0 = 280       # reference temperature [K]\n",
    "zmax = 50      # maximal height [m]"
   ]
  },
  {
   "cell_type": "markdown",
   "id": "bb1e4cf5",
   "metadata": {},
   "source": [
    "With these parameters the natural length scale of the flow and the temperature can be calculated"
   ]
  },
  {
   "cell_type": "code",
   "execution_count": 4,
   "id": "a172bc2c",
   "metadata": {},
   "outputs": [],
   "source": [
    "# Natural length scales\n",
    "# for momentum\n",
    "lam = ((4*T0*Km*Kh)/(g*s**2*lapse))**(0.25)\n",
    "# and heat\n",
    "mu = ((g*Kh)/(T0*Km*lapse))**(0.5)"
   ]
  },
  {
   "cell_type": "markdown",
   "id": "b049b6b5",
   "metadata": {},
   "source": [
    "Afterwards the profiles can be calculated"
   ]
  },
  {
   "cell_type": "code",
   "execution_count": 10,
   "id": "197452d8",
   "metadata": {},
   "outputs": [
    {
     "data": {
      "text/plain": [
       "[<matplotlib.lines.Line2D at 0x115b35090>]"
      ]
     },
     "execution_count": 10,
     "metadata": {},
     "output_type": "execute_result"
    },
    {
     "data": {
      "image/png": "[encoded data removed]",
      "text/plain": [
       "<Figure size 640x480 with 1 Axes>"
      ]
     },
     "metadata": {
      "filenames": {
       "image/png": "/Users/tsauter/Library/Mobile Documents/com~apple~CloudDocs/HU/Teaching/lectures/FOCEH/clim_env_hydro/_build/jupyter_execute/docs/nb/nb_glacier_wind_10_1.png"
      }
     },
     "output_type": "display_data"
    }
   ],
   "source": [
    "# temperature profile\n",
    "theta = [C*np.exp(-z/lam)*np.cos(z/lam) for z in np.arange(0,zmax,0.5)]\n",
    "\n",
    "# wind profile\n",
    "u = [C*mu*np.exp(-z/lam)*np.sin(-z/lam) for z in np.arange(0,zmax,0.5)]\n",
    "\n",
    "# Plot both profiles\n",
    "plt.plot(np.array(theta1)+11,np.arange(0,zmax,0.5))\n",
    "plt.plot(np.array(u1),np.arange(0,zmax,0.5))"
   ]
  },
  {
   "cell_type": "code",
   "execution_count": null,
   "id": "c18dce81",
   "metadata": {},
   "outputs": [],
   "source": [
    "z_meas = [0.2,0.5,1,2,4,6,8,13]\n",
    "u_meas = [3,3.2,3.8,4.2,4.3,4.4,4.3,3.9]\n",
    "t_meas = [3.8,4.0,4.4,5.2,7.1,9,9.7,10]\n",
    "\n",
    "lam = ((4*T0*Km*Kh)/(g*s**2*lapse))**(0.25)\n",
    "mu = ((g*Kh)/(T0*Km*lapse))**(0.5)\n",
    "\n",
    "theta1 = [C*np.exp(-z/lam)*np.cos(z/lam) for z in np.arange(0,zmax,0.5)]\n",
    "u1 = [C*mu*np.exp(-z/lam)*np.sin(-z/lam) for z in np.arange(0,zmax,0.5)]\n",
    "\n",
    "lam2 = ((g*s**2*lapse)/(4*T0*Km*Kh))**(0.25)\n",
    "theta2 = [C*np.exp(-z*lam2)*np.cos(z*lam2) for z in np.arange(0,zmax,0.5)]\n",
    "u2 = [C*np.exp(-z*lam2)*np.sin(z*lam2) for z in np.arange(0,zmax,0.5)]\n",
    "\n",
    "#plt.plot(np.array(theta1)+11,np.arange(0,zmax,0.5))\n",
    "#plt.plot(np.array(u1),np.arange(0,zmax,0.5))\n",
    "\n",
    "#plt.plot(np.array(u_meas),np.array(z_meas))\n",
    "#plt.plot(np.array(t_meas),np.array(z_meas))\n",
    "plt.plot(np.array(theta2)/-C,np.arange(0,zmax,0.5))\n",
    "plt.plot(np.array(u2)/(mu*C),np.arange(0,zmax,0.5))"
   ]
  }
 ],
 "metadata": {
  "kernelspec": {
   "display_name": "Python 3 (ipykernel)",
   "language": "python",
   "name": "python3"
  },
  "language_info": {
   "codemirror_mode": {
    "name": "ipython",
    "version": 3
   },
   "file_extension": ".py",
   "mimetype": "text/x-python",
   "name": "python",
   "nbconvert_exporter": "python",
   "pygments_lexer": "ipython3",
   "version": "3.11.3"
  }
 },
 "nbformat": 4,
 "nbformat_minor": 5
}