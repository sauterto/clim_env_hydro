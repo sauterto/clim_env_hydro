{
 "cells": [
  {
   "cell_type": "markdown",
   "metadata": {
    "slideshow": {
     "slide_type": "slide"
    }
   },
   "source": [
    "(nb_testing_pandas)=\n",
    "# Using pandas\n",
    "\n",
    "Before we get started, we test the learning environment and the most important packages needed to run the notebooks. This is not so much a continuous coherent exercise as individual examples based on the different packages.This exercise is neither an introduction to Python nor extensive tutorials for the individual packages. I advise you, if you have little or no experience with the packages, to work through the relevant tutorial on the websites. All packages offer very good and extensive tutorials. Most of the functions presented here have been taken from these websites."
   ]
  },
  {
   "cell_type": "markdown",
   "metadata": {},
   "source": [
    "<div class=\"alert alert-block alert-success\">\n",
    "<b>Learning objectives:</b><br>\n",
    "<ul>\n",
    " <li>Getting to know the learning environment</li>\n",
    " <li>Testing the pandas packages</li>\n",
    " <li>Very brief overview of the function of the package</li>\n",
    "</ul>  \n",
    "</div>"
   ]
  },
  {
   "cell_type": "markdown",
   "metadata": {
    "tags": []
   },
   "source": [
    "<div class=\"alert alert-block alert-info\">\n",
    "<b>How to proceed:</b><br>\n",
    "<ul>\n",
    " <li>Testing pandas</li>\n",
    "</ul>  \n",
    "</div>"
   ]
  },
  {
   "cell_type": "markdown",
   "metadata": {},
   "source": [
    "## Getting started\n",
    "\n",
    "Start using pandas. To load the pandas package and start working with it, import the package. The community agreed alias for pandas is pd. \n"
   ]
  },
  {
   "cell_type": "code",
   "execution_count": 1,
   "metadata": {
    "tags": []
   },
   "outputs": [],
   "source": [
    "# Load the pandas package\n",
    "import pandas as pd"
   ]
  },
  {
   "cell_type": "markdown",
   "metadata": {},
   "source": [
    "Data in Pandas is represented as a table, the so-called DataFrame. A DataFrame is a 2-dimensional data structure that can store data of different types (including characters, integers, floating point values, categorical data and more) in columns. It is similar to a spreadsheet, a SQL table or the data.frame in R. Each column in a DataFrame is a Series."
   ]
  },
  {
   "cell_type": "markdown",
   "metadata": {},
   "source": [
    "<img align=\"center\" valign='top' src=\"./images/01_table_dataframe.svg\" height=300 >"
   ]
  },
  {
   "cell_type": "markdown",
   "metadata": {},
   "source": [
    "We start by reading data from a csv file into a DataFrame. pandas provides the read_csv() function to read data stored as a csv file into a pandas DataFrame. pandas supports many different file formats or data sources out of the box (csv, excel, sql, json, parquet, …), each of them with the prefix read_*.\n"
   ]
  },
  {
   "cell_type": "markdown",
   "metadata": {},
   "source": [
    "<img align=\"center\" valign='top' src=\"images/02_io_readwrite.svg\" width=700 >"
   ]
  },
  {
   "cell_type": "markdown",
   "metadata": {},
   "source": [
    "Let's start and load a automatic weather station file into a pandas dataframe"
   ]
  },
  {
   "cell_type": "code",
   "execution_count": 2,
   "metadata": {},
   "outputs": [],
   "source": [
    "# Read the data into a DataFrame\n",
    "df = pd.read_csv(\"https://raw.githubusercontent.com/sauterto/clim_env_hydro/main/docs/nb/data/aws_valley_data_10min.csv\", header=1, index_col='TIMESTAMP')"
   ]
  },
  {
   "cell_type": "markdown",
   "metadata": {},
   "source": [
    "and have a look at the dataframe"
   ]
  },
  {
   "cell_type": "code",
   "execution_count": 3,
   "metadata": {},
   "outputs": [
    {
     "data": {
      "text/html": [
       "<div>\n",
       "<style scoped>\n",
       "    .dataframe tbody tr th:only-of-type {\n",
       "        vertical-align: middle;\n",
       "    }\n",
       "\n",
       "    .dataframe tbody tr th {\n",
       "        vertical-align: top;\n",
       "    }\n",
       "\n",
       "    .dataframe thead th {\n",
       "        text-align: right;\n",
       "    }\n",
       "</style>\n",
       "<table border=\"1\" class=\"dataframe\">\n",
       "  <thead>\n",
       "    <tr style=\"text-align: right;\">\n",
       "      <th></th>\n",
       "      <th>RECORD</th>\n",
       "      <th>BattV</th>\n",
       "      <th>PTemp_C</th>\n",
       "      <th>AirTC_1</th>\n",
       "      <th>RH_1</th>\n",
       "      <th>AirTC_2</th>\n",
       "      <th>RH_2</th>\n",
       "      <th>SlrW_1</th>\n",
       "      <th>SlrW_2</th>\n",
       "      <th>NR_Wm2</th>\n",
       "      <th>H_Flux</th>\n",
       "      <th>WS_ms</th>\n",
       "      <th>WindDir</th>\n",
       "      <th>WindDir_Std</th>\n",
       "      <th>Rain_mm_Tot</th>\n",
       "      <th>T107C_1</th>\n",
       "      <th>T107C_2</th>\n",
       "      <th>T107C_3</th>\n",
       "    </tr>\n",
       "    <tr>\n",
       "      <th>TIMESTAMP</th>\n",
       "      <th></th>\n",
       "      <th></th>\n",
       "      <th></th>\n",
       "      <th></th>\n",
       "      <th></th>\n",
       "      <th></th>\n",
       "      <th></th>\n",
       "      <th></th>\n",
       "      <th></th>\n",
       "      <th></th>\n",
       "      <th></th>\n",
       "      <th></th>\n",
       "      <th></th>\n",
       "      <th></th>\n",
       "      <th></th>\n",
       "      <th></th>\n",
       "      <th></th>\n",
       "      <th></th>\n",
       "    </tr>\n",
       "  </thead>\n",
       "  <tbody>\n",
       "    <tr>\n",
       "      <th>2014-08-15 17:10:00</th>\n",
       "      <td>0</td>\n",
       "      <td>12.40</td>\n",
       "      <td>5.397</td>\n",
       "      <td>2.228</td>\n",
       "      <td>95.00</td>\n",
       "      <td>2.552</td>\n",
       "      <td>93.40</td>\n",
       "      <td>398.6</td>\n",
       "      <td>59.18</td>\n",
       "      <td>295.5</td>\n",
       "      <td>11.17</td>\n",
       "      <td>1.823</td>\n",
       "      <td>109.00</td>\n",
       "      <td>32.94</td>\n",
       "      <td>0.2</td>\n",
       "      <td>6.817</td>\n",
       "      <td>6.552</td>\n",
       "      <td>7.092</td>\n",
       "    </tr>\n",
       "    <tr>\n",
       "      <th>2014-08-15 17:20:00</th>\n",
       "      <td>1</td>\n",
       "      <td>12.41</td>\n",
       "      <td>4.988</td>\n",
       "      <td>2.674</td>\n",
       "      <td>91.50</td>\n",
       "      <td>2.754</td>\n",
       "      <td>91.20</td>\n",
       "      <td>181.2</td>\n",
       "      <td>28.76</td>\n",
       "      <td>98.9</td>\n",
       "      <td>9.59</td>\n",
       "      <td>0.941</td>\n",
       "      <td>13.32</td>\n",
       "      <td>35.72</td>\n",
       "      <td>0.3</td>\n",
       "      <td>6.816</td>\n",
       "      <td>6.541</td>\n",
       "      <td>7.357</td>\n",
       "    </tr>\n",
       "    <tr>\n",
       "      <th>2014-08-15 17:30:00</th>\n",
       "      <td>2</td>\n",
       "      <td>12.42</td>\n",
       "      <td>4.665</td>\n",
       "      <td>3.108</td>\n",
       "      <td>83.90</td>\n",
       "      <td>3.260</td>\n",
       "      <td>84.50</td>\n",
       "      <td>664.7</td>\n",
       "      <td>107.00</td>\n",
       "      <td>550.6</td>\n",
       "      <td>35.51</td>\n",
       "      <td>0.510</td>\n",
       "      <td>121.20</td>\n",
       "      <td>80.90</td>\n",
       "      <td>0.1</td>\n",
       "      <td>6.895</td>\n",
       "      <td>6.552</td>\n",
       "      <td>7.485</td>\n",
       "    </tr>\n",
       "    <tr>\n",
       "      <th>2014-08-15 17:40:00</th>\n",
       "      <td>3</td>\n",
       "      <td>12.42</td>\n",
       "      <td>4.859</td>\n",
       "      <td>4.057</td>\n",
       "      <td>76.95</td>\n",
       "      <td>4.068</td>\n",
       "      <td>75.96</td>\n",
       "      <td>561.1</td>\n",
       "      <td>92.30</td>\n",
       "      <td>403.7</td>\n",
       "      <td>38.57</td>\n",
       "      <td>2.607</td>\n",
       "      <td>119.50</td>\n",
       "      <td>34.43</td>\n",
       "      <td>0.0</td>\n",
       "      <td>6.992</td>\n",
       "      <td>6.560</td>\n",
       "      <td>7.820</td>\n",
       "    </tr>\n",
       "    <tr>\n",
       "      <th>2014-08-15 17:50:00</th>\n",
       "      <td>4</td>\n",
       "      <td>12.43</td>\n",
       "      <td>5.225</td>\n",
       "      <td>4.128</td>\n",
       "      <td>76.08</td>\n",
       "      <td>4.290</td>\n",
       "      <td>75.09</td>\n",
       "      <td>439.7</td>\n",
       "      <td>73.22</td>\n",
       "      <td>288.2</td>\n",
       "      <td>23.81</td>\n",
       "      <td>0.941</td>\n",
       "      <td>297.30</td>\n",
       "      <td>76.48</td>\n",
       "      <td>0.0</td>\n",
       "      <td>7.090</td>\n",
       "      <td>6.531</td>\n",
       "      <td>8.100</td>\n",
       "    </tr>\n",
       "  </tbody>\n",
       "</table>\n",
       "</div>"
      ],
      "text/plain": [
       "                     RECORD  BattV  PTemp_C  AirTC_1   RH_1  AirTC_2   RH_2  \\\n",
       "TIMESTAMP                                                                     \n",
       "2014-08-15 17:10:00       0  12.40    5.397    2.228  95.00    2.552  93.40   \n",
       "2014-08-15 17:20:00       1  12.41    4.988    2.674  91.50    2.754  91.20   \n",
       "2014-08-15 17:30:00       2  12.42    4.665    3.108  83.90    3.260  84.50   \n",
       "2014-08-15 17:40:00       3  12.42    4.859    4.057  76.95    4.068  75.96   \n",
       "2014-08-15 17:50:00       4  12.43    5.225    4.128  76.08    4.290  75.09   \n",
       "\n",
       "                     SlrW_1  SlrW_2  NR_Wm2  H_Flux  WS_ms  WindDir  \\\n",
       "TIMESTAMP                                                             \n",
       "2014-08-15 17:10:00   398.6   59.18   295.5   11.17  1.823   109.00   \n",
       "2014-08-15 17:20:00   181.2   28.76    98.9    9.59  0.941    13.32   \n",
       "2014-08-15 17:30:00   664.7  107.00   550.6   35.51  0.510   121.20   \n",
       "2014-08-15 17:40:00   561.1   92.30   403.7   38.57  2.607   119.50   \n",
       "2014-08-15 17:50:00   439.7   73.22   288.2   23.81  0.941   297.30   \n",
       "\n",
       "                     WindDir_Std  Rain_mm_Tot  T107C_1  T107C_2  T107C_3  \n",
       "TIMESTAMP                                                                 \n",
       "2014-08-15 17:10:00        32.94          0.2    6.817    6.552    7.092  \n",
       "2014-08-15 17:20:00        35.72          0.3    6.816    6.541    7.357  \n",
       "2014-08-15 17:30:00        80.90          0.1    6.895    6.552    7.485  \n",
       "2014-08-15 17:40:00        34.43          0.0    6.992    6.560    7.820  \n",
       "2014-08-15 17:50:00        76.48          0.0    7.090    6.531    8.100  "
      ]
     },
     "execution_count": 3,
     "metadata": {},
     "output_type": "execute_result"
    }
   ],
   "source": [
    "# A simple way to plot the DataFrame\n",
    "df.head()"
   ]
  },
  {
   "cell_type": "markdown",
   "metadata": {},
   "source": [
    "We can select a Series from the DataFrame with"
   ]
  },
  {
   "cell_type": "code",
   "execution_count": null,
   "metadata": {},
   "outputs": [],
   "source": [
    "# Retrieve the air temperature series from the DataFrame\n",
    "df['AirTC_1']"
   ]
  },
  {
   "cell_type": "markdown",
   "metadata": {},
   "source": [
    "do some calculations"
   ]
  },
  {
   "cell_type": "code",
   "execution_count": null,
   "metadata": {},
   "outputs": [],
   "source": [
    "# Get the maximum of the air temperature series\n",
    "df['AirTC_1'].max()"
   ]
  },
  {
   "cell_type": "markdown",
   "metadata": {},
   "source": [
    "As illustrated by the max() method, you can do things with a DataFrame or Series. pandas provides a lot of functionalities, each of them a method you can apply to a DataFrame or Series. As methods are functions, do not forget to use parentheses ()."
   ]
  },
  {
   "cell_type": "markdown",
   "metadata": {},
   "source": [
    "You can also get some basic statistics of the data with"
   ]
  },
  {
   "cell_type": "code",
   "execution_count": null,
   "metadata": {},
   "outputs": [],
   "source": [
    "df.describe()"
   ]
  },
  {
   "cell_type": "markdown",
   "metadata": {},
   "source": [
    "The describe() method provides a quick overview of the numerical data in a DataFrame. Textual data is not taken into account by the describe() method."
   ]
  },
  {
   "cell_type": "markdown",
   "metadata": {},
   "source": [
    "You can simply select specific columns from a DataFrame with"
   ]
  },
  {
   "cell_type": "code",
   "execution_count": null,
   "metadata": {},
   "outputs": [],
   "source": [
    "# That's how you select the AirTC_1 and RH_1 columns from the df DataFrame\n",
    "df_subset = df[[\"AirTC_1\",\"RH_1\"]]\n",
    "\n",
    "# Plot the header (first 5 rows)\n",
    "df_subset.head()"
   ]
  },
  {
   "cell_type": "markdown",
   "metadata": {},
   "source": [
    "The shape of the DataFrame can be accessed with"
   ]
  },
  {
   "cell_type": "code",
   "execution_count": null,
   "metadata": {},
   "outputs": [],
   "source": [
    "# Access the shape attribute. Please note, do not use parentheses for attributes. \n",
    "df_subset.shape"
   ]
  },
  {
   "cell_type": "markdown",
   "metadata": {},
   "source": [
    "Often you need to filter specific rows from the DataFrame, e.g."
   ]
  },
  {
   "cell_type": "markdown",
   "metadata": {},
   "source": [
    "<img align=\"center\" valign='top' src=\"images/03_subset_rows.svg\" width=700 >"
   ]
  },
  {
   "cell_type": "markdown",
   "metadata": {},
   "source": [
    "With the following command you can simply select all rows with temperatures above 5ºC"
   ]
  },
  {
   "cell_type": "code",
   "execution_count": null,
   "metadata": {},
   "outputs": [],
   "source": [
    "# Select all rows with temerature greather than 5 degrees celsius\n",
    "T_subset = df_subset[df_subset[\"AirTC_1\"] > 5.0]\n",
    "\n",
    "# Plot the header rows\n",
    "T_subset.head()"
   ]
  },
  {
   "cell_type": "markdown",
   "metadata": {},
   "source": [
    "It is possible to combine multiple conditional statements, each condition must be surrounded by parentheses (). Moreover, you can not use or/and but need to use the or operator | and the and operator &. Here is an example"
   ]
  },
  {
   "cell_type": "code",
   "execution_count": null,
   "metadata": {},
   "outputs": [],
   "source": [
    "# Select all rows with temerature greather than 5 degrees celsius and a relative humidity above 70%\n",
    "T_RH_subset = df_subset[(df_subset[\"AirTC_1\"] > 5.0) & (df_subset[\"RH_1\"] > 70.0)]\n",
    "\n",
    "# Plot the header rows\n",
    "T_RH_subset.head()"
   ]
  },
  {
   "cell_type": "markdown",
   "metadata": {},
   "source": [
    "Often you want to create plots from the data."
   ]
  },
  {
   "cell_type": "markdown",
   "metadata": {},
   "source": [
    "<img align=\"center\" valign='top' src=\"images/04_plot_overview.svg\" width=700 >"
   ]
  },
  {
   "cell_type": "markdown",
   "metadata": {},
   "source": [
    "To make use of the plotting function you need to load the matplotlib package"
   ]
  },
  {
   "cell_type": "code",
   "execution_count": null,
   "metadata": {},
   "outputs": [],
   "source": [
    "# Import matplotlib\n",
    "import matplotlib.pyplot as plt"
   ]
  },
  {
   "cell_type": "markdown",
   "metadata": {},
   "source": [
    "You can quickly check the data visually"
   ]
  },
  {
   "cell_type": "code",
   "execution_count": null,
   "metadata": {},
   "outputs": [],
   "source": [
    "# Plot the temperature time series\n",
    "df[\"AirTC_1\"].plot()\n",
    "\n",
    "# Rotate the x-labels for better readability\n",
    "plt.xticks(rotation=30);"
   ]
  },
  {
   "cell_type": "markdown",
   "metadata": {},
   "source": [
    "Or create horizontally stacked plots, add two time series in one plot etc. "
   ]
  },
  {
   "cell_type": "code",
   "execution_count": null,
   "metadata": {},
   "outputs": [],
   "source": [
    "# Create two subplots (1 row, 2 columns)\n",
    "fig, (ax1, ax2) = plt.subplots(1, 2, figsize=(15, 5))\n",
    "fig.suptitle('Horzontally stacked subplots')\n",
    "\n",
    "# Plot the temperature time series\n",
    "df[\"AirTC_1\"].plot(ax=ax1);\n",
    "# Rotate the x-labels for better readability\n",
    "ax1.set_xticklabels(ax1.get_xticklabels(), rotation=45, ha='right');\n",
    "\n",
    "# Plot two temperature time series in one plot\n",
    "df[[\"AirTC_2\",\"AirTC_1\"]].plot(ax=ax2);\n",
    "# Rotate the x-labels for better readability\n",
    "ax2.set_xticklabels(ax2.get_xticklabels(), rotation=45, ha='right');"
   ]
  },
  {
   "cell_type": "markdown",
   "metadata": {},
   "source": [
    "Here is an example of a box plot"
   ]
  },
  {
   "cell_type": "code",
   "execution_count": null,
   "metadata": {},
   "outputs": [],
   "source": [
    "df[[\"AirTC_1\",\"RH_1\",\"H_Flux\"]].plot.box(figsize=(10,5))"
   ]
  },
  {
   "cell_type": "markdown",
   "metadata": {},
   "source": [
    "And a simple way to plot all variables in a DataFrame"
   ]
  },
  {
   "cell_type": "code",
   "execution_count": null,
   "metadata": {},
   "outputs": [],
   "source": [
    "# Create subplots\n",
    "df[[\"AirTC_1\",\"RH_1\",\"H_Flux\"]].plot(figsize=(15, 5), subplots=True);\n",
    "\n",
    "# Rotate the x-labels for better readability\n",
    "plt.xticks(rotation=30);"
   ]
  },
  {
   "cell_type": "markdown",
   "metadata": {},
   "source": [
    "<div class=\"alert alert-block alert-info\">\n",
    "<b>Note</b> This is just a starting point. Similar to spreadsheet software, pandas represents data as a table with columns and rows. Apart from the representation, also the data manipulations and calculations you would do in spreadsheet software are supported by pandas. \n",
    "</div>"
   ]
  },
  {
   "cell_type": "markdown",
   "metadata": {},
   "source": [
    "<div class=\"alert alert-block alert-info\">\n",
    "<b>Reminder</b> \n",
    "<ul>\n",
    "    <li>Import the package, aka <b>import pandas as pd</b>\n",
    "    <li>A table of data is stored as a pandas DataFrame\n",
    "    <li>Each column in a DataFrame is a Series\n",
    "    <li>You can do things by applying a method to a DataFrame or Series\n",
    "</ul> \n",
    "</div>"
   ]
  },
  {
   "cell_type": "markdown",
   "metadata": {},
   "source": [
    "<div class=\"alert alert-block alert-warning\">\n",
    "<b>Homework:</b> Check out the pandas <a href=\"https://pandas.pydata.org/docs/getting_started/intro_tutorials/index.html\">tutorial</a> and get familiar with the syntax.\n",
    "</div>"
   ]
  }
 ],
 "metadata": {
  "kernelspec": {
   "display_name": "env",
   "language": "python",
   "name": "env"
  },
  "language_info": {
   "codemirror_mode": {
    "name": "ipython",
    "version": 3
   },
   "file_extension": ".py",
   "mimetype": "text/x-python",
   "name": "python",
   "nbconvert_exporter": "python",
   "pygments_lexer": "ipython3",
   "version": "3.10.14"
  }
 },
 "nbformat": 4,
 "nbformat_minor": 4
}
