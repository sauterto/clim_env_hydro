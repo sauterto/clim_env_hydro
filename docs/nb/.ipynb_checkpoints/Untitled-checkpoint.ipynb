{
 "cells": [
  {
   "cell_type": "markdown",
   "id": "e354f0af-670f-4aa1-ae07-69419d279174",
   "metadata": {},
   "source": [
    "Please find below an example Jupyter Notebook for analyzing weather station data in CSV format. The **pandas**, **matplotlib**, and **numpy** libraries are used to load and analyze the data as well as to create plots.\n",
    "\n",
    "Step 1: Load data\n",
    "\n",
    "First, we need to load the CSV file and convert it to a pandas DataFrame. We use the '**read_csv()**' method from Pandas to load the data and create the DataFrame.\n",
    "\n",
    "In this example, the code reads in the weather stations data from a CSV file using the read_csv() method from pandas, with the parse_dates and index_col parameters set to True and 0, respectively. This ensures that the first column of the CSV file (the timestamps) is used as the index of the DataFrame, and that the timestamps are converted to datetime objects."
   ]
  },
  {
   "cell_type": "code",
   "execution_count": 77,
   "id": "f7e8fbcc-9f5b-4fca-a2f8-7f7201ee5ac8",
   "metadata": {
    "tags": []
   },
   "outputs": [],
   "source": [
    "import pandas as pd\n",
    "\n",
    "# Load CSV file\n",
    "df = pd.read_csv(\"./data/FLX_CH-Dav_missing.csv\", parse_dates=True, index_col=0)"
   ]
  },
  {
   "cell_type": "markdown",
   "id": "b74e26e9-20b5-4405-91d6-020aff047d0d",
   "metadata": {},
   "source": [
    "Step 2: View data\n",
    "\n",
    "Next, we want to view the data to ensure it has been loaded correctly. We use the head() method from Pandas to display the first five rows of the DataFrame."
   ]
  },
  {
   "cell_type": "code",
   "execution_count": 78,
   "id": "11930fb3-6d6d-44ac-bc94-7d1fb87df79f",
   "metadata": {
    "tags": []
   },
   "outputs": [
    {
     "data": {
      "text/html": [
       "<div>\n",
       "<style scoped>\n",
       "    .dataframe tbody tr th:only-of-type {\n",
       "        vertical-align: middle;\n",
       "    }\n",
       "\n",
       "    .dataframe tbody tr th {\n",
       "        vertical-align: top;\n",
       "    }\n",
       "\n",
       "    .dataframe thead th {\n",
       "        text-align: right;\n",
       "    }\n",
       "</style>\n",
       "<table border=\"1\" class=\"dataframe\">\n",
       "  <thead>\n",
       "    <tr style=\"text-align: right;\">\n",
       "      <th></th>\n",
       "      <th>t2m</th>\n",
       "      <th>RH</th>\n",
       "      <th>precip</th>\n",
       "      <th>WS</th>\n",
       "      <th>WD</th>\n",
       "      <th>NETRAD</th>\n",
       "      <th>SW_IN</th>\n",
       "      <th>SW_OUT</th>\n",
       "      <th>LW_IN</th>\n",
       "      <th>LW_OUT</th>\n",
       "      <th>H</th>\n",
       "      <th>LE</th>\n",
       "      <th>QG</th>\n",
       "      <th>TS</th>\n",
       "    </tr>\n",
       "    <tr>\n",
       "      <th>TIMESTAMP_START</th>\n",
       "      <th></th>\n",
       "      <th></th>\n",
       "      <th></th>\n",
       "      <th></th>\n",
       "      <th></th>\n",
       "      <th></th>\n",
       "      <th></th>\n",
       "      <th></th>\n",
       "      <th></th>\n",
       "      <th></th>\n",
       "      <th></th>\n",
       "      <th></th>\n",
       "      <th></th>\n",
       "      <th></th>\n",
       "    </tr>\n",
       "  </thead>\n",
       "  <tbody>\n",
       "    <tr>\n",
       "      <th>1997-01-01 00:00:00</th>\n",
       "      <td>-5.493</td>\n",
       "      <td>85.3667</td>\n",
       "      <td>0.0</td>\n",
       "      <td>1.05</td>\n",
       "      <td>167.031</td>\n",
       "      <td>-0.98</td>\n",
       "      <td>0.0</td>\n",
       "      <td>-9999.0</td>\n",
       "      <td>237.296</td>\n",
       "      <td>-9999.0</td>\n",
       "      <td>-22.8930</td>\n",
       "      <td>1.97293</td>\n",
       "      <td>-0.26254</td>\n",
       "      <td>-9999.0</td>\n",
       "    </tr>\n",
       "    <tr>\n",
       "      <th>1997-01-01 00:30:00</th>\n",
       "      <td>-5.167</td>\n",
       "      <td>85.5667</td>\n",
       "      <td>0.0</td>\n",
       "      <td>1.39</td>\n",
       "      <td>170.768</td>\n",
       "      <td>-1.97</td>\n",
       "      <td>0.0</td>\n",
       "      <td>-9999.0</td>\n",
       "      <td>237.296</td>\n",
       "      <td>-9999.0</td>\n",
       "      <td>-19.8815</td>\n",
       "      <td>6.76452</td>\n",
       "      <td>-0.63874</td>\n",
       "      <td>-9999.0</td>\n",
       "    </tr>\n",
       "    <tr>\n",
       "      <th>1997-01-01 01:00:00</th>\n",
       "      <td>-5.297</td>\n",
       "      <td>85.8667</td>\n",
       "      <td>0.0</td>\n",
       "      <td>1.07</td>\n",
       "      <td>171.602</td>\n",
       "      <td>-0.76</td>\n",
       "      <td>0.0</td>\n",
       "      <td>-9999.0</td>\n",
       "      <td>234.602</td>\n",
       "      <td>-9999.0</td>\n",
       "      <td>24.4622</td>\n",
       "      <td>-1.33572</td>\n",
       "      <td>-1.08020</td>\n",
       "      <td>-9999.0</td>\n",
       "    </tr>\n",
       "    <tr>\n",
       "      <th>1997-01-01 01:30:00</th>\n",
       "      <td>-5.330</td>\n",
       "      <td>89.4667</td>\n",
       "      <td>0.0</td>\n",
       "      <td>0.57</td>\n",
       "      <td>182.835</td>\n",
       "      <td>-0.81</td>\n",
       "      <td>0.0</td>\n",
       "      <td>-9999.0</td>\n",
       "      <td>234.602</td>\n",
       "      <td>-9999.0</td>\n",
       "      <td>5.4754</td>\n",
       "      <td>11.60330</td>\n",
       "      <td>-1.53866</td>\n",
       "      <td>-9999.0</td>\n",
       "    </tr>\n",
       "    <tr>\n",
       "      <th>1997-01-01 02:00:00</th>\n",
       "      <td>-5.688</td>\n",
       "      <td>92.7667</td>\n",
       "      <td>0.1</td>\n",
       "      <td>0.63</td>\n",
       "      <td>194.535</td>\n",
       "      <td>-0.36</td>\n",
       "      <td>0.0</td>\n",
       "      <td>-9999.0</td>\n",
       "      <td>234.602</td>\n",
       "      <td>-9999.0</td>\n",
       "      <td>-16.8997</td>\n",
       "      <td>1.31993</td>\n",
       "      <td>-1.92758</td>\n",
       "      <td>-9999.0</td>\n",
       "    </tr>\n",
       "  </tbody>\n",
       "</table>\n",
       "</div>"
      ],
      "text/plain": [
       "                       t2m       RH  precip    WS       WD  NETRAD  SW_IN   \n",
       "TIMESTAMP_START                                                             \n",
       "1997-01-01 00:00:00 -5.493  85.3667     0.0  1.05  167.031   -0.98    0.0  \\\n",
       "1997-01-01 00:30:00 -5.167  85.5667     0.0  1.39  170.768   -1.97    0.0   \n",
       "1997-01-01 01:00:00 -5.297  85.8667     0.0  1.07  171.602   -0.76    0.0   \n",
       "1997-01-01 01:30:00 -5.330  89.4667     0.0  0.57  182.835   -0.81    0.0   \n",
       "1997-01-01 02:00:00 -5.688  92.7667     0.1  0.63  194.535   -0.36    0.0   \n",
       "\n",
       "                     SW_OUT    LW_IN  LW_OUT        H        LE       QG   \n",
       "TIMESTAMP_START                                                            \n",
       "1997-01-01 00:00:00 -9999.0  237.296 -9999.0 -22.8930   1.97293 -0.26254  \\\n",
       "1997-01-01 00:30:00 -9999.0  237.296 -9999.0 -19.8815   6.76452 -0.63874   \n",
       "1997-01-01 01:00:00 -9999.0  234.602 -9999.0  24.4622  -1.33572 -1.08020   \n",
       "1997-01-01 01:30:00 -9999.0  234.602 -9999.0   5.4754  11.60330 -1.53866   \n",
       "1997-01-01 02:00:00 -9999.0  234.602 -9999.0 -16.8997   1.31993 -1.92758   \n",
       "\n",
       "                         TS  \n",
       "TIMESTAMP_START              \n",
       "1997-01-01 00:00:00 -9999.0  \n",
       "1997-01-01 00:30:00 -9999.0  \n",
       "1997-01-01 01:00:00 -9999.0  \n",
       "1997-01-01 01:30:00 -9999.0  \n",
       "1997-01-01 02:00:00 -9999.0  "
      ]
     },
     "execution_count": 78,
     "metadata": {},
     "output_type": "execute_result"
    }
   ],
   "source": [
    "#df2 = df[['TA_F','RH','P_F','WS_F','WD','NETRAD','SW_IN_F','SW_OUT','LW_IN_F','LW_OUT','H_CORR','LE_CORR',\n",
    "#         'G_F_MDS','TS_F_MDS_1']]\n",
    "\n",
    "#df2 = df2.rename(columns={\"TA_F\": \"t2m\", \"P_F\": \"precip\", \"SW_IN_F\": \"SW_IN\",\"LW_IN_F\":\"LW_IN\",\n",
    "#                   \"H_CORR\":\"H\",\"LE_CORR\":\"LE\",\"G_F_MDS\":\"QG\",\"TS_F_MDS_1\":\"TS\",\"WS_F\":\"WS\"}, errors=\"raise\")\n",
    "#df2.to_csv('FLX_CH-Dav.csv')\n",
    "df.head()"
   ]
  },
  {
   "cell_type": "markdown",
   "id": "9bed0697-ef25-4ffc-8fd8-00de29e6e4a6",
   "metadata": {},
   "source": [
    "The code then uses the values attribute of the DataFrame to obtain a two-dimensional NumPy array of the DataFrame's values. The in operator is then used to check if -9999 or missing valuss are in the array. If -9999 or no values are found in the array, then the code will print 'The time series contains missing values of -9999' or 'There is missing data in the DataFram'. "
   ]
  },
  {
   "cell_type": "code",
   "execution_count": 84,
   "id": "87814f52-02ba-4ea9-b06a-0b77df65c6ab",
   "metadata": {
    "tags": []
   },
   "outputs": [
    {
     "name": "stdout",
     "output_type": "stream",
     "text": [
      "The time series contains missing values of -9999\n",
      "The DataFrame contains no missing data\n"
     ]
    }
   ],
   "source": [
    "# Check for missing values of -9999\n",
    "if (-9999 in df.values):\n",
    "    print('The time series contains missing values of -9999')\n",
    "else:\n",
    "    print('The time series does not contain missing values of -9999')\n",
    "\n",
    "# Check for missing data\n",
    "if df.isnull().any().any():\n",
    "    print('There is missing data in the DataFrame')\n",
    "else:\n",
    "    print('The DataFrame contains no missing data')\n",
    "    "
   ]
  },
  {
   "cell_type": "markdown",
   "id": "e92f0aa4-d89c-46d4-82ab-b379b3c04e33",
   "metadata": {},
   "source": [
    "The code then generates a date range using the date_range() method from pandas, with the start and end parameters set to the minimum and maximum timestamps in the DataFrame, respectively, and the freq parameter set to the expected frequency of the time series (e.g. '15T' for every 15 minutes).\n",
    "\n",
    "The difference() method is then used to compare the date range to the DataFrame index. If there are any missing periods in the time series, then the resulting set will be non-empty, and the code will print 'The time series is not continuous'. Otherwise, the time series is continuous and the code will print 'The time series is continuous'."
   ]
  },
  {
   "cell_type": "code",
   "execution_count": 92,
   "id": "f9a1800c-51ff-4993-ac74-1e6532434d6b",
   "metadata": {
    "tags": []
   },
   "outputs": [
    {
     "name": "stdout",
     "output_type": "stream",
     "text": [
      "The time series is not continuous \n",
      "\n",
      "These dates are missing: \n",
      " DatetimeIndex(['1997-01-01 00:15:00', '1997-01-01 00:45:00',\n",
      "               '1997-01-01 01:15:00', '1997-01-01 01:45:00',\n",
      "               '1997-01-01 02:15:00', '1997-01-01 02:45:00',\n",
      "               '1997-01-01 03:15:00', '1997-01-01 03:45:00',\n",
      "               '1997-01-01 04:15:00', '1997-01-01 04:45:00',\n",
      "               ...\n",
      "               '2014-12-31 18:45:00', '2014-12-31 19:15:00',\n",
      "               '2014-12-31 19:45:00', '2014-12-31 20:15:00',\n",
      "               '2014-12-31 20:45:00', '2014-12-31 21:15:00',\n",
      "               '2014-12-31 21:45:00', '2014-12-31 22:15:00',\n",
      "               '2014-12-31 22:45:00', '2014-12-31 23:15:00'],\n",
      "              dtype='datetime64[ns]', length=315791, freq=None)\n"
     ]
    }
   ],
   "source": [
    "# Check for missing periods\n",
    "if pd.date_range(start=df.index.min(), end=df.index.max(), freq='15T').difference(df.index).empty:\n",
    "    print('The time series is continuous \\n')\n",
    "else:\n",
    "    print('The time series is not continuous \\n')\n",
    "    print(('These dates are missing: \\n {0}').format(pd.date_range(start=df.index.min(), end=df.index.max(), \n",
    "                                                                 freq='15T').difference(df.index)))"
   ]
  },
  {
   "cell_type": "code",
   "execution_count": null,
   "id": "50aa2ef4-7f61-469f-8b1d-3933f83f86b6",
   "metadata": {},
   "outputs": [],
   "source": [
    "# Resample the data to hourly frequency with different aggregation methods for each column\n",
    "resampled = df.resample('H').agg({'t2m': 'mean', 'RH': 'min',\n",
    "                                  'WS': 'max', 'WD': 'last', 'Radiation': 'sum',\n",
    "                                 'precip':})\n",
    "\n",
    "# Check for missing values of -9999\n",
    "if (-9999 in resampled.values):\n",
    "    print('The resampled time series contains missing values of -9999')\n",
    "else:\n",
    "    print('The resampled time series does not contain missing values of -9999')"
   ]
  },
  {
   "cell_type": "markdown",
   "id": "cdc621e0-3b9d-4b3a-abb0-ea9db3618b34",
   "metadata": {},
   "source": [
    "Step 3: Filter data\n",
    "\n",
    "Now we can filter the DataFrame to only keep the columns we need. In this case, we only want to keep the \"Temperature\", \"Humidity\", and \"Precipitation\" columns."
   ]
  },
  {
   "cell_type": "code",
   "execution_count": null,
   "id": "ea306a30-4278-4a3b-a8f2-992753a6b793",
   "metadata": {},
   "outputs": [],
   "source": [
    "df = df[[\"Temperature\", \"Humidity\", \"Precipitation\"]]"
   ]
  },
  {
   "cell_type": "markdown",
   "id": "17b6f6fa-f17d-4c91-8809-2b53f95f4c47",
   "metadata": {},
   "source": [
    "Step 4: Analyze data\n",
    "\n",
    "Next, we can analyze the data to gain more information about how the weather has changed over time. We can use the describe() method from Pandas to get statistical information such as the mean, standard deviation, and quartiles."
   ]
  },
  {
   "cell_type": "code",
   "execution_count": 56,
   "id": "04b154b7-eb60-476e-b37d-d310b7d4146d",
   "metadata": {
    "tags": []
   },
   "outputs": [
    {
     "name": "stdout",
     "output_type": "stream",
     "text": [
      "                 t2m             RH         precip             WS   \n",
      "count  315552.000000  315552.000000  315552.000000  315552.000000  \\\n",
      "mean        3.517402    -297.690825       0.048010       1.991028   \n",
      "std         7.102602    1892.017838       0.273471       1.341155   \n",
      "min       -25.033000   -9999.000000       0.000000       0.005000   \n",
      "25%        -1.700000      52.043300       0.000000       0.955000   \n",
      "50%         3.180000      73.933300       0.000000       1.751000   \n",
      "75%         8.536000      89.633300       0.000000       2.751000   \n",
      "max        27.067000     100.000000      19.400000      12.870000   \n",
      "\n",
      "                  WD         NETRAD          SW_IN         SW_OUT   \n",
      "count  315552.000000  315552.000000  315552.000000  315552.000000  \\\n",
      "mean     -281.091328   -1860.686709     150.785750   -3006.397929   \n",
      "std      2059.895142    3978.130139     239.858911    4593.912417   \n",
      "min     -9999.000000   -9999.000000       0.000000   -9999.000000   \n",
      "25%        35.643350    -109.650000       0.000000   -9999.000000   \n",
      "50%       178.291000     -28.190000       7.950000       0.423017   \n",
      "75%       208.735000      79.770000     225.070500       7.933300   \n",
      "max       360.000000    1058.740000    1123.250000     166.833000   \n",
      "\n",
      "               LW_IN         LW_OUT              H             LE   \n",
      "count  315552.000000  315552.000000  315552.000000  315552.000000  \\\n",
      "mean      269.771160   -6863.117454    -673.036918    -640.798403   \n",
      "std        46.796239    4747.261316    2561.392805    2568.814584   \n",
      "min       120.660000   -9999.000000   -9999.000000   -9999.000000   \n",
      "25%       235.615000   -9999.000000     -53.050250      -1.862850   \n",
      "50%       273.428000   -9999.000000     -11.954400      16.039950   \n",
      "75%       305.938000     288.309250      39.725200      71.592175   \n",
      "max       399.298000     454.193000    1409.860000    1567.820000   \n",
      "\n",
      "                  QG             TS  \n",
      "count  315552.000000  315552.000000  \n",
      "mean        1.189574   -5040.918496  \n",
      "std         4.858104    5001.552894  \n",
      "min       -27.823000   -9999.000000  \n",
      "25%        -1.627000   -9999.000000  \n",
      "50%        -0.060000   -9999.000000  \n",
      "75%         3.591330       2.432000  \n",
      "max        48.530000      15.643000  \n"
     ]
    }
   ],
   "source": [
    "print(df.describe())"
   ]
  },
  {
   "cell_type": "markdown",
   "id": "71d73d6c-9e8a-4a1e-b571-0df472cbf961",
   "metadata": {},
   "source": [
    "Step 5: Visualize data\n",
    "\n",
    "Finally, we can visualize the data to identify patterns and trends in the weather. We use the matplotlib and numpy libraries to create plots."
   ]
  },
  {
   "cell_type": "code",
   "execution_count": 57,
   "id": "4e437834-47c9-406a-9e15-3a4e2423c46b",
   "metadata": {
    "tags": []
   },
   "outputs": [
    {
     "data": {
      "image/png": "[encoded data removed]",
      "text/plain": [
       "<Figure size 640x480 with 1 Axes>"
      ]
     },
     "metadata": {},
     "output_type": "display_data"
    },
    {
     "data": {
      "image/png": "[encoded data removed]",
      "text/plain": [
       "<Figure size 640x480 with 1 Axes>"
      ]
     },
     "metadata": {},
     "output_type": "display_data"
    },
    {
     "data": {
      "image/png": "[encoded data removed]",
      "text/plain": [
       "<Figure size 640x480 with 1 Axes>"
      ]
     },
     "metadata": {},
     "output_type": "display_data"
    }
   ],
   "source": [
    "import matplotlib.pyplot as plt\n",
    "import numpy as np\n",
    "\n",
    "# Create temperature plot\n",
    "x = np.arange(len(df))\n",
    "fig, ax = plt.subplots()\n",
    "ax.plot(x, df[\"t2m\"])\n",
    "ax.set_xlabel(\"Time\")\n",
    "ax.set_ylabel(\"Temperature in °C\")\n",
    "ax.set_title(\"Temperature over time\")\n",
    "\n",
    "# Create humidity plot\n",
    "fig, ax = plt.subplots()\n",
    "ax.plot(x, df[\"RH\"])\n",
    "ax.set_xlabel(\"Time\")\n",
    "ax.set_ylabel(\"Humidity in %\")\n",
    "ax.set_title(\"Humidity over time\")\n",
    "\n",
    "# Create precipitation plot\n",
    "fig, ax = plt.subplots()\n",
    "ax.plot(x, df[\"precip\"])\n",
    "ax.set_xlabel(\"Time\")\n",
    "ax.set_ylabel(\"Precipitation in mm\")\n",
    "ax.set_title(\"Precipitation over time\")\n",
    "\n",
    "plt.show()"
   ]
  },
  {
   "cell_type": "markdown",
   "id": "d6c435c9-bed1-494c-8603-a7bac08599f2",
   "metadata": {},
   "source": [
    "In this example, we use the windrose library to create a WindroseAxes object and then call the bar() method to create the windrose chart. The normed parameter is set to True to normalize the values, and the opening parameter is set to 0.8 to adjust the size of the bars. We also set the edgecolor parameter to 'white' to make the chart easier to read. Finally, we call the set_legend() method to add a legend to the chart, and the set_title() method to set the chart title.\n",
    "\n"
   ]
  },
  {
   "cell_type": "code",
   "execution_count": null,
   "id": "a50dd1a4-34f5-460d-99e0-05d44a9923c3",
   "metadata": {},
   "outputs": [],
   "source": [
    "import pandas as pd\n",
    "import numpy as np\n",
    "from windrose import WindroseAxes\n",
    "\n",
    "# Load CSV file\n",
    "df = pd.read_csv(\"weather_data.csv\")\n",
    "\n",
    "# Create Windrose chart\n",
    "ax = WindroseAxes.from_ax()\n",
    "ax.bar(df[\"Wind Direction\"], df[\"Wind Speed\"], normed=True, opening=0.8, edgecolor='white')\n",
    "ax.set_legend()\n",
    "ax.set_title(\"Windrose\")\n",
    "plt.show()\n"
   ]
  },
  {
   "cell_type": "markdown",
   "id": "5f80c454-d1d8-48d7-ac38-bf33494d6e2c",
   "metadata": {},
   "source": [
    "In this example, we use pandas to load the CSV file containing the weather station data. We then drop rows that have missing wind data using the dropna() method, and remove rows where the wind speed is zero using boolean indexing. We also remove any rows where the wind speed is greater than 100, since that value is likely an outlier. Finally, we remove any rows where the wind direction is not between 0 and 360 degrees, or where the wind direction is not a number using boolean indexing.\n",
    "\n",
    "The cleaned data is then saved to a new CSV file using the to_csv() method. You can modify this code to perform additional quality assessment checks, depending on your specific requirements."
   ]
  },
  {
   "cell_type": "code",
   "execution_count": null,
   "id": "f2ca9f74-5d8a-4092-a49c-6c7c5648755a",
   "metadata": {},
   "outputs": [],
   "source": [
    "import pandas as pd\n",
    "import numpy as np\n",
    "\n",
    "# Load CSV file\n",
    "df = pd.read_csv(\"weather_data.csv\")\n",
    "\n",
    "# Drop rows with missing wind data\n",
    "df.dropna(subset=[\"Wind Speed\", \"Wind Direction\"], inplace=True)\n",
    "\n",
    "# Remove rows where wind speed is 0\n",
    "df = df[df[\"Wind Speed\"] > 0]\n",
    "\n",
    "# Remove rows where wind speed is greater than 100\n",
    "df = df[df[\"Wind Speed\"] <= 100]\n",
    "\n",
    "# Remove rows where wind direction is not between 0 and 360 degrees\n",
    "df = df[(df[\"Wind Direction\"] >= 0) & (df[\"Wind Direction\"] <= 360)]\n",
    "\n",
    "# Remove rows where wind direction is not a number\n",
    "df = df[np.isfinite(df[\"Wind Direction\"])]\n",
    "\n",
    "# Save cleaned data to CSV file\n",
    "df.to_csv(\"cleaned_weather_data.csv\", index=False)"
   ]
  },
  {
   "cell_type": "markdown",
   "id": "26e14bea-d150-43fc-bd46-0ebc34b72aab",
   "metadata": {},
   "source": [
    "In this example, we load the weather data from a CSV file and convert the temperature from Fahrenheit to Celsius. We then calculate the wind direction and speed, relative humidity, heat index, and wind chill using MetPy functions. We also create a daily resampled DataFrame and plot the daily mean temperature and a wind rose."
   ]
  },
  {
   "cell_type": "code",
   "execution_count": null,
   "id": "3ceea56e-3570-45bc-b476-6f7ad6252f40",
   "metadata": {},
   "outputs": [],
   "source": [
    "import pandas as pd\n",
    "import matplotlib.pyplot as plt\n",
    "from datetime import datetime\n",
    "import metpy.calc as mpcalc\n",
    "from metpy.units import units\n",
    "\n",
    "# Load the weather data from CSV file\n",
    "data = pd.read_csv('weather_data.csv')\n",
    "\n",
    "# Convert the date column to a datetime format\n",
    "data['Date'] = pd.to_datetime(data['Date'])\n",
    "\n",
    "# Set the date column as the index\n",
    "data.set_index('Date', inplace=True)\n",
    "\n",
    "# Convert the temperature from Fahrenheit to Celsius\n",
    "data['Temperature'] = ((data['Temperature'] - 32) * 5/9).round(2)\n",
    "\n",
    "# Calculate the wind direction from the U and V components\n",
    "u, v = mpcalc.wind_components(data['Wind Speed'].values * units('m/s'), \n",
    "                              data['Wind Direction'].values * units.deg)\n",
    "wind_direction = mpcalc.wind_direction(u, v).to('deg').magnitude\n",
    "data['Wind Direction'] = wind_direction.round(2)\n",
    "\n",
    "# Calculate the wind speed in knots\n",
    "data['Wind Speed'] = (data['Wind Speed'] * 1.94384).round(2)\n",
    "\n",
    "# Calculate the relative humidity\n",
    "data['Relative Humidity'] = mpcalc.relative_humidity_from_dewpoint(data['Temperature'].values * units.degC, \n",
    "                                                                    data['Dew Point'].values * units.degC).round(2)\n",
    "\n",
    "# Calculate the heat index\n",
    "data['Heat Index'] = mpcalc.heat_index(data['Temperature'].values * units.degC, \n",
    "                                       data['Relative Humidity'].values * units.percent).to('degF').round(2)\n",
    "\n",
    "# Calculate the wind chill\n",
    "data['Wind Chill'] = mpcalc.windchill(data['Temperature'].values * units.degC, \n",
    "                                      data['Wind Speed'].values * units('m/s')).to('degF').round(2)\n",
    "\n",
    "# Create a daily resampled DataFrame\n",
    "daily_data = data.resample('D').mean()\n",
    "\n",
    "# Plot the daily mean temperature\n",
    "fig, ax = plt.subplots(figsize=(12,6))\n",
    "ax.plot(daily_data.index, daily_data['Temperature'], color='r')\n",
    "ax.set_xlabel('Date')\n",
    "ax.set_ylabel('Temperature (°C)')\n",
    "ax.set_title('Daily Mean Temperature')\n",
    "\n",
    "# Plot the wind rose\n",
    "fig = plt.figure(figsize=(8, 8))\n",
    "ax = fig.add_subplot(111, projection='polar')\n",
    "ax.set_theta_zero_location('N')\n",
    "ax.set_theta_direction(-1)\n",
    "ax.set_rlim(0, 1)\n",
    "ax.set_rlabel_position(22.5)\n",
    "ax.set_title('Wind Rose')\n",
    "ax.bar(data['Wind Direction'].values * units.deg, data['Wind Speed'].values * units('m/s'), \n",
    "       width=15, alpha=0.5, edgecolor='k', align='center', \n",
    "       bottom=0 * units('m/s'), color='blue')\n",
    "\n",
    "plt.show()"
   ]
  }
 ],
 "metadata": {
  "kernelspec": {
   "display_name": "meteo",
   "language": "python",
   "name": "meteo"
  },
  "language_info": {
   "codemirror_mode": {
    "name": "ipython",
    "version": 3
   },
   "file_extension": ".py",
   "mimetype": "text/x-python",
   "name": "python",
   "nbconvert_exporter": "python",
   "pygments_lexer": "ipython3",
   "version": "3.11.3"
  }
 },
 "nbformat": 4,
 "nbformat_minor": 5
}
