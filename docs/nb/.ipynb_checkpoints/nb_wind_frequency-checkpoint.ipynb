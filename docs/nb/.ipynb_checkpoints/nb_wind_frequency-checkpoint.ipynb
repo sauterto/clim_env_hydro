{
 "cells": [
  {
   "cell_type": "markdown",
   "id": "691d8a01-9783-4860-99ff-1b17a37434e7",
   "metadata": {},
   "source": [
    "(nb_wind_freq)=\n",
    "\n",
    "# Wind frequency\n",
    "\n",
    "Wind speeds are rarely constant. At any one location, wind speeds might be strong only rarely during a year, moderate many hours, light even more hours, and calm less frequently. The number of times than a range $\\Delta U$ of wind speeds occured in the past is the frequency of occurrence. Dividing the frequency by the total number of wind observations gives a relative frequency. The expectation that this same relative frequency will occure in the future is the probability $Pr$. The probability distribution of mean wind speeds $U$ is described by the Weibull distribution. In this notebook we estimate the parameters of the Weibull distriubtion to fit the observations. From this we derive the return periods of wind events."
   ]
  },
  {
   "cell_type": "markdown",
   "id": "c435fb32-9ac7-4028-824d-6d2e6ea2408b",
   "metadata": {},
   "source": [
    "<div class=\"alert alert-block alert-success\">\n",
    "<b>Learning objectives:</b><br>\n",
    "<ul>\n",
    " <li>Probability distribution of mean wind speeds</li>\n",
    " <li>Return periods</li>\n",
    "</ul>  \n",
    "</div>"
   ]
  },
  {
   "cell_type": "markdown",
   "id": "12cbbdb0-da54-4e7b-b90a-29ef20a2d553",
   "metadata": {},
   "source": [
    "<div class=\"alert alert-block alert-info\">\n",
    "<b>Prerequisites</b><br>\n",
    "<ul>\n",
    "<li>Basic knowledge of Python, Jupyter Notebooks, and data analysis</li>\n",
    "<li>Familiarity with Scipy, Pandas, Xarray, and Plotly</li>\n",
    "</ul>  \n",
    "</div>"
   ]
  },
  {
   "cell_type": "code",
   "execution_count": 11,
   "id": "fb9d4216-822f-4802-b5be-fcab9e9369b0",
   "metadata": {
    "tags": []
   },
   "outputs": [],
   "source": [
    "import numpy as np\n",
    "import pandas as pd\n",
    "import math\n",
    "import xarray as xr\n",
    "from rosely import WindRose\n",
    "\n",
    "# Import the plotly library\n",
    "from plotly.subplots import make_subplots\n",
    "import plotly.subplots as sp\n",
    "import plotly.graph_objs as go"
   ]
  },
  {
   "cell_type": "markdown",
   "id": "69c66147-9abf-4e5c-bfe6-88fc87281bd0",
   "metadata": {
    "tags": []
   },
   "source": [
    "We use the measurement data from Davos station for the exercise"
   ]
  },
  {
   "cell_type": "code",
   "execution_count": 9,
   "id": "59274753-5c88-4e18-a9f0-ee60ac2a9088",
   "metadata": {
    "tags": []
   },
   "outputs": [
    {
     "data": {
      "text/html": [
       "<div>\n",
       "<style scoped>\n",
       "    .dataframe tbody tr th:only-of-type {\n",
       "        vertical-align: middle;\n",
       "    }\n",
       "\n",
       "    .dataframe tbody tr th {\n",
       "        vertical-align: top;\n",
       "    }\n",
       "\n",
       "    .dataframe thead th {\n",
       "        text-align: right;\n",
       "    }\n",
       "</style>\n",
       "<table border=\"1\" class=\"dataframe\">\n",
       "  <thead>\n",
       "    <tr style=\"text-align: right;\">\n",
       "      <th></th>\n",
       "      <th>t2m</th>\n",
       "      <th>RH</th>\n",
       "      <th>precip</th>\n",
       "      <th>WS</th>\n",
       "      <th>WD</th>\n",
       "      <th>NETRAD</th>\n",
       "      <th>SW_IN</th>\n",
       "      <th>SW_OUT</th>\n",
       "      <th>LW_IN</th>\n",
       "      <th>LW_OUT</th>\n",
       "      <th>H</th>\n",
       "      <th>LE</th>\n",
       "      <th>QG</th>\n",
       "      <th>TS</th>\n",
       "    </tr>\n",
       "    <tr>\n",
       "      <th>TIMESTAMP_START</th>\n",
       "      <th></th>\n",
       "      <th></th>\n",
       "      <th></th>\n",
       "      <th></th>\n",
       "      <th></th>\n",
       "      <th></th>\n",
       "      <th></th>\n",
       "      <th></th>\n",
       "      <th></th>\n",
       "      <th></th>\n",
       "      <th></th>\n",
       "      <th></th>\n",
       "      <th></th>\n",
       "      <th></th>\n",
       "    </tr>\n",
       "  </thead>\n",
       "  <tbody>\n",
       "    <tr>\n",
       "      <th>1997-01-01 00:00:00</th>\n",
       "      <td>-5.493</td>\n",
       "      <td>85.3667</td>\n",
       "      <td>0.0</td>\n",
       "      <td>1.050</td>\n",
       "      <td>167.031</td>\n",
       "      <td>-0.98</td>\n",
       "      <td>0.0</td>\n",
       "      <td>-9999.0</td>\n",
       "      <td>237.296</td>\n",
       "      <td>-9999.0</td>\n",
       "      <td>-22.8930</td>\n",
       "      <td>1.97293</td>\n",
       "      <td>-0.26254</td>\n",
       "      <td>-9999.000</td>\n",
       "    </tr>\n",
       "    <tr>\n",
       "      <th>1997-01-01 00:30:00</th>\n",
       "      <td>-5.167</td>\n",
       "      <td>85.5667</td>\n",
       "      <td>0.0</td>\n",
       "      <td>1.390</td>\n",
       "      <td>170.768</td>\n",
       "      <td>-1.97</td>\n",
       "      <td>0.0</td>\n",
       "      <td>-9999.0</td>\n",
       "      <td>237.296</td>\n",
       "      <td>-9999.0</td>\n",
       "      <td>-19.8815</td>\n",
       "      <td>6.76452</td>\n",
       "      <td>-0.63874</td>\n",
       "      <td>-9999.000</td>\n",
       "    </tr>\n",
       "    <tr>\n",
       "      <th>1997-01-01 01:00:00</th>\n",
       "      <td>-5.297</td>\n",
       "      <td>85.8667</td>\n",
       "      <td>0.0</td>\n",
       "      <td>1.070</td>\n",
       "      <td>171.602</td>\n",
       "      <td>-0.76</td>\n",
       "      <td>0.0</td>\n",
       "      <td>-9999.0</td>\n",
       "      <td>234.602</td>\n",
       "      <td>-9999.0</td>\n",
       "      <td>24.4622</td>\n",
       "      <td>-1.33572</td>\n",
       "      <td>-1.08020</td>\n",
       "      <td>-9999.000</td>\n",
       "    </tr>\n",
       "    <tr>\n",
       "      <th>1997-01-01 01:30:00</th>\n",
       "      <td>-5.330</td>\n",
       "      <td>89.4667</td>\n",
       "      <td>0.0</td>\n",
       "      <td>0.570</td>\n",
       "      <td>182.835</td>\n",
       "      <td>-0.81</td>\n",
       "      <td>0.0</td>\n",
       "      <td>-9999.0</td>\n",
       "      <td>234.602</td>\n",
       "      <td>-9999.0</td>\n",
       "      <td>5.4754</td>\n",
       "      <td>11.60330</td>\n",
       "      <td>-1.53866</td>\n",
       "      <td>-9999.000</td>\n",
       "    </tr>\n",
       "    <tr>\n",
       "      <th>1997-01-01 02:00:00</th>\n",
       "      <td>-5.688</td>\n",
       "      <td>92.7667</td>\n",
       "      <td>0.1</td>\n",
       "      <td>0.630</td>\n",
       "      <td>194.535</td>\n",
       "      <td>-0.36</td>\n",
       "      <td>0.0</td>\n",
       "      <td>-9999.0</td>\n",
       "      <td>234.602</td>\n",
       "      <td>-9999.0</td>\n",
       "      <td>-16.8997</td>\n",
       "      <td>1.31993</td>\n",
       "      <td>-1.92758</td>\n",
       "      <td>-9999.000</td>\n",
       "    </tr>\n",
       "    <tr>\n",
       "      <th>...</th>\n",
       "      <td>...</td>\n",
       "      <td>...</td>\n",
       "      <td>...</td>\n",
       "      <td>...</td>\n",
       "      <td>...</td>\n",
       "      <td>...</td>\n",
       "      <td>...</td>\n",
       "      <td>...</td>\n",
       "      <td>...</td>\n",
       "      <td>...</td>\n",
       "      <td>...</td>\n",
       "      <td>...</td>\n",
       "      <td>...</td>\n",
       "      <td>...</td>\n",
       "    </tr>\n",
       "    <tr>\n",
       "      <th>2014-12-31 21:30:00</th>\n",
       "      <td>-9.233</td>\n",
       "      <td>82.1000</td>\n",
       "      <td>0.0</td>\n",
       "      <td>1.757</td>\n",
       "      <td>194.537</td>\n",
       "      <td>-9999.00</td>\n",
       "      <td>0.0</td>\n",
       "      <td>-9999.0</td>\n",
       "      <td>246.177</td>\n",
       "      <td>-9999.0</td>\n",
       "      <td>-9999.0000</td>\n",
       "      <td>-9999.00000</td>\n",
       "      <td>4.30100</td>\n",
       "      <td>0.161</td>\n",
       "    </tr>\n",
       "    <tr>\n",
       "      <th>2014-12-31 22:00:00</th>\n",
       "      <td>-9.633</td>\n",
       "      <td>82.0333</td>\n",
       "      <td>0.0</td>\n",
       "      <td>1.859</td>\n",
       "      <td>204.396</td>\n",
       "      <td>-9999.00</td>\n",
       "      <td>0.0</td>\n",
       "      <td>-9999.0</td>\n",
       "      <td>244.608</td>\n",
       "      <td>-9999.0</td>\n",
       "      <td>-9999.0000</td>\n",
       "      <td>-9999.00000</td>\n",
       "      <td>4.01600</td>\n",
       "      <td>0.163</td>\n",
       "    </tr>\n",
       "    <tr>\n",
       "      <th>2014-12-31 22:30:00</th>\n",
       "      <td>-9.567</td>\n",
       "      <td>80.9667</td>\n",
       "      <td>0.0</td>\n",
       "      <td>1.487</td>\n",
       "      <td>199.659</td>\n",
       "      <td>-9999.00</td>\n",
       "      <td>0.0</td>\n",
       "      <td>-9999.0</td>\n",
       "      <td>244.709</td>\n",
       "      <td>-9999.0</td>\n",
       "      <td>-9999.0000</td>\n",
       "      <td>-9999.00000</td>\n",
       "      <td>3.73000</td>\n",
       "      <td>0.164</td>\n",
       "    </tr>\n",
       "    <tr>\n",
       "      <th>2014-12-31 23:00:00</th>\n",
       "      <td>-9.967</td>\n",
       "      <td>81.3667</td>\n",
       "      <td>0.0</td>\n",
       "      <td>1.638</td>\n",
       "      <td>199.139</td>\n",
       "      <td>-9999.00</td>\n",
       "      <td>0.0</td>\n",
       "      <td>-9999.0</td>\n",
       "      <td>241.810</td>\n",
       "      <td>-9999.0</td>\n",
       "      <td>-9999.0000</td>\n",
       "      <td>-9999.00000</td>\n",
       "      <td>3.42600</td>\n",
       "      <td>0.165</td>\n",
       "    </tr>\n",
       "    <tr>\n",
       "      <th>2014-12-31 23:30:00</th>\n",
       "      <td>-9.867</td>\n",
       "      <td>81.4667</td>\n",
       "      <td>0.0</td>\n",
       "      <td>1.961</td>\n",
       "      <td>196.986</td>\n",
       "      <td>-9999.00</td>\n",
       "      <td>0.0</td>\n",
       "      <td>-9999.0</td>\n",
       "      <td>243.030</td>\n",
       "      <td>-9999.0</td>\n",
       "      <td>-9999.0000</td>\n",
       "      <td>-9999.00000</td>\n",
       "      <td>3.10500</td>\n",
       "      <td>0.165</td>\n",
       "    </tr>\n",
       "  </tbody>\n",
       "</table>\n",
       "<p>315552 rows × 14 columns</p>\n",
       "</div>"
      ],
      "text/plain": [
       "                       t2m       RH  precip     WS       WD   NETRAD  SW_IN   \n",
       "TIMESTAMP_START                                                               \n",
       "1997-01-01 00:00:00 -5.493  85.3667     0.0  1.050  167.031    -0.98    0.0  \\\n",
       "1997-01-01 00:30:00 -5.167  85.5667     0.0  1.390  170.768    -1.97    0.0   \n",
       "1997-01-01 01:00:00 -5.297  85.8667     0.0  1.070  171.602    -0.76    0.0   \n",
       "1997-01-01 01:30:00 -5.330  89.4667     0.0  0.570  182.835    -0.81    0.0   \n",
       "1997-01-01 02:00:00 -5.688  92.7667     0.1  0.630  194.535    -0.36    0.0   \n",
       "...                    ...      ...     ...    ...      ...      ...    ...   \n",
       "2014-12-31 21:30:00 -9.233  82.1000     0.0  1.757  194.537 -9999.00    0.0   \n",
       "2014-12-31 22:00:00 -9.633  82.0333     0.0  1.859  204.396 -9999.00    0.0   \n",
       "2014-12-31 22:30:00 -9.567  80.9667     0.0  1.487  199.659 -9999.00    0.0   \n",
       "2014-12-31 23:00:00 -9.967  81.3667     0.0  1.638  199.139 -9999.00    0.0   \n",
       "2014-12-31 23:30:00 -9.867  81.4667     0.0  1.961  196.986 -9999.00    0.0   \n",
       "\n",
       "                     SW_OUT    LW_IN  LW_OUT          H          LE       QG   \n",
       "TIMESTAMP_START                                                                \n",
       "1997-01-01 00:00:00 -9999.0  237.296 -9999.0   -22.8930     1.97293 -0.26254  \\\n",
       "1997-01-01 00:30:00 -9999.0  237.296 -9999.0   -19.8815     6.76452 -0.63874   \n",
       "1997-01-01 01:00:00 -9999.0  234.602 -9999.0    24.4622    -1.33572 -1.08020   \n",
       "1997-01-01 01:30:00 -9999.0  234.602 -9999.0     5.4754    11.60330 -1.53866   \n",
       "1997-01-01 02:00:00 -9999.0  234.602 -9999.0   -16.8997     1.31993 -1.92758   \n",
       "...                     ...      ...     ...        ...         ...      ...   \n",
       "2014-12-31 21:30:00 -9999.0  246.177 -9999.0 -9999.0000 -9999.00000  4.30100   \n",
       "2014-12-31 22:00:00 -9999.0  244.608 -9999.0 -9999.0000 -9999.00000  4.01600   \n",
       "2014-12-31 22:30:00 -9999.0  244.709 -9999.0 -9999.0000 -9999.00000  3.73000   \n",
       "2014-12-31 23:00:00 -9999.0  241.810 -9999.0 -9999.0000 -9999.00000  3.42600   \n",
       "2014-12-31 23:30:00 -9999.0  243.030 -9999.0 -9999.0000 -9999.00000  3.10500   \n",
       "\n",
       "                           TS  \n",
       "TIMESTAMP_START                \n",
       "1997-01-01 00:00:00 -9999.000  \n",
       "1997-01-01 00:30:00 -9999.000  \n",
       "1997-01-01 01:00:00 -9999.000  \n",
       "1997-01-01 01:30:00 -9999.000  \n",
       "1997-01-01 02:00:00 -9999.000  \n",
       "...                       ...  \n",
       "2014-12-31 21:30:00     0.161  \n",
       "2014-12-31 22:00:00     0.163  \n",
       "2014-12-31 22:30:00     0.164  \n",
       "2014-12-31 23:00:00     0.165  \n",
       "2014-12-31 23:30:00     0.165  \n",
       "\n",
       "[315552 rows x 14 columns]"
      ]
     },
     "execution_count": 9,
     "metadata": {},
     "output_type": "execute_result"
    }
   ],
   "source": [
    "# Load CSV file\n",
    "df = pd.read_csv(\"https://raw.githubusercontent.com/sauterto/clim_env_hydro/main/docs/nb/data/FLX_CH-Dav.csv\", parse_dates=True, index_col=0)\n",
    "\n",
    "#---------------------\n",
    "# The file contains:\n",
    "#---------------------\n",
    "# Air temperature       :: t2m\n",
    "# Relative humdity      :: RH\n",
    "# Precipitation         :: precip\n",
    "# Wind speed            :: WS\n",
    "# Wind direction        :: WD\n",
    "# Net radiation         :: NETRAD\n",
    "# Incoming shortwave    :: SW_IN\n",
    "# Outgoing shortwave    :: SW_OUT\n",
    "# Incoming longwave     :: LW_IN\n",
    "# Outgoing longwave     :: LW_OUT\n",
    "# Sensible heat flux    :: H\n",
    "# Latent heat flux      :: LE\n",
    "# Ground heat flux      :: QG\n",
    "# Surface temperature   :: TS\n",
    "\n",
    "df"
   ]
  },
  {
   "cell_type": "markdown",
   "id": "a81b5688-0c09-40f2-8def-d9f5b2b59936",
   "metadata": {},
   "source": [
    "We first plot the data"
   ]
  },
  {
   "cell_type": "code",
   "execution_count": 10,
   "id": "97d860b5-5e59-417e-a2ef-a672bc2e2126",
   "metadata": {
    "tags": []
   },
   "outputs": [
    {
     "data": {
      "text/plain": [
       "<Axes: xlabel='TIMESTAMP_START'>"
      ]
     },
     "execution_count": 10,
     "metadata": {},
     "output_type": "execute_result"
    },
    {
     "data": {
      "image/png": "[encoded data removed]",
      "text/plain": [
       "<Figure size 640x480 with 1 Axes>"
      ]
     },
     "metadata": {},
     "output_type": "display_data"
    }
   ],
   "source": [
    "df['WS'].plot()"
   ]
  },
  {
   "cell_type": "markdown",
   "id": "a22164b1-0291-46ce-906e-07ecea3e4abb",
   "metadata": {},
   "source": [
    "Often we are interested in the distribution of the wind speed which can be plotted by a histogram"
   ]
  },
  {
   "cell_type": "code",
   "execution_count": 23,
   "id": "e4350c9f-5aef-4035-9812-95de9cfbf831",
   "metadata": {
    "tags": []
   },
   "outputs": [
    {
     "data": {
      "image/png": "[encoded data removed]",
      "text/plain": [
       "<Figure size 640x480 with 1 Axes>"
      ]
     },
     "metadata": {},
     "output_type": "display_data"
    }
   ],
   "source": [
    "# Subplots\n",
    "fig, ax = plt.subplots(1, 1);\n",
    "\n",
    "# Plot the data histogram\n",
    "ax.hist(df.WS, bins=100, density=True, histtype='stepfilled', alpha=0.8);"
   ]
  },
  {
   "cell_type": "markdown",
   "id": "34ddff96-d2f0-44f7-83e6-0d4da15b355b",
   "metadata": {
    "tags": []
   },
   "source": [
    "Lets have also a look at the wind direction"
   ]
  },
  {
   "cell_type": "code",
   "execution_count": 25,
   "id": "62d13e29-d715-41b2-8d06-5c4b7c0ef245",
   "metadata": {
    "tags": []
   },
   "outputs": [
    {
     "data": {
      "application/vnd.plotly.v1+json": {
       "config": {
        "plotlyServerURL": "https://plot.ly"
       },
       "data": [
        {
         "hovertemplate": "speed=-0.01-1.61<br>frequency=%{r}<br>direction=%{theta}<extra></extra>",
         "legendgroup": "-0.01-1.61",
         "marker": {
          "color": "rgb(253, 238, 153)",
          "pattern": {
           "shape": ""
          }
         },
         "name": "-0.01-1.61",
         "r": [
          6059,
          6328,
          7488,
          8003,
          6458,
          4152,
          2544,
          1782,
          1440,
          1343,
          1378,
          1643,
          2085,
          3069,
          5261,
          10009,
          13456,
          13818,
          13207,
          8811,
          3338,
          1277,
          677,
          506,
          463,
          530,
          562,
          628,
          998,
          1668,
          3191,
          5459
         ],
         "showlegend": true,
         "subplot": "polar",
         "theta": [
          "N",
          "NNE",
          "NNE",
          "NE",
          "NE",
          "ENE",
          "ENE",
          "E",
          "E",
          "ESE",
          "ESE",
          "SE",
          "SE",
          "SSE",
          "SSE",
          "S",
          "S",
          "SSW",
          "SSW",
          "SW",
          "SW",
          "WSW",
          "WSW",
          "W",
          "W",
          "WNW",
          "WNW",
          "NW",
          "NW",
          "NNW",
          "NNW",
          "N"
         ],
         "type": "barpolar"
        },
        {
         "hovertemplate": "speed=1.61-3.22<br>frequency=%{r}<br>direction=%{theta}<extra></extra>",
         "legendgroup": "1.61-3.22",
         "marker": {
          "color": "rgb(212, 225, 112)",
          "pattern": {
           "shape": ""
          }
         },
         "name": "1.61-3.22",
         "r": [
          5972,
          8460,
          9206,
          7251,
          3108,
          693,
          144,
          107,
          151,
          182,
          222,
          324,
          396,
          872,
          2717,
          8710,
          12615,
          11453,
          13681,
          7620,
          2026,
          421,
          204,
          185,
          199,
          206,
          172,
          133,
          114,
          363,
          4181,
          7831
         ],
         "showlegend": true,
         "subplot": "polar",
         "theta": [
          "N",
          "NNE",
          "NNE",
          "NE",
          "NE",
          "ENE",
          "ENE",
          "E",
          "E",
          "ESE",
          "ESE",
          "SE",
          "SE",
          "SSE",
          "SSE",
          "S",
          "S",
          "SSW",
          "SSW",
          "SW",
          "SW",
          "WSW",
          "WSW",
          "W",
          "W",
          "WNW",
          "WNW",
          "NW",
          "NW",
          "NNW",
          "NNW",
          "N"
         ],
         "type": "barpolar"
        },
        {
         "hovertemplate": "speed=3.22-4.83<br>frequency=%{r}<br>direction=%{theta}<extra></extra>",
         "legendgroup": "3.22-4.83",
         "marker": {
          "color": "rgb(160, 214, 91)",
          "pattern": {
           "shape": ""
          }
         },
         "name": "3.22-4.83",
         "r": [
          3370,
          4149,
          6348,
          5181,
          1401,
          236,
          31,
          60,
          98,
          111,
          127,
          177,
          223,
          256,
          425,
          1164,
          2877,
          2469,
          2716,
          1764,
          506,
          170,
          177,
          155,
          159,
          153,
          141,
          107,
          40,
          17,
          2372,
          6133
         ],
         "showlegend": true,
         "subplot": "polar",
         "theta": [
          "N",
          "NNE",
          "NNE",
          "NE",
          "NE",
          "ENE",
          "ENE",
          "E",
          "E",
          "ESE",
          "ESE",
          "SE",
          "SE",
          "SSE",
          "SSE",
          "S",
          "S",
          "SSW",
          "SSW",
          "SW",
          "SW",
          "WSW",
          "WSW",
          "W",
          "W",
          "WNW",
          "WNW",
          "NW",
          "NW",
          "NNW",
          "NNW",
          "N"
         ],
         "type": "barpolar"
        },
        {
         "hovertemplate": "speed=4.83-6.44<br>frequency=%{r}<br>direction=%{theta}<extra></extra>",
         "legendgroup": "4.83-6.44",
         "marker": {
          "color": "rgb(111, 198, 107)",
          "pattern": {
           "shape": ""
          }
         },
         "name": "4.83-6.44",
         "r": [
          1115,
          297,
          1528,
          1988,
          535,
          48,
          13,
          18,
          32,
          41,
          48,
          55,
          66,
          72,
          51,
          131,
          639,
          367,
          432,
          285,
          79,
          44,
          33,
          27,
          22,
          13,
          19,
          9,
          3,
          1,
          127,
          1280
         ],
         "showlegend": true,
         "subplot": "polar",
         "theta": [
          "N",
          "NNE",
          "NNE",
          "NE",
          "NE",
          "ENE",
          "ENE",
          "E",
          "E",
          "ESE",
          "ESE",
          "SE",
          "SE",
          "SSE",
          "SSE",
          "S",
          "S",
          "SSW",
          "SSW",
          "SW",
          "SW",
          "WSW",
          "WSW",
          "W",
          "W",
          "WNW",
          "WNW",
          "NW",
          "NW",
          "NNW",
          "NNW",
          "N"
         ],
         "type": "barpolar"
        },
        {
         "hovertemplate": "speed=6.44-8.05<br>frequency=%{r}<br>direction=%{theta}<extra></extra>",
         "legendgroup": "6.44-8.05",
         "marker": {
          "color": "rgb(81, 178, 124)",
          "pattern": {
           "shape": ""
          }
         },
         "name": "6.44-8.05",
         "r": [
          271,
          8,
          213,
          370,
          80,
          2,
          1,
          2,
          6,
          5,
          8,
          17,
          19,
          16,
          15,
          23,
          80,
          24,
          38,
          13,
          4,
          3,
          1,
          3,
          0,
          0,
          0,
          0,
          0,
          0,
          4,
          179
         ],
         "showlegend": true,
         "subplot": "polar",
         "theta": [
          "N",
          "NNE",
          "NNE",
          "NE",
          "NE",
          "ENE",
          "ENE",
          "E",
          "E",
          "ESE",
          "ESE",
          "SE",
          "SE",
          "SSE",
          "SSE",
          "S",
          "S",
          "SSW",
          "SSW",
          "SW",
          "SW",
          "WSW",
          "WSW",
          "W",
          "W",
          "WNW",
          "WNW",
          "NW",
          "NW",
          "NNW",
          "NNW",
          "N"
         ],
         "type": "barpolar"
        },
        {
         "hovertemplate": "speed=8.05-9.65<br>frequency=%{r}<br>direction=%{theta}<extra></extra>",
         "legendgroup": "8.05-9.65",
         "marker": {
          "color": "rgb(65, 157, 133)",
          "pattern": {
           "shape": ""
          }
         },
         "name": "8.05-9.65",
         "r": [
          40,
          1,
          41,
          47,
          21,
          3,
          0,
          1,
          1,
          1,
          6,
          5,
          4,
          2,
          5,
          4,
          7,
          5,
          5,
          0,
          0,
          0,
          0,
          0,
          0,
          0,
          0,
          0,
          0,
          0,
          0,
          37
         ],
         "showlegend": true,
         "subplot": "polar",
         "theta": [
          "N",
          "NNE",
          "NNE",
          "NE",
          "NE",
          "ENE",
          "ENE",
          "E",
          "E",
          "ESE",
          "ESE",
          "SE",
          "SE",
          "SSE",
          "SSE",
          "S",
          "S",
          "SSW",
          "SSW",
          "SW",
          "SW",
          "WSW",
          "WSW",
          "W",
          "W",
          "WNW",
          "WNW",
          "NW",
          "NW",
          "NNW",
          "NNW",
          "N"
         ],
         "type": "barpolar"
        },
        {
         "hovertemplate": "speed=9.65-11.26<br>frequency=%{r}<br>direction=%{theta}<extra></extra>",
         "legendgroup": "9.65-11.26",
         "marker": {
          "color": "rgb(53, 136, 136)",
          "pattern": {
           "shape": ""
          }
         },
         "name": "9.65-11.26",
         "r": [
          6,
          0,
          5,
          5,
          3,
          0,
          0,
          0,
          0,
          0,
          1,
          0,
          2,
          0,
          0,
          1,
          1,
          0,
          1,
          1,
          0,
          0,
          0,
          0,
          0,
          0,
          0,
          0,
          0,
          0,
          0,
          3
         ],
         "showlegend": true,
         "subplot": "polar",
         "theta": [
          "N",
          "NNE",
          "NNE",
          "NE",
          "NE",
          "ENE",
          "ENE",
          "E",
          "E",
          "ESE",
          "ESE",
          "SE",
          "SE",
          "SSE",
          "SSE",
          "S",
          "S",
          "SSW",
          "SSW",
          "SW",
          "SW",
          "WSW",
          "WSW",
          "W",
          "W",
          "WNW",
          "WNW",
          "NW",
          "NW",
          "NNW",
          "NNW",
          "N"
         ],
         "type": "barpolar"
        },
        {
         "hovertemplate": "speed=11.26-12.87<br>frequency=%{r}<br>direction=%{theta}<extra></extra>",
         "legendgroup": "11.26-12.87",
         "marker": {
          "color": "rgb(38, 116, 137)",
          "pattern": {
           "shape": ""
          }
         },
         "name": "11.26-12.87",
         "r": [
          0,
          0,
          0,
          0,
          1,
          0,
          0,
          0,
          0,
          0,
          0,
          1,
          1,
          1,
          0,
          0,
          0,
          0,
          0,
          0,
          0,
          0,
          0,
          0,
          0,
          0,
          0,
          0,
          0,
          0,
          0,
          0
         ],
         "showlegend": true,
         "subplot": "polar",
         "theta": [
          "N",
          "NNE",
          "NNE",
          "NE",
          "NE",
          "ENE",
          "ENE",
          "E",
          "E",
          "ESE",
          "ESE",
          "SE",
          "SE",
          "SSE",
          "SSE",
          "S",
          "S",
          "SSW",
          "SSW",
          "SW",
          "SW",
          "WSW",
          "WSW",
          "W",
          "W",
          "WNW",
          "WNW",
          "NW",
          "NW",
          "NNW",
          "NNW",
          "N"
         ],
         "type": "barpolar"
        }
       ],
       "layout": {
        "barmode": "relative",
        "height": 600,
        "legend": {
         "title": {
          "text": "speed"
         },
         "tracegroupgap": 0
        },
        "polar": {
         "angularaxis": {
          "categoryarray": [
           "N",
           "NNE",
           "NE",
           "ENE",
           "E",
           "ESE",
           "SE",
           "SSE",
           "S",
           "SSW",
           "SW",
           "WSW",
           "W",
           "WNW",
           "NW",
           "NNW"
          ],
          "categoryorder": "array",
          "direction": "clockwise",
          "rotation": 90,
          "type": "category"
         },
         "domain": {
          "x": [
           0,
           1
          ],
          "y": [
           0,
           1
          ]
         },
         "radialaxis": {
          "autorange": true,
          "range": [
           0,
           61280
          ],
          "type": "linear"
         }
        },
        "template": {
         "data": {
          "pie": [
           {
            "automargin": true,
            "type": "pie"
           }
          ]
         },
         "layout": {
          "xaxis": {
           "showgrid": false,
           "title": {
            "standoff": 15
           }
          },
          "yaxis": {
           "title": {
            "standoff": 15
           }
          }
         }
        },
        "title": {
         "text": "Davos, Switzerland"
        },
        "width": 600
       }
      },
      "image/png": "[encoded data removed]",
      "text/html": [
       "<div>                            <div id=\"bbe332b3-3ccb-4e5c-bc6a-237acc11e187\" class=\"plotly-graph-div\" style=\"height:600px; width:600px;\"></div>            <script type=\"text/javascript\">                require([\"plotly\"], function(Plotly) {                    window.PLOTLYENV=window.PLOTLYENV || {};                                    if (document.getElementById(\"bbe332b3-3ccb-4e5c-bc6a-237acc11e187\")) {                    Plotly.newPlot(                        \"bbe332b3-3ccb-4e5c-bc6a-237acc11e187\",                        [{\"hovertemplate\":\"speed=-0.01-1.61<br>frequency=%{r}<br>direction=%{theta}<extra></extra>\",\"legendgroup\":\"-0.01-1.61\",\"marker\":{\"color\":\"rgb(253, 238, 153)\",\"pattern\":{\"shape\":\"\"}},\"name\":\"-0.01-1.61\",\"r\":[6059,6328,7488,8003,6458,4152,2544,1782,1440,1343,1378,1643,2085,3069,5261,10009,13456,13818,13207,8811,3338,1277,677,506,463,530,562,628,998,1668,3191,5459],\"showlegend\":true,\"subplot\":\"polar\",\"theta\":[\"N\",\"NNE\",\"NNE\",\"NE\",\"NE\",\"ENE\",\"ENE\",\"E\",\"E\",\"ESE\",\"ESE\",\"SE\",\"SE\",\"SSE\",\"SSE\",\"S\",\"S\",\"SSW\",\"SSW\",\"SW\",\"SW\",\"WSW\",\"WSW\",\"W\",\"W\",\"WNW\",\"WNW\",\"NW\",\"NW\",\"NNW\",\"NNW\",\"N\"],\"type\":\"barpolar\"},{\"hovertemplate\":\"speed=1.61-3.22<br>frequency=%{r}<br>direction=%{theta}<extra></extra>\",\"legendgroup\":\"1.61-3.22\",\"marker\":{\"color\":\"rgb(212, 225, 112)\",\"pattern\":{\"shape\":\"\"}},\"name\":\"1.61-3.22\",\"r\":[5972,8460,9206,7251,3108,693,144,107,151,182,222,324,396,872,2717,8710,12615,11453,13681,7620,2026,421,204,185,199,206,172,133,114,363,4181,7831],\"showlegend\":true,\"subplot\":\"polar\",\"theta\":[\"N\",\"NNE\",\"NNE\",\"NE\",\"NE\",\"ENE\",\"ENE\",\"E\",\"E\",\"ESE\",\"ESE\",\"SE\",\"SE\",\"SSE\",\"SSE\",\"S\",\"S\",\"SSW\",\"SSW\",\"SW\",\"SW\",\"WSW\",\"WSW\",\"W\",\"W\",\"WNW\",\"WNW\",\"NW\",\"NW\",\"NNW\",\"NNW\",\"N\"],\"type\":\"barpolar\"},{\"hovertemplate\":\"speed=3.22-4.83<br>frequency=%{r}<br>direction=%{theta}<extra></extra>\",\"legendgroup\":\"3.22-4.83\",\"marker\":{\"color\":\"rgb(160, 214, 91)\",\"pattern\":{\"shape\":\"\"}},\"name\":\"3.22-4.83\",\"r\":[3370,4149,6348,5181,1401,236,31,60,98,111,127,177,223,256,425,1164,2877,2469,2716,1764,506,170,177,155,159,153,141,107,40,17,2372,6133],\"showlegend\":true,\"subplot\":\"polar\",\"theta\":[\"N\",\"NNE\",\"NNE\",\"NE\",\"NE\",\"ENE\",\"ENE\",\"E\",\"E\",\"ESE\",\"ESE\",\"SE\",\"SE\",\"SSE\",\"SSE\",\"S\",\"S\",\"SSW\",\"SSW\",\"SW\",\"SW\",\"WSW\",\"WSW\",\"W\",\"W\",\"WNW\",\"WNW\",\"NW\",\"NW\",\"NNW\",\"NNW\",\"N\"],\"type\":\"barpolar\"},{\"hovertemplate\":\"speed=4.83-6.44<br>frequency=%{r}<br>direction=%{theta}<extra></extra>\",\"legendgroup\":\"4.83-6.44\",\"marker\":{\"color\":\"rgb(111, 198, 107)\",\"pattern\":{\"shape\":\"\"}},\"name\":\"4.83-6.44\",\"r\":[1115,297,1528,1988,535,48,13,18,32,41,48,55,66,72,51,131,639,367,432,285,79,44,33,27,22,13,19,9,3,1,127,1280],\"showlegend\":true,\"subplot\":\"polar\",\"theta\":[\"N\",\"NNE\",\"NNE\",\"NE\",\"NE\",\"ENE\",\"ENE\",\"E\",\"E\",\"ESE\",\"ESE\",\"SE\",\"SE\",\"SSE\",\"SSE\",\"S\",\"S\",\"SSW\",\"SSW\",\"SW\",\"SW\",\"WSW\",\"WSW\",\"W\",\"W\",\"WNW\",\"WNW\",\"NW\",\"NW\",\"NNW\",\"NNW\",\"N\"],\"type\":\"barpolar\"},{\"hovertemplate\":\"speed=6.44-8.05<br>frequency=%{r}<br>direction=%{theta}<extra></extra>\",\"legendgroup\":\"6.44-8.05\",\"marker\":{\"color\":\"rgb(81, 178, 124)\",\"pattern\":{\"shape\":\"\"}},\"name\":\"6.44-8.05\",\"r\":[271,8,213,370,80,2,1,2,6,5,8,17,19,16,15,23,80,24,38,13,4,3,1,3,0,0,0,0,0,0,4,179],\"showlegend\":true,\"subplot\":\"polar\",\"theta\":[\"N\",\"NNE\",\"NNE\",\"NE\",\"NE\",\"ENE\",\"ENE\",\"E\",\"E\",\"ESE\",\"ESE\",\"SE\",\"SE\",\"SSE\",\"SSE\",\"S\",\"S\",\"SSW\",\"SSW\",\"SW\",\"SW\",\"WSW\",\"WSW\",\"W\",\"W\",\"WNW\",\"WNW\",\"NW\",\"NW\",\"NNW\",\"NNW\",\"N\"],\"type\":\"barpolar\"},{\"hovertemplate\":\"speed=8.05-9.65<br>frequency=%{r}<br>direction=%{theta}<extra></extra>\",\"legendgroup\":\"8.05-9.65\",\"marker\":{\"color\":\"rgb(65, 157, 133)\",\"pattern\":{\"shape\":\"\"}},\"name\":\"8.05-9.65\",\"r\":[40,1,41,47,21,3,0,1,1,1,6,5,4,2,5,4,7,5,5,0,0,0,0,0,0,0,0,0,0,0,0,37],\"showlegend\":true,\"subplot\":\"polar\",\"theta\":[\"N\",\"NNE\",\"NNE\",\"NE\",\"NE\",\"ENE\",\"ENE\",\"E\",\"E\",\"ESE\",\"ESE\",\"SE\",\"SE\",\"SSE\",\"SSE\",\"S\",\"S\",\"SSW\",\"SSW\",\"SW\",\"SW\",\"WSW\",\"WSW\",\"W\",\"W\",\"WNW\",\"WNW\",\"NW\",\"NW\",\"NNW\",\"NNW\",\"N\"],\"type\":\"barpolar\"},{\"hovertemplate\":\"speed=9.65-11.26<br>frequency=%{r}<br>direction=%{theta}<extra></extra>\",\"legendgroup\":\"9.65-11.26\",\"marker\":{\"color\":\"rgb(53, 136, 136)\",\"pattern\":{\"shape\":\"\"}},\"name\":\"9.65-11.26\",\"r\":[6,0,5,5,3,0,0,0,0,0,1,0,2,0,0,1,1,0,1,1,0,0,0,0,0,0,0,0,0,0,0,3],\"showlegend\":true,\"subplot\":\"polar\",\"theta\":[\"N\",\"NNE\",\"NNE\",\"NE\",\"NE\",\"ENE\",\"ENE\",\"E\",\"E\",\"ESE\",\"ESE\",\"SE\",\"SE\",\"SSE\",\"SSE\",\"S\",\"S\",\"SSW\",\"SSW\",\"SW\",\"SW\",\"WSW\",\"WSW\",\"W\",\"W\",\"WNW\",\"WNW\",\"NW\",\"NW\",\"NNW\",\"NNW\",\"N\"],\"type\":\"barpolar\"},{\"hovertemplate\":\"speed=11.26-12.87<br>frequency=%{r}<br>direction=%{theta}<extra></extra>\",\"legendgroup\":\"11.26-12.87\",\"marker\":{\"color\":\"rgb(38, 116, 137)\",\"pattern\":{\"shape\":\"\"}},\"name\":\"11.26-12.87\",\"r\":[0,0,0,0,1,0,0,0,0,0,0,1,1,1,0,0,0,0,0,0,0,0,0,0,0,0,0,0,0,0,0,0],\"showlegend\":true,\"subplot\":\"polar\",\"theta\":[\"N\",\"NNE\",\"NNE\",\"NE\",\"NE\",\"ENE\",\"ENE\",\"E\",\"E\",\"ESE\",\"ESE\",\"SE\",\"SE\",\"SSE\",\"SSE\",\"S\",\"S\",\"SSW\",\"SSW\",\"SW\",\"SW\",\"WSW\",\"WSW\",\"W\",\"W\",\"WNW\",\"WNW\",\"NW\",\"NW\",\"NNW\",\"NNW\",\"N\"],\"type\":\"barpolar\"}],                        {\"template\":{\"data\":{\"pie\":[{\"automargin\":true,\"type\":\"pie\"}]},\"layout\":{\"xaxis\":{\"showgrid\":false,\"title\":{\"standoff\":15}},\"yaxis\":{\"title\":{\"standoff\":15}}}},\"polar\":{\"domain\":{\"x\":[0.0,1.0],\"y\":[0.0,1.0]},\"angularaxis\":{\"direction\":\"clockwise\",\"rotation\":90,\"categoryorder\":\"array\",\"categoryarray\":[\"N\",\"NNE\",\"NE\",\"ENE\",\"E\",\"ESE\",\"SE\",\"SSE\",\"S\",\"SSW\",\"SW\",\"WSW\",\"W\",\"WNW\",\"NW\",\"NNW\"]}},\"legend\":{\"title\":{\"text\":\"speed\"},\"tracegroupgap\":0},\"title\":{\"text\":\"Davos, Switzerland\"},\"barmode\":\"relative\",\"height\":600,\"width\":600},                        {\"responsive\": true}                    ).then(function(){\n",
       "                            \n",
       "var gd = document.getElementById('bbe332b3-3ccb-4e5c-bc6a-237acc11e187');\n",
       "var x = new MutationObserver(function (mutations, observer) {{\n",
       "        var display = window.getComputedStyle(gd).display;\n",
       "        if (!display || display === 'none') {{\n",
       "            console.log([gd, 'removed!']);\n",
       "            Plotly.purge(gd);\n",
       "            observer.disconnect();\n",
       "        }}\n",
       "}});\n",
       "\n",
       "// Listen for the removal of the full notebook cells\n",
       "var notebookContainer = gd.closest('#notebook-container');\n",
       "if (notebookContainer) {{\n",
       "    x.observe(notebookContainer, {childList: true});\n",
       "}}\n",
       "\n",
       "// Listen for the clearing of the current output cell\n",
       "var outputEl = gd.closest('.output');\n",
       "if (outputEl) {{\n",
       "    x.observe(outputEl, {childList: true});\n",
       "}}\n",
       "\n",
       "                        })                };                });            </script>        </div>"
      ]
     },
     "metadata": {},
     "output_type": "display_data"
    }
   ],
   "source": [
    "# Create a WindRose object with the resampled hourly data\n",
    "WR = WindRose(df)\n",
    "\n",
    "# create renaming dictionary - the WindRose object requires the variable names ws and wd. We have\n",
    "# to tell the Object the name of our Variables: WS, WD\n",
    "names = {'WS':'ws', 'WD':'wd'}\n",
    "\n",
    "# calculate wind statistics for 8 sectors\n",
    "WR.calc_stats(normed=False, bins=8, variable_names=names)\n",
    "\n",
    "# Generate windrose plot\n",
    "WR.plot(\n",
    "    template='xgridoff',\n",
    "    colors='haline',\n",
    "    title='Davos, Switzerland',\n",
    "    output_type='show',\n",
    "    width=600,\n",
    "    height=600\n",
    ")"
   ]
  },
  {
   "cell_type": "markdown",
   "id": "93720f63-dc81-486d-b2f3-9a553cacd0c8",
   "metadata": {},
   "source": [
    "The probability distribution of mean wind speeds $U$ is described by the Weibull distribution:\n",
    "\n",
    "$$\n",
    "Pr = \\frac{\\alpha \\cdot \\Delta U \\cdot U^{\\alpha-1}}{M_0^{\\alpha}} \\cdot exp \\left[ - \\left( \\frac{M}{M_0} \\right)^{\\alpha}\\right],\n",
    "$$\n",
    "\n",
    "where Pr is the probability of wind speed $U \\pm 0.5 \\cdot \\Delta U$. We can estimate the location parameter $M_0$ and the spread $\\alpha$ with"
   ]
  },
  {
   "cell_type": "code",
   "execution_count": 17,
   "id": "b28bf810-3b59-46ac-96c2-aac689180dac",
   "metadata": {
    "tags": []
   },
   "outputs": [],
   "source": [
    "# Fit the Weibull distribution to the wind speed data\n",
    "shape, loc, scale = stats.weibull_min.fit(df.WS, loc=0, method=\"MLE\")"
   ]
  },
  {
   "cell_type": "markdown",
   "id": "78456812-cd33-4d76-81d7-7d2945d016a2",
   "metadata": {},
   "source": [
    "We can use the estimated parameters to get the probabilities for different wind speeds with "
   ]
  },
  {
   "cell_type": "code",
   "execution_count": 26,
   "id": "bc62d3c8-0329-4cf4-92b1-f46e54636dc3",
   "metadata": {
    "tags": []
   },
   "outputs": [],
   "source": [
    "# Get the Weibull distribution using the fitted parameters\n",
    "rv = stats.weibull_min(c=shape, loc=loc, scale=scale)\n",
    "\n",
    "# Value range for plotting the distribution\n",
    "x = np.linspace(rv.ppf(0.01),\n",
    "                rv.ppf(0.99999), 100)"
   ]
  },
  {
   "cell_type": "markdown",
   "id": "a6ec7753-e0e1-4d58-8876-7a13d9fafd77",
   "metadata": {
    "tags": []
   },
   "source": [
    "and plot the observations and the estimated Weibull distribution (red line)"
   ]
  },
  {
   "cell_type": "code",
   "execution_count": 29,
   "id": "ff8ff6ac-6544-4529-9fb3-facce8c0795e",
   "metadata": {
    "tags": []
   },
   "outputs": [
    {
     "name": "stdout",
     "output_type": "stream",
     "text": [
      "Maximum wind speed: 12.870000\n",
      "Return period: 43.67 years\n"
     ]
    },
    {
     "data": {
      "image/png": "[encoded data removed]",
      "text/plain": [
       "<Figure size 640x480 with 1 Axes>"
      ]
     },
     "metadata": {},
     "output_type": "display_data"
    }
   ],
   "source": [
    "# Subplots\n",
    "fig, ax = plt.subplots(1, 1)\n",
    "\n",
    "# Plot the data histogram\n",
    "ax.hist(df.WS, bins=100, density=True, histtype='stepfilled', alpha=0.2)\n",
    "\n",
    "# and the Weibull distribution\n",
    "ax.plot(x, rv.pdf(x), 'r-', lw=2, alpha=0.6, label='Weibull pdf')"
   ]
  },
  {
   "cell_type": "markdown",
   "id": "5b4a230d-9f40-4b4d-8988-9ff928bb3280",
   "metadata": {},
   "source": [
    "One can express extreme-wind likelihood as a return period, which is equal to the total period of measurement divided by the number of times the wind exceeded a threshold. For example, we can estimat the number of observations lower than 12.5 m/s from the cumulative distribution"
   ]
  },
  {
   "cell_type": "code",
   "execution_count": 31,
   "id": "243d70d8-c271-4260-a4c5-a454972afb28",
   "metadata": {
    "tags": []
   },
   "outputs": [
    {
     "data": {
      "text/plain": [
       "0.9999986937811975"
      ]
     },
     "execution_count": 31,
     "metadata": {},
     "output_type": "execute_result"
    }
   ],
   "source": [
    " # Estimate from the cumulative distribution the number of observation lower than 12.5 m/s\n",
    "cdfx = rv.cdf(12.5)\n",
    "cdfx"
   ]
  },
  {
   "cell_type": "markdown",
   "id": "bfe29bdd-4887-48dd-92bf-18005d1f2d80",
   "metadata": {},
   "source": [
    "In our case, the data set includes 18 years. So we divide the number of years by the number of cases which are above this threshold, i.e. total number of elements minus the total observations multiplied by the percentage of all cases below the threshold. "
   ]
  },
  {
   "cell_type": "code",
   "execution_count": 32,
   "id": "861d076d-a872-4817-9b80-433795b0121b",
   "metadata": {
    "tags": []
   },
   "outputs": [
    {
     "name": "stdout",
     "output_type": "stream",
     "text": [
      "Return period: 43.67 years\n"
     ]
    }
   ],
   "source": [
    "# Print max wind speed, and the return period\n",
    "# Number of years in dataset\n",
    "number_of_years = 18\n",
    "print('Return period: {:.2f} years'.format(number_of_years/(len(df.WS)-len(df.WS)*cdfx)))"
   ]
  },
  {
   "cell_type": "markdown",
   "id": "12053f60-f684-447d-a290-71913ba07140",
   "metadata": {},
   "source": [
    "This means that statistically a half-hour average wind speed of 12.5 m/s occurs only every 43.67 years."
   ]
  },
  {
   "cell_type": "markdown",
   "id": "b9b8c15d-6fd3-4a45-8506-55fbd4f374e8",
   "metadata": {},
   "source": [
    "<div class=\"alert alert-block alert-warning\">\n",
    "<b>Broaden Knowledge & Comprehension</b></br>\n",
    "<ul>\n",
    "<li>What is the mean wind speed? Check that the mean wind speed is proportional to the location parameter $M_0$\n",
    "<li>Assume that the distribution is obtained from a timeseries of length 100 year. How does the return period change? Why?\n",
    "</ul>\n",
    "</div>"
   ]
  }
 ],
 "metadata": {
  "kernelspec": {
   "display_name": "meteo",
   "language": "python",
   "name": "meteo"
  },
  "language_info": {
   "codemirror_mode": {
    "name": "ipython",
    "version": 3
   },
   "file_extension": ".py",
   "mimetype": "text/x-python",
   "name": "python",
   "nbconvert_exporter": "python",
   "pygments_lexer": "ipython3",
   "version": "3.11.3"
  }
 },
 "nbformat": 4,
 "nbformat_minor": 5
}
