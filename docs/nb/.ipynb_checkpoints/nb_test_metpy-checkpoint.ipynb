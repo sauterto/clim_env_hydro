{
 "cells": [
  {
   "cell_type": "markdown",
   "metadata": {
    "slideshow": {
     "slide_type": "slide"
    }
   },
   "source": [
    "(nb_testing_metpy)=\n",
    "# Getting started with MetPy\n",
    "\n",
    "Before we get started, we test the learning environment and the most important packages needed to run the notebooks. This is not so much a continuous coherent exercise as individual examples based on the different packages.This exercise is neither an introduction to Python nor extensive tutorials for the individual packages. I advise you, if you have little or no experience with the packages, to work through the relevant tutorial on the websites. All packages offer very good and extensive tutorials. Most of the functions presented here have been taken from these websites."
   ]
  },
  {
   "cell_type": "markdown",
   "metadata": {},
   "source": [
    "<div class=\"alert alert-block alert-success\">\n",
    "<b>Learning objectives:</b><br>\n",
    "<ul>\n",
    " <li>Getting to know the learning environment</li>\n",
    " <li>Testing the MetPy package</li>\n",
    " <li>Very brief overview of the function of the packages</li>\n",
    "</ul>  \n",
    "</div>"
   ]
  },
  {
   "cell_type": "markdown",
   "metadata": {
    "tags": []
   },
   "source": [
    "<div class=\"alert alert-block alert-info\">\n",
    "<b>How to proceed:</b><br>\n",
    "<ul>\n",
    " <li>Testing MetPy</li>\n",
    "</ul>  \n",
    "</div>"
   ]
  },
  {
   "cell_type": "markdown",
   "metadata": {},
   "source": [
    "MetPy is a collection of tools in Python for reading, visualizing, and performing calculations with weather data. One of the most significant differences in syntax for MetPy, compared to other Python libraries, is the frequent requirement of units to be attached to arrays before being passed to MetPy functions. There are very few exceptions to this, and you’ll usually be safer to always use units whenever applicable to make sure that your analyses are done correctly. Once you get used to the units syntax, it becomes very handy, as you never have to worry about unit conversion for any calculation. MetPy does it for you!\n",
    "\n",
    "Let's load the MetPy and numpy library\n"
   ]
  },
  {
   "cell_type": "code",
   "execution_count": null,
   "metadata": {
    "tags": []
   },
   "outputs": [],
   "source": [
    "# Load the pandas package\n",
    "import numpy as np\n",
    "from metpy.units import units"
   ]
  },
  {
   "cell_type": "markdown",
   "metadata": {},
   "source": [
    "Please note, we have loaded only the units module here. We can assign a unit to an array by"
   ]
  },
  {
   "cell_type": "code",
   "execution_count": null,
   "metadata": {},
   "outputs": [],
   "source": [
    "# Attach the unit meters to the distance array\n",
    "distance = np.arange(1, 5) * units.meters"
   ]
  },
  {
   "cell_type": "markdown",
   "metadata": {},
   "source": [
    "Similarly, we can attach create a time array"
   ]
  },
  {
   "cell_type": "code",
   "execution_count": null,
   "metadata": {},
   "outputs": [],
   "source": [
    "# This is another way to attach units to an array \n",
    "time = units.Quantity(np.arange(2, 10, 2), 'sec')"
   ]
  },
  {
   "cell_type": "markdown",
   "metadata": {},
   "source": [
    "Now, we can simply do unit-aware calculations"
   ]
  },
  {
   "cell_type": "code",
   "execution_count": null,
   "metadata": {},
   "outputs": [],
   "source": [
    "# Calculate the velocity\n",
    "distance/time"
   ]
  },
  {
   "cell_type": "markdown",
   "metadata": {},
   "source": [
    "## MetPy with xarray\n",
    "\n",
    "MetPy works great with xarray. MetPy’s suite of meteorological calculations are designed to integrate with xarray DataArrays and provides DataArray and Dataset accessors (collections of methods and properties attached to the .metpy property) for coordinate/CRS and unit operations.\n",
    "\n",
    "First, some imports ..."
   ]
  },
  {
   "cell_type": "code",
   "execution_count": null,
   "metadata": {},
   "outputs": [],
   "source": [
    "# Import xarray\n",
    "import xarray as xr\n",
    "\n",
    "# Any import of metpy activates the accessors\n",
    "import metpy\n",
    "from metpy.cbook import get_test_data"
   ]
  },
  {
   "cell_type": "markdown",
   "metadata": {},
   "source": [
    "We can open a netCDF-file using xarray"
   ]
  },
  {
   "cell_type": "code",
   "execution_count": null,
   "metadata": {},
   "outputs": [],
   "source": [
    "# Open the netCDF file as a xarray Dataset\n",
    "ds = xr.open_dataset(get_test_data('irma_gfs_example.nc', as_file_obj = False))\n",
    "\n",
    "# View a summary of the Dataset\n",
    "ds"
   ]
  },
  {
   "cell_type": "markdown",
   "metadata": {},
   "source": [
    "This Dataset consists of dimensions and their associated coordinates, which in turn make up the axes along which the data variables are defined. The dataset also has a dictionary-like collection of attributes. What happens if we look at just a single data variable?"
   ]
  },
  {
   "cell_type": "code",
   "execution_count": null,
   "metadata": {
    "tags": []
   },
   "outputs": [],
   "source": [
    "temperature = ds['Temperature_isobaric']\n",
    "temperature"
   ]
  },
  {
   "cell_type": "markdown",
   "metadata": {
    "tags": []
   },
   "source": [
    "This is a DataArray, which stores just a single data variable with its associated coordinates and attributes. These individual DataArrays are the kinds of objects that MetPy’s calculations take as input (more on that in Calculations section below)."
   ]
  },
  {
   "cell_type": "markdown",
   "metadata": {
    "tags": []
   },
   "source": [
    "## Coordinates and Corrdinate Reference Systems"
   ]
  },
  {
   "cell_type": "markdown",
   "metadata": {},
   "source": [
    "MetPy’s first set of helpers comes with identifying coordinate types. In a given dataset, coordinates can have a variety of different names (time, isobaric1 ...). Following CF conventions, as well as using some fall-back regular expressions, MetPy can systematically identify coordinates of the following types:\n",
    "\n",
    "<ul>\n",
    "    <li>time\n",
    "    <li>vertical\n",
    "    <li>latitude\n",
    "    <li>y\n",
    "    <li>longitude\n",
    "    <li>x\n",
    "</ul>\n",
    "\n",
    "When identifying a single coordinate, it is best to use the property directly associated with that type\n"
   ]
  },
  {
   "cell_type": "code",
   "execution_count": null,
   "metadata": {
    "tags": []
   },
   "outputs": [],
   "source": [
    "temperature.metpy.time"
   ]
  },
  {
   "cell_type": "code",
   "execution_count": null,
   "metadata": {
    "tags": []
   },
   "outputs": [],
   "source": [
    "x, y = temperature.metpy.coordinates('x', 'y')\n",
    "x"
   ]
  },
  {
   "cell_type": "markdown",
   "metadata": {},
   "source": [
    "These coordinate type aliases can also be used in MetPy’s wrapped .sel and .loc for indexing and selecting on DataArrays. For example, to access 500 hPa heights at 1800Z,"
   ]
  },
  {
   "cell_type": "code",
   "execution_count": null,
   "metadata": {
    "tags": []
   },
   "outputs": [],
   "source": [
    "heights = ds['Geopotential_height_isobaric'].metpy.sel(\n",
    "    time='2017-09-05 18:00',\n",
    "    vertical=50000.\n",
    ")\n",
    "heights"
   ]
  },
  {
   "cell_type": "markdown",
   "metadata": {},
   "source": [
    "Beyond just the coordinates themselves, a common need for both calculations with and plots of geospatial data is knowing the coordinate reference system (CRS) on which the horizontal spatial coordinates are defined. MetPy follows the CF Conventions for its CRS definitions, which it then caches on the metpy_crs coordinate in order for it to persist through calculations and other array operations. There are two ways to do so in MetPy:\n",
    "\n",
    "First, if your dataset is already conforming to the CF Conventions, it will have a grid mapping variable that is associated with the other data variables by the grid_mapping attribute. This is automatically parsed via the .parse_cf() method:"
   ]
  },
  {
   "cell_type": "code",
   "execution_count": null,
   "metadata": {
    "tags": []
   },
   "outputs": [],
   "source": [
    "# Parse full dataset\n",
    "data_parsed = ds.metpy.parse_cf()\n",
    "\n",
    "# Parse subset of dataset\n",
    "data_subset = ds.metpy.parse_cf([\n",
    "    'u-component_of_wind_isobaric',\n",
    "    'v-component_of_wind_isobaric',\n",
    "    'Vertical_velocity_pressure_isobaric'\n",
    "])\n",
    "\n",
    "# Parse single variable\n",
    "relative_humidity = ds.metpy.parse_cf('Relative_humidity_isobaric')"
   ]
  },
  {
   "cell_type": "markdown",
   "metadata": {},
   "source": [
    "Notice the newly added metpy_crs non-dimension coordinate. Now how can we use this in practice? For individual DataArrays, we can access the cartopy and pyproj objects corresponding to this CRS:"
   ]
  },
  {
   "cell_type": "code",
   "execution_count": null,
   "metadata": {
    "tags": []
   },
   "outputs": [],
   "source": [
    "# Cartopy CRS, useful for plotting\n",
    "relative_humidity.metpy.cartopy_crs"
   ]
  },
  {
   "cell_type": "code",
   "execution_count": null,
   "metadata": {
    "tags": []
   },
   "outputs": [],
   "source": [
    "# pyproj CRS, useful for projection transformations and forward/backward azimuth and great\n",
    "# circle calculations\n",
    "relative_humidity.metpy.pyproj_crs"
   ]
  },
  {
   "cell_type": "markdown",
   "metadata": {
    "tags": []
   },
   "source": [
    "## Units\n",
    "\n",
    "Since unit-aware calculations are a major part of the MetPy library, unit support is a major part of MetPy’s xarray integration!\n",
    "\n",
    "One very important point of consideration is that xarray data variables (in both Datasets and DataArrays) can store both unit-aware and unit-naive array types. Unit-naive array types will be used by default in xarray, so we need to convert to a unit-aware type if we want to use xarray operations while preserving unit correctness. MetPy provides the .quantify() method for this (named since we are turning the data stored inside the xarray object into a Pint Quantity object)"
   ]
  },
  {
   "cell_type": "code",
   "execution_count": null,
   "metadata": {
    "tags": []
   },
   "outputs": [],
   "source": [
    "temperature = data_parsed['Temperature_isobaric'].metpy.quantify()\n",
    "T"
   ]
  },
  {
   "cell_type": "markdown",
   "metadata": {},
   "source": [
    "Notice how the units are now represented in the data itself, rather than as a text attribute. Now, even if we perform some kind of xarray operation (such as taking the zonal mean), the units are preserved."
   ]
  },
  {
   "cell_type": "code",
   "execution_count": null,
   "metadata": {
    "tags": []
   },
   "outputs": [],
   "source": [
    "# Take the mean over time at the 1000 hPa level\n",
    "temperature.sel(isobaric3=1000).mean('time1')\n"
   ]
  },
  {
   "cell_type": "markdown",
   "metadata": {},
   "source": [
    "# Plotting \n",
    "\n"
   ]
  },
  {
   "cell_type": "code",
   "execution_count": null,
   "metadata": {},
   "outputs": [],
   "source": [
    "# Load data\n",
    "ds = xr.open_dataset(get_test_data('narr_example.nc', as_file_obj = False))\n",
    "\n",
    "# Parse full dataset\n",
    "ds = ds.metpy.parse_cf()\n",
    "\n",
    "# Grab lat/lon values from file as unit arrays\n",
    "lats = ds.lat.metpy.unit_array\n",
    "lons = ds.lon.metpy.unit_array\n",
    "\n",
    "# Get the valid time\n",
    "vtime = ds.Temperature.metpy.time[0]\n",
    "\n",
    "# Get the 700-hPa heights without manually identifying the vertical coordinate\n",
    "hght_700 = ds.Geopotential_height.metpy.sel(vertical=700 * units.hPa,\n",
    "                                                 time=vtime)"
   ]
  },
  {
   "cell_type": "code",
   "execution_count": null,
   "metadata": {},
   "outputs": [],
   "source": [
    "# Cartopy CRS, useful for plotting\n",
    "hght_700.metpy.cartopy_crs"
   ]
  },
  {
   "cell_type": "code",
   "execution_count": null,
   "metadata": {},
   "outputs": [],
   "source": [
    "# Import cartopy for plotting\n",
    "import cartopy.crs as ccrs\n",
    "import cartopy.feature as cfeature\n",
    "import matplotlib.pyplot as plt\n",
    "\n",
    "# Open figure\n",
    "fig = plt.figure(figsize=(12, 12))\n",
    "\n",
    "# Add a plot with coordinate axes (crs)\n",
    "ax = fig.add_subplot(1, 1, 1, projection=hght_700.metpy.cartopy_crs)\n",
    "\n",
    "# Get coordinates\n",
    "x = ds.x\n",
    "y = ds.y\n",
    "\n",
    "# Plot data\n",
    "ax.imshow(hght_700, extent=(x.min(), x.max(), y.min(), y.max()),\n",
    "          cmap='RdBu', origin='lower' if y[0] < y[-1] else 'upper')\n",
    "\n",
    "# Add coastlines\n",
    "ax.coastlines(color='tab:blue', resolution='10m')\n",
    "\n",
    "# Show the plot\n",
    "plt.show()"
   ]
  },
  {
   "cell_type": "markdown",
   "metadata": {},
   "source": [
    "## Calculations"
   ]
  },
  {
   "cell_type": "code",
   "execution_count": null,
   "metadata": {},
   "outputs": [],
   "source": [
    "import numpy as np\n",
    "from metpy.units import units\n",
    "import metpy.calc as mpcalc"
   ]
  },
  {
   "cell_type": "code",
   "execution_count": null,
   "metadata": {},
   "outputs": [],
   "source": [
    "temperature = [20] * units.degC\n",
    "rel_humidity  = [50] * units.percent\n",
    "print(mpcalc.dewpoint_from_relative_humidity(temperature, rel_humidity))"
   ]
  },
  {
   "cell_type": "code",
   "execution_count": null,
   "metadata": {},
   "outputs": [],
   "source": [
    "speed = np.array([5, 10, 15, 20]) * units.knots\n",
    "direction = np.array([0, 90, 180, 270]) * units.degrees\n",
    "u, v = mpcalc.wind_components(speed, direction)\n",
    "print(u, v)\n"
   ]
  },
  {
   "cell_type": "markdown",
   "metadata": {},
   "source": [
    "<div class=\"alert alert-block alert-info\">\n",
    "<b>Reminder</b> \n",
    "<ul>\n",
    "    <li>Import the package, aka <b>import pandas as pd</b>\n",
    "    <li>A table of data is stored as a pandas DataFrame\n",
    "    <li>Each column in a DataFrame is a Series\n",
    "    <li>You can do things by applying a method to a DataFrame or Series\n",
    "</ul> \n",
    "</div>"
   ]
  },
  {
   "cell_type": "markdown",
   "metadata": {},
   "source": [
    "<div class=\"alert alert-block alert-warning\">\n",
    "<b>Homework:</b> Check out the pandas <a href=\"https://pandas.pydata.org/docs/getting_started/intro_tutorials/index.html\">tutorial</a> and get familiar with the syntax.\n",
    "</div>"
   ]
  }
 ],
 "metadata": {
  "kernelspec": {
   "display_name": "meteo",
   "language": "python",
   "name": "meteo"
  },
  "language_info": {
   "codemirror_mode": {
    "name": "ipython",
    "version": 3
   },
   "file_extension": ".py",
   "mimetype": "text/x-python",
   "name": "python",
   "nbconvert_exporter": "python",
   "pygments_lexer": "ipython3",
   "version": "3.11.3"
  }
 },
 "nbformat": 4,
 "nbformat_minor": 4
}
