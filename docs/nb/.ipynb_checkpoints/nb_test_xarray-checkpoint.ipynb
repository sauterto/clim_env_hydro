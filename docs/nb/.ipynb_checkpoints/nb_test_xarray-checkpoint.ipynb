{
 "cells": [
  {
   "cell_type": "markdown",
   "metadata": {
    "slideshow": {
     "slide_type": "slide"
    }
   },
   "source": [
    "(nb_testing_xarray)=\n",
    "# Using xarray\n",
    "\n",
    "Before we get started, we test the learning environment and the most important packages needed to run the notebooks. This is not so much a continuous coherent exercise as individual examples based on the different packages.This exercise is neither an introduction to Python nor extensive tutorials for the individual packages. I advise you, if you have little or no experience with the packages, to work through the relevant tutorial on the websites. All packages offer very good and extensive tutorials. Most of the functions presented here have been taken from these websites."
   ]
  },
  {
   "cell_type": "markdown",
   "metadata": {},
   "source": [
    "<div class=\"alert alert-block alert-success\">\n",
    "<b>Learning objectives:</b><br>\n",
    "<ul>\n",
    " <li>Getting to know the learning environment</li>\n",
    " <li>Testing the xarray packages</li>\n",
    " <li>Very brief overview of the function of the package</li>\n",
    "</ul>  \n",
    "</div>"
   ]
  },
  {
   "cell_type": "markdown",
   "metadata": {
    "tags": []
   },
   "source": [
    "<div class=\"alert alert-block alert-info\">\n",
    "<b>How to proceed:</b><br>\n",
    "<ul>\n",
    " <li>Testing xarray</li>\n",
    "</ul>  \n",
    "</div>"
   ]
  },
  {
   "cell_type": "markdown",
   "metadata": {},
   "source": [
    "# Getting started\n",
    "\n",
    "\n",
    "Multi-dimensional (a.k.a. N-dimensional, ND) arrays (sometimes called “tensors”) are an essential part of computational science. They are encountered in a wide range of fields, including physics, astronomy, geoscience, bioinformatics, engineering, finance, and deep learning. In Python, NumPy provides the fundamental data structure and API for working with raw ND arrays. However, real-world datasets are usually more than just raw numbers; they have labels which encode information about how the array values map to locations in space, time, etc.\n",
    "\n",
    "Xarray provides a powerful and concise interface for multi-dimensional arrays (see [webpage](https://docs.xarray.dev/en/stable/index.html)). Here are some quick example of what you can do with xarray\n"
   ]
  },
  {
   "cell_type": "markdown",
   "metadata": {},
   "source": [
    "To begin, import numpy, pandas and xarray using their customary abbreviations:"
   ]
  },
  {
   "cell_type": "code",
   "execution_count": null,
   "metadata": {},
   "outputs": [],
   "source": [
    "# Import packages\n",
    "import numpy as np\n",
    "import pandas as pd\n",
    "import xarray as xr\n",
    "import matplotlib.pyplot as plt"
   ]
  },
  {
   "cell_type": "markdown",
   "metadata": {},
   "source": [
    "Xarray has two core data structures, which build upon and extend the core strengths of NumPy and pandas. Both data structures are fundamentally N-dimensional:\n",
    "\n",
    "<ul>\n",
    "<li>DataArray is our implementation of a labeled, N-dimensional array. It is an N-D generalization of a pandas.Series. \n",
    "<li>Dataset is a multi-dimensional, in-memory array database. It is a dict-like container of DataArray objects aligned along any number of shared dimensions, and serves a similar purpose in xarray to the pandas.DataFrame.\n",
    "</ul>\n",
    "\n",
    "In climate science we often use the NetCDF file format. You can directly read and write xarray objects to disk using to_netcdf(), open_dataset() and open_dataarray(). Suppose you have a netCDF of monthly mean data and we want to calculate the seasonal average. To do this properly, we need to calculate the weighted average considering that each month has a different number of days.\n",
    "\n",
    "Here you can download the file [air_temperature_monthly_europe.nc](https://github.com/sauterto/clim_env_hydro/blob/main/docs/nb/data/air_temperature_monthly_europe.nc), which is needed for this exercise. Create a subdirectory with the name data and place the file there. \n",
    "\n",
    "\n",
    "First, open the dataset"
   ]
  },
  {
   "cell_type": "code",
   "execution_count": null,
   "metadata": {},
   "outputs": [],
   "source": [
    "# Load a netcdf dataset with xarray\n",
    "ds = xr.open_dataset(\"./data/surface_temperature_monthly_europe.nc\")"
   ]
  },
  {
   "cell_type": "markdown",
   "metadata": {},
   "source": [
    "and let's have a look to the dataset structure"
   ]
  },
  {
   "cell_type": "code",
   "execution_count": null,
   "metadata": {},
   "outputs": [],
   "source": [
    "ds"
   ]
  },
  {
   "cell_type": "markdown",
   "metadata": {},
   "source": [
    "The dataset contains one data variable **t2m** which has three coordinates: time, lat, and lon. We can access the coordinates very easily with"
   ]
  },
  {
   "cell_type": "code",
   "execution_count": null,
   "metadata": {},
   "outputs": [],
   "source": [
    "# Access the time coordinates\n",
    "ds.time"
   ]
  },
  {
   "cell_type": "markdown",
   "metadata": {},
   "source": [
    "We can quickly visualise the variable for a single month with"
   ]
  },
  {
   "cell_type": "code",
   "execution_count": null,
   "metadata": {},
   "outputs": [],
   "source": [
    "# Here we plot the temperature for december 2022\n",
    "ds[\"t2m\"].sel(time='2022-12-02').plot(figsize=(10,7))"
   ]
  },
  {
   "cell_type": "markdown",
   "metadata": {},
   "source": [
    "Suppose we want to calculate the seasonal average. To do this properly, we need to calculate the weighted average considering that each month has a different number of days.\n",
    "\n",
    "We first have to come up with the weights - calculate the month length for each monthly data record "
   ]
  },
  {
   "cell_type": "code",
   "execution_count": null,
   "metadata": {},
   "outputs": [],
   "source": [
    "# Get the length of each monthly data record\n",
    "month_length = ds.time.dt.days_in_month\n",
    "\n",
    "# Plot the result\n",
    "month_length"
   ]
  },
  {
   "cell_type": "markdown",
   "metadata": {},
   "source": [
    "Then we calculate the weights using groupby('time.season')"
   ]
  },
  {
   "cell_type": "code",
   "execution_count": null,
   "metadata": {},
   "outputs": [],
   "source": [
    "# Calculate the weights by grouping by 'time.season'.\n",
    "weights = (\n",
    "    month_length.groupby(\"time.season\") / month_length.groupby(\"time.season\").sum()\n",
    ")\n",
    "\n",
    "# Test that the sum of the weights for each season is 1.0\n",
    "np.testing.assert_allclose(weights.groupby(\"time.season\").sum().values, np.ones(4))"
   ]
  },
  {
   "cell_type": "markdown",
   "metadata": {},
   "source": [
    "Finally, we can weight the months and sum the result"
   ]
  },
  {
   "cell_type": "code",
   "execution_count": null,
   "metadata": {},
   "outputs": [],
   "source": [
    "# Calculate the weighted average\n",
    "ds_weighted = (ds * weights).groupby(\"time.season\").sum(dim=\"time\")"
   ]
  },
  {
   "cell_type": "code",
   "execution_count": null,
   "metadata": {},
   "outputs": [],
   "source": [
    "# Quick plot to show the results\n",
    "notnull = pd.notnull(ds_weighted[\"t2m\"][0])\n",
    "\n",
    "fig, axes = plt.subplots(nrows=2, ncols=2, figsize=(12, 8))\n",
    "\n",
    "ds_weighted[\"t2m\"].sel(season='DJF').where(notnull).plot.pcolormesh(\n",
    "    ax=axes[0, 0],\n",
    "    vmin=250,\n",
    "    vmax=310,\n",
    "    cmap=\"Spectral_r\",\n",
    "    add_colorbar=True,\n",
    "    extend=\"both\",\n",
    ")\n",
    "ds_weighted[\"t2m\"].sel(season='MAM').where(notnull).plot.pcolormesh(\n",
    "    ax=axes[0, 1],\n",
    "    vmin=250,\n",
    "    vmax=310,\n",
    "    cmap=\"Spectral_r\",\n",
    "    add_colorbar=True,\n",
    "    extend=\"both\",\n",
    ")\n",
    "ds_weighted[\"t2m\"].sel(season='JJA').where(notnull).plot.pcolormesh(\n",
    "    ax=axes[1, 0],\n",
    "    vmin=250,\n",
    "    vmax=310,\n",
    "    cmap=\"Spectral_r\",\n",
    "    add_colorbar=True,\n",
    "    extend=\"both\",\n",
    ")\n",
    "ds_weighted[\"t2m\"].sel(season='SON').where(notnull).plot.pcolormesh(\n",
    "    ax=axes[1, 1],\n",
    "    vmin=250,\n",
    "    vmax=310,\n",
    "    cmap=\"Spectral_r\",\n",
    "    add_colorbar=True,\n",
    "    extend=\"both\",\n",
    ")\n",
    "\n",
    "for ax in axes.flat:\n",
    "    ax.axes.get_xaxis().set_ticklabels([])\n",
    "    ax.axes.get_yaxis().set_ticklabels([])\n",
    "    ax.axes.axis(\"tight\")\n",
    "    ax.set_xlabel(\"\")\n",
    "\n",
    "#axes[0, 0].set_title(\"Weighted by DPM\")\n",
    "#axes[0, 1].set_title(\"Equal Weighting\")\n",
    "#axes[0, 2].set_title(\"Difference\")\n",
    "\n",
    "plt.tight_layout()\n",
    "\n",
    "fig.suptitle(\"Seasonal Surface Air Temperature\", fontsize=16, y=1.02)"
   ]
  },
  {
   "cell_type": "markdown",
   "metadata": {},
   "source": [
    "You can write the results to disc"
   ]
  },
  {
   "cell_type": "code",
   "execution_count": null,
   "metadata": {},
   "outputs": [],
   "source": [
    "# Use *.to_netcdf to the write a dataset to a netcdf file\n",
    "ds_weighted.to_netcdf('weigthed_temperatures.nc')"
   ]
  },
  {
   "cell_type": "markdown",
   "metadata": {},
   "source": [
    "<div class=\"alert alert-block alert-info\">\n",
    "<b>Reminder</b> \n",
    "<ul>\n",
    "    <li>Import the package, aka <b>import xarray as xr</b>\n",
    "    <li>Data is stored as DataArray and Dataset\n",
    "    <li>Dataset is a multi-dimensional container of DataArray objects aligned along any number of shared dimensions, e.g. coordinates\n",
    "    <li>You can do things by applying a method to a DataArray or Dataset\n",
    "    </ul> \n",
    "</div>"
   ]
  },
  {
   "cell_type": "markdown",
   "metadata": {},
   "source": [
    "<div class=\"alert alert-block alert-warning\">\n",
    "<b>Homework:</b> Check out the xarray <a href=\"https://docs.xarray.dev/en/stable/index.html\">tutorial</a> and get familiar with the syntax.\n",
    "</div>"
   ]
  }
 ],
 "metadata": {
  "kernelspec": {
   "display_name": "meteo",
   "language": "python",
   "name": "meteo"
  },
  "language_info": {
   "codemirror_mode": {
    "name": "ipython",
    "version": 3
   },
   "file_extension": ".py",
   "mimetype": "text/x-python",
   "name": "python",
   "nbconvert_exporter": "python",
   "pygments_lexer": "ipython3",
   "version": "3.11.3"
  }
 },
 "nbformat": 4,
 "nbformat_minor": 4
}
